{
 "cells": [
  {
   "cell_type": "markdown",
   "metadata": {},
   "source": [
    "<img src=\"Athlete.jpg\" />"
   ]
  },
  {
   "cell_type": "markdown",
   "metadata": {},
   "source": [
    "The following jupyter notebook concerns the performance of sport athletes based on a number of variables. In this notebook, I am required to:\n",
    "\n",
    "1. Choose a real-world phenomenon that can be measured and for which you could collect at least one-hundred data points across at least four different variables.\n",
    "\n",
    "2. Investigate the types of variables involved, their likely distributions, and their relationships with each other.\n",
    "\n",
    "3. Synthesise/simulate a data set as closely matching their properties as possible.\n",
    "\n",
    "4. Detail your research and implement the simulation in a Jupyter notebook – the data set itself can simply be displayed in an output cell within the notebook.\n",
    "\n",
    "\n",
    "\n"
   ]
  },
  {
   "cell_type": "markdown",
   "metadata": {},
   "source": [
    "## Introduction"
   ]
  },
  {
   "cell_type": "markdown",
   "metadata": {},
   "source": [
    "The real world phenomenon this juypter notebook is going to concentrate on is the performance of sport athletes. Analysing sport performance in any sport allows both players and coaches to acquire information and to dissect this information to improve player performance.\n",
    "\n",
    "We will investigate factors that have an effect on players performance. We will provide detail analysis on each factor and their relationship with each other. These factors include age, hours trained, alcohol, nutrition & recovery hours. Once this analysis is complete we will then create a data set based on the data collected.  \n",
    "\n",
    "We will use a sample size of 150 atheletes that will be randomly generated. We will import all necessary libraries from Python. "
   ]
  },
  {
   "cell_type": "markdown",
   "metadata": {},
   "source": [
    "## Factors"
   ]
  },
  {
   "cell_type": "markdown",
   "metadata": {},
   "source": [
    "#### Age"
   ]
  },
  {
   "cell_type": "markdown",
   "metadata": {},
   "source": [
    "The first factor we are going to look at is the age of an athlete. Athletes performance decreases as they get older. Generally speaking, athletes start to see physical declines at age 26, give or take. (This would seem in line with the long-standing notion in baseball that players tend to hit their peak anywhere from ages 27 to 30.) For swimmers, the news is more sobering, as the mean peak age is 21. For chess grandmasters, participating in an activity that relies more than mental acuity and sharpness rather than brute, acquired physicality, the peak age is closer to 31.4. [[Wired]](https://www.wired.com/2011/07/athletes-peak-age/)\n",
    "\n",
    "One big reason we see declines in aerobic (or endurance) athletic performance with age is that our bodies can’t use oxygen as effectively. The maximal ability to utilize oxygen (VO2max) is a predictor of endurance performance across ages. VO2max is a numerical value that describes how much oxygen your body can use per kilogram of body weight.\n",
    "VO2max is affected by how well your body can bring oxygen into the lungs, how well this is carried in our blood to the working muscles, and how much oxygen the muscles can use to fuel contraction. [[Mashable]](https://mashable.com/2015/07/07/aging-athletic-performance/?europe=true#YZXRDfVzwaqZ)\n",
    "\n",
    "The most relevant distribution for the age factor would be the normal distribution. The reason for this is that the majority of the values sits around the mean which is 27 when athletes hit the peak. Before the age of 27, athletes are learning their trade before they reach their peak. While after factors start negatively affecting athletes performance. \n",
    "\n",
    "We will create random points between 19 and 33 as our age range as studies have indicated that on average professional athletes retire at the age of 33. [[Voa]]( https://www.voanews.com/a/professional-athletes-prepare-for-life-after-sports-118377659/163130.html)"
   ]
  },
  {
   "cell_type": "code",
   "execution_count": 10,
   "metadata": {},
   "outputs": [
    {
     "data": {
      "text/plain": [
       "array([ 29.,  28.,  31.,  30.,  24.,  26.,  26.,  22.,  29.,  23.,  28.,\n",
       "        22.,  30.,  23.,  25.,  24.,  22.,  24.,  19.,  27.,  19.,  29.,\n",
       "        27.,  29.,  27.,  31.,  32.,  24.,  23.,  25.,  23.,  29.,  26.,\n",
       "        23.,  27.,  25.,  24.,  23.,  30.,  27.,  25.,  30.,  25.,  26.,\n",
       "        22.,  21.,  27.,  27.,  24.,  32.,  25.,  32.,  26.,  26.,  30.,\n",
       "        31.,  24.,  20.,  19.,  26.,  14.,  40.,  25.,  22.,  28.,  27.,\n",
       "        23.,  28.,  27.,  30.,  26.,  28.,  26.,  29.,  24.,  33.,  29.,\n",
       "        25.,  29.,  29.,  22.,  26.,  27.,  28.,  22.,  24.,  24.,  26.,\n",
       "        18.,  25.,  20.,  25.,  27.,  24.,  22.,  32.,  26.,  22.,  31.,\n",
       "        33.,  28.,  28.,  23.,  33.,  23.,  23.,  24.,  30.,  23.,  35.,\n",
       "        33.,  26.,  27.,  26.,  27.,  26.,  30.,  18.,  26.,  23.,  20.,\n",
       "        19.,  25.,  29.,  32.,  22.,  27.,  20.,  31.,  22.,  27.,  27.,\n",
       "        28.,  31.,  24.,  27.,  32.,  24.,  39.,  22.,  23.,  27.,  21.,\n",
       "        25.,  21.,  23.,  15.,  27.,  30.,  26.])"
      ]
     },
     "execution_count": 10,
     "metadata": {},
     "output_type": "execute_result"
    }
   ],
   "source": [
    "%matplotlib inline\n",
    "\n",
    "#Import the necessary libraries\n",
    "import numpy as np\n",
    "import pandas as pd\n",
    "import matplotlib.pyplot as plt\n",
    "import collections, numpy\n",
    "import seaborn as sns\n",
    "\n",
    "# Fixing random state for reproducibility\n",
    "np.random.seed(666)\n",
    "\n",
    "#Randomly generate numbers age around the mean of 26 and std 4\n",
    "age = np.random.normal(26, 4, size=150).round()\n",
    "age"
   ]
  },
  {
   "cell_type": "code",
   "execution_count": 11,
   "metadata": {},
   "outputs": [
    {
     "data": {
      "text/plain": [
       "26.0"
      ]
     },
     "execution_count": 11,
     "metadata": {},
     "output_type": "execute_result"
    }
   ],
   "source": [
    "np.mean(age).round(0)"
   ]
  },
  {
   "cell_type": "code",
   "execution_count": 12,
   "metadata": {},
   "outputs": [
    {
     "data": {
      "text/plain": [
       "4.0"
      ]
     },
     "execution_count": 12,
     "metadata": {},
     "output_type": "execute_result"
    }
   ],
   "source": [
    "np.std(age).round(0)"
   ]
  },
  {
   "cell_type": "code",
   "execution_count": 13,
   "metadata": {},
   "outputs": [
    {
     "data": {
      "image/png": "[encoded data removed]",
      "text/plain": [
       "<matplotlib.figure.Figure at 0x1f8efc84828>"
      ]
     },
     "metadata": {},
     "output_type": "display_data"
    }
   ],
   "source": [
    "np.random.seed(666)\n",
    "mu, sigma = 26, 4 # mean and standard deviation\n",
    "count, bins, ignored = plt.hist(age, 20, density=True)\n",
    "plt.show()"
   ]
  },
  {
   "cell_type": "markdown",
   "metadata": {},
   "source": [
    "#### Hours Trained"
   ]
  },
  {
   "cell_type": "markdown",
   "metadata": {},
   "source": [
    "The next factor the has a negative impact on the performance is where a athletes over or under train. The optimal training will depend on the athletes discipline but the average hours trained is 6 hours per day.\n",
    "\n",
    "Where an athlete overtrains this is know as the overtraining syndrome. This is clearly an issue for athletes and coaches at elite level. This is defined as an undesirable training outcome with negative performance development as an end result, potentially being a factor contributing to athlete burnout (Kenttä & Hassmèn, 1998). [[Believe]](https://believeperform.com/performance/overtraining-how-to-prevent-it/). Other factors include insomnia, physcology and recovery.\n",
    "\n",
    "There are many reasons for undertraining – more skilled athletes usually undertrain due to lack of confidence and anxiety around fear of not winning and winning. However, motivation is a top reason for less skilled athletes who undertrain.[[DR]]( https://drmichellecleere.com/blog/undertraining-and-overtraining/)\n",
    "\n",
    "Let's create a randomly set of data points for 150 athletes. Similar to the age factor, training hours also has a normal distribution."
   ]
  },
  {
   "cell_type": "code",
   "execution_count": 14,
   "metadata": {},
   "outputs": [
    {
     "data": {
      "text/plain": [
       "array([ 7.,  6.,  7.,  7.,  5.,  6.,  6.,  5.,  7.,  5.,  7.,  5.,  7.,\n",
       "        5.,  6.,  6.,  5.,  5.,  4.,  6.,  4.,  7.,  6.,  7.,  6.,  7.,\n",
       "        8.,  5.,  5.,  6.,  5.,  7.,  6.,  5.,  6.,  6.,  5.,  5.,  7.,\n",
       "        6.,  6.,  7.,  6.,  6.,  5.,  5.,  6.,  6.,  6.,  7.,  6.,  8.,\n",
       "        6.,  6.,  7.,  7.,  6.,  4.,  4.,  6.,  3.,  9.,  6.,  5.,  7.,\n",
       "        6.,  5.,  7.,  6.,  7.,  6.,  7.,  6.,  7.,  5.,  8.,  7.,  6.,\n",
       "        7.,  7.,  5.,  6.,  6.,  7.,  5.,  5.,  5.,  6.,  4.,  6.,  4.,\n",
       "        6.,  6.,  5.,  5.,  8.,  6.,  5.,  7.,  8.,  7.,  7.,  5.,  8.,\n",
       "        5.,  5.,  6.,  7.,  5.,  8.,  8.,  6.,  6.,  6.,  6.,  6.,  7.,\n",
       "        4.,  6.,  5.,  4.,  4.,  6.,  7.,  7.,  5.,  6.,  4.,  7.,  5.,\n",
       "        6.,  6.,  6.,  7.,  5.,  6.,  7.,  6.,  9.,  5.,  5.,  6.,  5.,\n",
       "        6.,  5.,  5.,  3.,  6.,  7.,  6.])"
      ]
     },
     "execution_count": 14,
     "metadata": {},
     "output_type": "execute_result"
    }
   ],
   "source": [
    "#Randomly generate hours per day between 3 and 10 for a 150 data points\n",
    "tra = np.random.normal(6,1, size=150).round(0)\n",
    "tra"
   ]
  },
  {
   "cell_type": "code",
   "execution_count": 15,
   "metadata": {},
   "outputs": [
    {
     "data": {
      "text/plain": [
       "Counter({4.0: 14, 5.0: 27, 6.0: 56, 7.0: 42, 8.0: 10, 9.0: 1})"
      ]
     },
     "execution_count": 15,
     "metadata": {},
     "output_type": "execute_result"
    }
   ],
   "source": [
    "a = numpy.array([ 6.,  7.,  4.,  5.,  8.,  5.,  8.,  7.,  6.,  4.,  4.,  5.,  7.,\n",
    "        6.,  7.,  6.,  6.,  6.,  6.,  4.,  6.,  5.,  6.,  6.,  5.,  6.,\n",
    "        5.,  6.,  7.,  6.,  6.,  7.,  8.,  7.,  6.,  6.,  8.,  6.,  7.,\n",
    "        6.,  5.,  6.,  7.,  7.,  6.,  6.,  6.,  5.,  5.,  4.,  6.,  6.,\n",
    "        5.,  7.,  4.,  4.,  5.,  6.,  5.,  6.,  7.,  6.,  6.,  9.,  7.,\n",
    "        8.,  6.,  7.,  6.,  7.,  7.,  4.,  8.,  6.,  5.,  5.,  7.,  7.,\n",
    "        6.,  7.,  6.,  6.,  7.,  7.,  4.,  6.,  5.,  7.,  5.,  7.,  8.,\n",
    "        7.,  5.,  7.,  6.,  7.,  6.,  7.,  7.,  6.,  7.,  4.,  5.,  6.,\n",
    "        8.,  6.,  6.,  6.,  6.,  7.,  6.,  7.,  6.,  5.,  6.,  6.,  8.,\n",
    "        6.,  7.,  7.,  6.,  6.,  7.,  7.,  5.,  7.,  7.,  5.,  7.,  7.,\n",
    "        7.,  5.,  6.,  6.,  5.,  5.,  6.,  4.,  4.,  6.,  4.,  6.,  7.,\n",
    "        5.,  5.,  6.,  4.,  5.,  8.,  7.])\n",
    "collections.Counter(a)"
   ]
  },
  {
   "cell_type": "code",
   "execution_count": 18,
   "metadata": {},
   "outputs": [
    {
     "data": {
      "text/plain": [
       "6.0"
      ]
     },
     "execution_count": 18,
     "metadata": {},
     "output_type": "execute_result"
    }
   ],
   "source": [
    "np.mean(tra).round()"
   ]
  },
  {
   "cell_type": "code",
   "execution_count": 19,
   "metadata": {},
   "outputs": [
    {
     "data": {
      "text/plain": [
       "1.0"
      ]
     },
     "execution_count": 19,
     "metadata": {},
     "output_type": "execute_result"
    }
   ],
   "source": [
    "np.std(tra).round()"
   ]
  },
  {
   "cell_type": "code",
   "execution_count": 20,
   "metadata": {},
   "outputs": [
    {
     "data": {
      "image/png": "[encoded data removed]",
      "text/plain": [
       "<matplotlib.figure.Figure at 0x1f8f0144cc0>"
      ]
     },
     "metadata": {},
     "output_type": "display_data"
    }
   ],
   "source": [
    "mu, sigma = 6, 1 # mean and standard deviation\n",
    "y = np.random.normal(mu, sigma, 150)\n",
    "count, bins, ignored = plt.hist(y, 30, density=True)\n",
    "plt.show()"
   ]
  },
  {
   "cell_type": "markdown",
   "metadata": {},
   "source": [
    "#### Alcohol"
   ]
  },
  {
   "cell_type": "markdown",
   "metadata": {},
   "source": [
    "The another variable that has an effect on athletes performance is whether the athlete is a alcohol. Alcohol can  affect endurance,  reaction time and recovery. \n",
    "\n",
    "In relation to endurance.- the blood sugar your body needs for energy is produced by the liver when it releases glucose into the blood stream. Drinking alcohol in the 48 hour period before competing or training reduces your body’s ability to produce this sugar, so you have less energy and less endurance capacity. Alcohol also impair the absorption of nutrients such as zinc (energy metabolism), vitamins B1 and B12 (healthy blood, oxygen transport). Alcohol can affect the production of adenosine triphosphate (ATP), which is your muscles' source of energy. [[Ask]](http://www.askaboutalcohol./health/sports-performance/)\n",
    "\n",
    "Reaction time - Alcohol is a sedative and it can affect your sports performance for up to 72 hours after you have finished drinking. Some team-game players think they have less tension and increased relaxation as a result of alcohol. The actual result, however, is poorer hand-eye coordination and slower responses. [[Ask]](http://www.askaboutalcohol./health/sports-performance/)\n",
    "\n",
    "Recovery - Alcohol’s effect on sleep can reduce the amount of human growth hormone (HGH) in your body. HGH is part of normal muscle building and repair processes. Alcohol can also reduce testosterone, which is needed for muscle development and recovery.\n",
    "[[Ask]](http://www.askaboutalcohol./health/sports-performance/)\n",
    "\n",
    "\n",
    "\n"
   ]
  },
  {
   "cell_type": "code",
   "execution_count": 21,
   "metadata": {
    "scrolled": true
   },
   "outputs": [
    {
     "data": {
      "text/plain": [
       "array(['Yes', 'Yes', 'Yes', 'No', 'No', 'Yes', 'No', 'Yes', 'Yes', 'Yes',\n",
       "       'No', 'No', 'No', 'No', 'No', 'Yes', 'No', 'No', 'No', 'No', 'No',\n",
       "       'No', 'Yes', 'No', 'Yes', 'No', 'Yes', 'Yes', 'Yes', 'No', 'Yes',\n",
       "       'No', 'Yes', 'Yes', 'Yes', 'Yes', 'Yes', 'Yes', 'Yes', 'Yes', 'No',\n",
       "       'No', 'No', 'No', 'Yes', 'Yes', 'No', 'No', 'No', 'No', 'No', 'No',\n",
       "       'No', 'No', 'No', 'Yes', 'Yes', 'Yes', 'No', 'Yes', 'No', 'Yes',\n",
       "       'Yes', 'No', 'Yes', 'No', 'No', 'No', 'Yes', 'Yes', 'Yes', 'No',\n",
       "       'No', 'No', 'No', 'No', 'No', 'Yes', 'Yes', 'No', 'Yes', 'No',\n",
       "       'Yes', 'Yes', 'No', 'No', 'Yes', 'No', 'Yes', 'No', 'No', 'No',\n",
       "       'No', 'No', 'Yes', 'Yes', 'No', 'No', 'Yes', 'No', 'No', 'No',\n",
       "       'Yes', 'Yes', 'No', 'No', 'No', 'Yes', 'No', 'No', 'Yes', 'No',\n",
       "       'Yes', 'No', 'Yes', 'Yes', 'No', 'Yes', 'No', 'No', 'Yes', 'Yes',\n",
       "       'No', 'Yes', 'No', 'No', 'Yes', 'No', 'No', 'No', 'Yes', 'Yes',\n",
       "       'No', 'Yes', 'No', 'No', 'No', 'No', 'Yes', 'No', 'Yes', 'No',\n",
       "       'Yes', 'Yes', 'No', 'Yes', 'No', 'No', 'No', 'Yes'],\n",
       "      dtype='<U3')"
      ]
     },
     "execution_count": 21,
     "metadata": {},
     "output_type": "execute_result"
    }
   ],
   "source": [
    "# Fixing random state for reproducibility\n",
    "np.random.seed(555555)\n",
    "\n",
    "alco = np.random.choice([\"No\", \"Yes\"], size=150)\n",
    "alco"
   ]
  },
  {
   "cell_type": "code",
   "execution_count": 22,
   "metadata": {},
   "outputs": [
    {
     "data": {
      "text/plain": [
       "150"
      ]
     },
     "execution_count": 22,
     "metadata": {},
     "output_type": "execute_result"
    }
   ],
   "source": [
    "len(alco)"
   ]
  },
  {
   "cell_type": "code",
   "execution_count": 23,
   "metadata": {},
   "outputs": [
    {
     "data": {
      "text/plain": [
       "Counter({'No': 85, 'Yes': 65})"
      ]
     },
     "execution_count": 23,
     "metadata": {},
     "output_type": "execute_result"
    }
   ],
   "source": [
    "b = numpy.array(['Yes', 'Yes', 'Yes', 'No', 'No', 'Yes', 'No', 'Yes', 'Yes', 'Yes',\n",
    "       'No', 'No', 'No', 'No', 'No', 'Yes', 'No', 'No', 'No', 'No', 'No',\n",
    "       'No', 'Yes', 'No', 'Yes', 'No', 'Yes', 'Yes', 'Yes', 'No', 'Yes',\n",
    "       'No', 'Yes', 'Yes', 'Yes', 'Yes', 'Yes', 'Yes', 'Yes', 'Yes', 'No',\n",
    "       'No', 'No', 'No', 'Yes', 'Yes', 'No', 'No', 'No', 'No', 'No', 'No',\n",
    "       'No', 'No', 'No', 'Yes', 'Yes', 'Yes', 'No', 'Yes', 'No', 'Yes',\n",
    "       'Yes', 'No', 'Yes', 'No', 'No', 'No', 'Yes', 'Yes', 'Yes', 'No',\n",
    "       'No', 'No', 'No', 'No', 'No', 'Yes', 'Yes', 'No', 'Yes', 'No',\n",
    "       'Yes', 'Yes', 'No', 'No', 'Yes', 'No', 'Yes', 'No', 'No', 'No',\n",
    "       'No', 'No', 'Yes', 'Yes', 'No', 'No', 'Yes', 'No', 'No', 'No',\n",
    "       'Yes', 'Yes', 'No', 'No', 'No', 'Yes', 'No', 'No', 'Yes', 'No',\n",
    "       'Yes', 'No', 'Yes', 'Yes', 'No', 'Yes', 'No', 'No', 'Yes', 'Yes',\n",
    "       'No', 'Yes', 'No', 'No', 'Yes', 'No', 'No', 'No', 'Yes', 'Yes',\n",
    "       'No', 'Yes', 'No', 'No', 'No', 'No', 'Yes', 'No', 'Yes', 'No',\n",
    "       'Yes', 'Yes', 'No', 'Yes', 'No', 'No', 'No', 'Yes'])\n",
    "collections.Counter(b)"
   ]
  },
  {
   "cell_type": "markdown",
   "metadata": {},
   "source": [
    "#### Calories"
   ]
  },
  {
   "cell_type": "markdown",
   "metadata": {
    "collapsed": true
   },
   "source": [
    "Most people have heard the general recommendation that adults eat about 2,000 calories per day. For athletes, however, that may not be enough. As people who ask a lot of their bodies, athletes need extra calories to fuel their activities and to encourage muscles and bones to continue strengthening. [[Calories]]( https://healthyeating.sfgate.com/caloric-needs-athletes-7179.html)\n",
    "\n",
    "Each athlete will need to consume enough calories in order to perform at their best depending on their discipline but overall the average for an elite athletes is over 3000 calories per day. Eating the right amount of food at the right times is important for athletes because it helps build and fuel muscles. Carbohydrates and fat help fuel performance, while protein helps build muscle. A lack of water can decrease the effectiveness of workouts and cause cramping during competition. Sports drinks help athletes not only stay hydrated during games, matches and races, but also restore depleted glycogen, sodium, potassium and other electrolytes. [[Healthy]]( https://healthyliving.azcentral.com/list-factors-influencing-athletic-performance-4356.html)"
   ]
  },
  {
   "cell_type": "code",
   "execution_count": 24,
   "metadata": {},
   "outputs": [
    {
     "data": {
      "text/plain": [
       "array([ 3318.,  1818.,  3582.,  3884.,  4375.,  3565.,  4725.,  2095.,\n",
       "        2485.,  3842.,  1970.,  3042.,  5004.,  3428.,  2291.,  1774.,\n",
       "        2703.,  4945.,  1029.,  3265.,  2562.,  4007.,  4137.,   719.,\n",
       "        3676.,  2634.,  3032.,  4454.,  2504.,  3219.,  4375.,  2859.,\n",
       "        3101.,  2654.,  3259.,  3501.,   787.,  3456.,  4639.,  4113.,\n",
       "        2573.,  3097.,  2838.,  3320.,  4623.,  2378.,  2224.,  2642.,\n",
       "        2499.,  4025.,  1913.,  2747.,  2443.,  2052.,  2422.,  2412.,\n",
       "        3104.,  2419.,  3591.,  2908.,  1515.,  1645.,  2914.,  3521.,\n",
       "        2772.,  5344.,  3259.,  3495.,  3835.,  2200.,  2078.,  3443.,\n",
       "        2417.,  1205.,  2471.,  3371.,  1994.,  2130.,  3400.,  1402.,\n",
       "        2687.,  2748.,  3805.,  2469.,  1634.,  4206.,  2153.,  3121.,\n",
       "        1701.,  2873.,  3524.,  4213.,  4113.,  3966.,  5480.,  2473.,\n",
       "        3912.,  3691.,  2733.,   612.,  2017.,  3296.,  1639.,  2158.,\n",
       "        4101.,  2736.,  2622.,  4358.,  4825.,  3027.,  1538.,  2368.,\n",
       "        2698.,  4299.,  1857.,  1877.,  2533.,  3009.,  2891.,  4624.,\n",
       "        1109.,  4450.,  2719.,  2655.,  3003.,  3443.,  2326.,  3226.,\n",
       "        3834.,  4464.,  2527.,  4429.,  3637.,  2783.,  2339.,  4745.,\n",
       "        2426.,  2040.,  2205.,  3589.,  3054.,  2131.,  3287.,  1868.,\n",
       "        5042.,  3393.,  4665.,  1939.,  2931.,  4295.])"
      ]
     },
     "execution_count": 24,
     "metadata": {},
     "output_type": "execute_result"
    }
   ],
   "source": [
    "cal = np.random.normal(3000,1000,size=150).round()\n",
    "cal"
   ]
  },
  {
   "cell_type": "code",
   "execution_count": 25,
   "metadata": {},
   "outputs": [
    {
     "data": {
      "image/png": "[encoded data removed]",
      "text/plain": [
       "<matplotlib.figure.Figure at 0x1f8efce2390>"
      ]
     },
     "metadata": {},
     "output_type": "display_data"
    }
   ],
   "source": [
    "count, patch, ignored = plt.hist(cal, 30, density=False)\n",
    "plt.show()"
   ]
  },
  {
   "cell_type": "markdown",
   "metadata": {
    "collapsed": true
   },
   "source": [
    "#### Recovery"
   ]
  },
  {
   "cell_type": "markdown",
   "metadata": {},
   "source": [
    "Many athletes complain that the ability to recover from hard bouts of exercise diminishes. This can affect the intensity and volume of training of all athletes. But in many contact sports, such as professional American football or rugby, recovering from injuries and the cumulative effects of hard hits becomes the limiting factor in continuing to play at the highest level.[[Mashable]]( https://mashable.com/2015/07/07/aging-athletic-performance/?europe=true#YZXRDfVzwaqZ)\n",
    "\n",
    "Building recovery time into any training program is important because this is the time that the body adapts to the stress of exercise and the real training effect takes place. Recovery also allows the body to replenish energy stores and repair damaged tissues. Recovery time allows these stores to be replenished and allows tissue repair to occur. Without sufficient time to repair and replenish, the body will continue to breakdown from intensive exercise. [[Well]]( https://www.verywellfit.com/the-benefits-of-rest-and-recovery-after-exercise-3120575)\n",
    "\n",
    "A crucial part of recovery is sleep. Studies show that an appropriate amount of sleep can improve speed, accuracy, and reaction time in athletes. For an ordianary person, the average amount of sleep is 8 hours. Athletes would need more and there average amount of sleep is closer to 9 hours per day."
   ]
  },
  {
   "cell_type": "code",
   "execution_count": 26,
   "metadata": {},
   "outputs": [
    {
     "data": {
      "text/plain": [
       "array([  9.,   8.,   9.,   8.,  15.,  11.,   9.,   9.,   8.,   8.,   8.,\n",
       "         8.,   8.,   9.,   9.,   8.,   9.,  10.,   9.,   9.,  10.,   8.,\n",
       "         8.,   9.,   8.,   8.,   8.,   8.,   9.,   9.,  10.,   9.,   8.,\n",
       "         8.,   9.,   8.,   9.,   8.,   9.,  10.,  12.,   8.,   8.,   9.,\n",
       "         8.,   8.,   9.,   9.,   8.,  10.,   9.,   8.,  10.,  11.,   9.,\n",
       "        10.,  12.,  10.,   9.,   8.,   8.,  11.,   8.,   9.,  10.,   9.,\n",
       "         9.,   9.,   8.,  12.,   8.,   9.,   9.,  10.,   9.,  10.,   8.,\n",
       "         9.,   8.,   9.,   8.,   9.,  10.,   9.,   8.,   9.,   9.,  10.,\n",
       "         8.,   9.,   8.,   9.,   9.,  11.,   9.,  10.,  14.,  15.,   9.,\n",
       "         9.,   9.,   8.,  12.,   9.,   8.,   8.,   8.,   8.,  10.,   9.,\n",
       "         9.,  10.,  10.,   8.,   8.,   8.,   8.,   8.,   8.,  10.,   8.,\n",
       "        12.,   9.,   9.,   8.,   8.,   8.,   9.,   9.,  11.,   9.,   8.,\n",
       "         9.,   8.,  11.,  10.,  10.,  10.,   8.,   8.,   9.,   8.,   8.,\n",
       "         9.,   8.,   9.,   8.,   9.,   9.,   8.])"
      ]
     },
     "execution_count": 26,
     "metadata": {},
     "output_type": "execute_result"
    }
   ],
   "source": [
    "a, m = 8, 8.  # shape and mode\n",
    "rec = ((np.random.pareto(a, 150) + 1) * m).round()\n",
    "rec"
   ]
  },
  {
   "cell_type": "code",
   "execution_count": 27,
   "metadata": {},
   "outputs": [
    {
     "data": {
      "image/png": "[encoded data removed]",
      "text/plain": [
       "<matplotlib.figure.Figure at 0x1f8f01ad710>"
      ]
     },
     "metadata": {},
     "output_type": "display_data"
    }
   ],
   "source": [
    "count, bins, _ = plt.hist(rec, 100, normed=True)\n",
    "plt.show()"
   ]
  },
  {
   "cell_type": "markdown",
   "metadata": {},
   "source": [
    "## Age vs Recovery"
   ]
  },
  {
   "cell_type": "markdown",
   "metadata": {},
   "source": [
    "There has been a lot of research about whether the older an athlete becomes the longer it takes to recover. Some research has indicated the age is not a factor in recovery while others think the opposite. BUt the most comprehensive research we found indicates that older athletes do take longer to recovery. But this is more to do master athletes rather than professional athletes so these factors have no relevant. From thes studies undertaken by Master Athletes in Australia, they have concluded that regular training into later life by masters athletes does not appear to offset the age-related impairments in muscle protein metabolism. We also conclude that higher protein feedings may be beneficial to recovery for subsequent training or competition performance in masters athletes.[[Master]]( http://www.mastersathlete.com.au/2017/03/weve-proved-it-older-athletes-do-take-longer-to-recover/)"
   ]
  },
  {
   "cell_type": "markdown",
   "metadata": {},
   "source": [
    "## Trained vs Recovery"
   ]
  },
  {
   "cell_type": "code",
   "execution_count": 28,
   "metadata": {
    "scrolled": true
   },
   "outputs": [
    {
     "data": {
      "text/html": [
       "<div>\n",
       "<style>\n",
       "    .dataframe thead tr:only-child th {\n",
       "        text-align: right;\n",
       "    }\n",
       "\n",
       "    .dataframe thead th {\n",
       "        text-align: left;\n",
       "    }\n",
       "\n",
       "    .dataframe tbody tr th {\n",
       "        vertical-align: top;\n",
       "    }\n",
       "</style>\n",
       "<table border=\"1\" class=\"dataframe\">\n",
       "  <thead>\n",
       "    <tr style=\"text-align: right;\">\n",
       "      <th></th>\n",
       "      <th>Recovery</th>\n",
       "      <th>Train</th>\n",
       "    </tr>\n",
       "  </thead>\n",
       "  <tbody>\n",
       "    <tr>\n",
       "      <th>0</th>\n",
       "      <td>9.0</td>\n",
       "      <td>7.0</td>\n",
       "    </tr>\n",
       "    <tr>\n",
       "      <th>1</th>\n",
       "      <td>8.0</td>\n",
       "      <td>6.0</td>\n",
       "    </tr>\n",
       "    <tr>\n",
       "      <th>2</th>\n",
       "      <td>9.0</td>\n",
       "      <td>7.0</td>\n",
       "    </tr>\n",
       "    <tr>\n",
       "      <th>3</th>\n",
       "      <td>8.0</td>\n",
       "      <td>7.0</td>\n",
       "    </tr>\n",
       "    <tr>\n",
       "      <th>4</th>\n",
       "      <td>15.0</td>\n",
       "      <td>5.0</td>\n",
       "    </tr>\n",
       "  </tbody>\n",
       "</table>\n",
       "</div>"
      ],
      "text/plain": [
       "   Recovery  Train\n",
       "0       9.0    7.0\n",
       "1       8.0    6.0\n",
       "2       9.0    7.0\n",
       "3       8.0    7.0\n",
       "4      15.0    5.0"
      ]
     },
     "execution_count": 28,
     "metadata": {},
     "output_type": "execute_result"
    }
   ],
   "source": [
    "hours = pd.DataFrame(data={'Recovery': rec, 'Train': tra})\n",
    "hours.head()"
   ]
  },
  {
   "cell_type": "code",
   "execution_count": 29,
   "metadata": {},
   "outputs": [
    {
     "data": {
      "image/png": "[encoded data removed]",
      "text/plain": [
       "<matplotlib.figure.Figure at 0x1f8f02e1eb8>"
      ]
     },
     "metadata": {},
     "output_type": "display_data"
    }
   ],
   "source": [
    "# Create a scatter plot showing recovery hours vs trained hours\n",
    "x = rec\n",
    "y = tra\n",
    "colors = np.random.rand(150)\n",
    "area = (30 * np.random.rand(150))**2  # 0 to 15 point radii\n",
    "\n",
    "plt.scatter(x, y, s=area, c=colors, alpha=0.5)\n",
    "plt.title(\"Hours\")\n",
    "plt.xlabel(\"Recovery\")\n",
    "plt.ylabel(\"Trained\")\n",
    "plt.show()"
   ]
  },
  {
   "cell_type": "markdown",
   "metadata": {
    "collapsed": true
   },
   "source": [
    "find the optimal point "
   ]
  },
  {
   "cell_type": "markdown",
   "metadata": {
    "collapsed": true
   },
   "source": [
    "factors 1. age 2. training per hours 3. alco 4 calories 5. recovery"
   ]
  },
  {
   "cell_type": "markdown",
   "metadata": {},
   "source": [
    " "
   ]
  },
  {
   "cell_type": "markdown",
   "metadata": {
    "collapsed": true
   },
   "source": [
    "## Dataframe"
   ]
  },
  {
   "cell_type": "code",
   "execution_count": 32,
   "metadata": {
    "scrolled": true
   },
   "outputs": [
    {
     "data": {
      "text/html": [
       "<div>\n",
       "<style>\n",
       "    .dataframe thead tr:only-child th {\n",
       "        text-align: right;\n",
       "    }\n",
       "\n",
       "    .dataframe thead th {\n",
       "        text-align: left;\n",
       "    }\n",
       "\n",
       "    .dataframe tbody tr th {\n",
       "        vertical-align: top;\n",
       "    }\n",
       "</style>\n",
       "<table border=\"1\" class=\"dataframe\">\n",
       "  <thead>\n",
       "    <tr style=\"text-align: right;\">\n",
       "      <th></th>\n",
       "      <th>Age</th>\n",
       "      <th>Alcohol</th>\n",
       "      <th>Calories</th>\n",
       "      <th>Recovery</th>\n",
       "      <th>Train</th>\n",
       "    </tr>\n",
       "  </thead>\n",
       "  <tbody>\n",
       "    <tr>\n",
       "      <th>0</th>\n",
       "      <td>29.0</td>\n",
       "      <td>Yes</td>\n",
       "      <td>3318.0</td>\n",
       "      <td>9.0</td>\n",
       "      <td>7.0</td>\n",
       "    </tr>\n",
       "    <tr>\n",
       "      <th>1</th>\n",
       "      <td>28.0</td>\n",
       "      <td>Yes</td>\n",
       "      <td>1818.0</td>\n",
       "      <td>8.0</td>\n",
       "      <td>6.0</td>\n",
       "    </tr>\n",
       "    <tr>\n",
       "      <th>2</th>\n",
       "      <td>31.0</td>\n",
       "      <td>Yes</td>\n",
       "      <td>3582.0</td>\n",
       "      <td>9.0</td>\n",
       "      <td>7.0</td>\n",
       "    </tr>\n",
       "    <tr>\n",
       "      <th>3</th>\n",
       "      <td>30.0</td>\n",
       "      <td>No</td>\n",
       "      <td>3884.0</td>\n",
       "      <td>8.0</td>\n",
       "      <td>7.0</td>\n",
       "    </tr>\n",
       "    <tr>\n",
       "      <th>4</th>\n",
       "      <td>24.0</td>\n",
       "      <td>No</td>\n",
       "      <td>4375.0</td>\n",
       "      <td>15.0</td>\n",
       "      <td>5.0</td>\n",
       "    </tr>\n",
       "    <tr>\n",
       "      <th>5</th>\n",
       "      <td>26.0</td>\n",
       "      <td>Yes</td>\n",
       "      <td>3565.0</td>\n",
       "      <td>11.0</td>\n",
       "      <td>6.0</td>\n",
       "    </tr>\n",
       "    <tr>\n",
       "      <th>6</th>\n",
       "      <td>26.0</td>\n",
       "      <td>No</td>\n",
       "      <td>4725.0</td>\n",
       "      <td>9.0</td>\n",
       "      <td>6.0</td>\n",
       "    </tr>\n",
       "    <tr>\n",
       "      <th>7</th>\n",
       "      <td>22.0</td>\n",
       "      <td>Yes</td>\n",
       "      <td>2095.0</td>\n",
       "      <td>9.0</td>\n",
       "      <td>5.0</td>\n",
       "    </tr>\n",
       "    <tr>\n",
       "      <th>8</th>\n",
       "      <td>29.0</td>\n",
       "      <td>Yes</td>\n",
       "      <td>2485.0</td>\n",
       "      <td>8.0</td>\n",
       "      <td>7.0</td>\n",
       "    </tr>\n",
       "    <tr>\n",
       "      <th>9</th>\n",
       "      <td>23.0</td>\n",
       "      <td>Yes</td>\n",
       "      <td>3842.0</td>\n",
       "      <td>8.0</td>\n",
       "      <td>5.0</td>\n",
       "    </tr>\n",
       "    <tr>\n",
       "      <th>10</th>\n",
       "      <td>28.0</td>\n",
       "      <td>No</td>\n",
       "      <td>1970.0</td>\n",
       "      <td>8.0</td>\n",
       "      <td>7.0</td>\n",
       "    </tr>\n",
       "    <tr>\n",
       "      <th>11</th>\n",
       "      <td>22.0</td>\n",
       "      <td>No</td>\n",
       "      <td>3042.0</td>\n",
       "      <td>8.0</td>\n",
       "      <td>5.0</td>\n",
       "    </tr>\n",
       "    <tr>\n",
       "      <th>12</th>\n",
       "      <td>30.0</td>\n",
       "      <td>No</td>\n",
       "      <td>5004.0</td>\n",
       "      <td>8.0</td>\n",
       "      <td>7.0</td>\n",
       "    </tr>\n",
       "    <tr>\n",
       "      <th>13</th>\n",
       "      <td>23.0</td>\n",
       "      <td>No</td>\n",
       "      <td>3428.0</td>\n",
       "      <td>9.0</td>\n",
       "      <td>5.0</td>\n",
       "    </tr>\n",
       "    <tr>\n",
       "      <th>14</th>\n",
       "      <td>25.0</td>\n",
       "      <td>No</td>\n",
       "      <td>2291.0</td>\n",
       "      <td>9.0</td>\n",
       "      <td>6.0</td>\n",
       "    </tr>\n",
       "    <tr>\n",
       "      <th>15</th>\n",
       "      <td>24.0</td>\n",
       "      <td>Yes</td>\n",
       "      <td>1774.0</td>\n",
       "      <td>8.0</td>\n",
       "      <td>6.0</td>\n",
       "    </tr>\n",
       "    <tr>\n",
       "      <th>16</th>\n",
       "      <td>22.0</td>\n",
       "      <td>No</td>\n",
       "      <td>2703.0</td>\n",
       "      <td>9.0</td>\n",
       "      <td>5.0</td>\n",
       "    </tr>\n",
       "    <tr>\n",
       "      <th>17</th>\n",
       "      <td>24.0</td>\n",
       "      <td>No</td>\n",
       "      <td>4945.0</td>\n",
       "      <td>10.0</td>\n",
       "      <td>5.0</td>\n",
       "    </tr>\n",
       "    <tr>\n",
       "      <th>18</th>\n",
       "      <td>19.0</td>\n",
       "      <td>No</td>\n",
       "      <td>1029.0</td>\n",
       "      <td>9.0</td>\n",
       "      <td>4.0</td>\n",
       "    </tr>\n",
       "    <tr>\n",
       "      <th>19</th>\n",
       "      <td>27.0</td>\n",
       "      <td>No</td>\n",
       "      <td>3265.0</td>\n",
       "      <td>9.0</td>\n",
       "      <td>6.0</td>\n",
       "    </tr>\n",
       "    <tr>\n",
       "      <th>20</th>\n",
       "      <td>19.0</td>\n",
       "      <td>No</td>\n",
       "      <td>2562.0</td>\n",
       "      <td>10.0</td>\n",
       "      <td>4.0</td>\n",
       "    </tr>\n",
       "    <tr>\n",
       "      <th>21</th>\n",
       "      <td>29.0</td>\n",
       "      <td>No</td>\n",
       "      <td>4007.0</td>\n",
       "      <td>8.0</td>\n",
       "      <td>7.0</td>\n",
       "    </tr>\n",
       "    <tr>\n",
       "      <th>22</th>\n",
       "      <td>27.0</td>\n",
       "      <td>Yes</td>\n",
       "      <td>4137.0</td>\n",
       "      <td>8.0</td>\n",
       "      <td>6.0</td>\n",
       "    </tr>\n",
       "    <tr>\n",
       "      <th>23</th>\n",
       "      <td>29.0</td>\n",
       "      <td>No</td>\n",
       "      <td>719.0</td>\n",
       "      <td>9.0</td>\n",
       "      <td>7.0</td>\n",
       "    </tr>\n",
       "    <tr>\n",
       "      <th>24</th>\n",
       "      <td>27.0</td>\n",
       "      <td>Yes</td>\n",
       "      <td>3676.0</td>\n",
       "      <td>8.0</td>\n",
       "      <td>6.0</td>\n",
       "    </tr>\n",
       "    <tr>\n",
       "      <th>25</th>\n",
       "      <td>31.0</td>\n",
       "      <td>No</td>\n",
       "      <td>2634.0</td>\n",
       "      <td>8.0</td>\n",
       "      <td>7.0</td>\n",
       "    </tr>\n",
       "    <tr>\n",
       "      <th>26</th>\n",
       "      <td>32.0</td>\n",
       "      <td>Yes</td>\n",
       "      <td>3032.0</td>\n",
       "      <td>8.0</td>\n",
       "      <td>8.0</td>\n",
       "    </tr>\n",
       "    <tr>\n",
       "      <th>27</th>\n",
       "      <td>24.0</td>\n",
       "      <td>Yes</td>\n",
       "      <td>4454.0</td>\n",
       "      <td>8.0</td>\n",
       "      <td>5.0</td>\n",
       "    </tr>\n",
       "    <tr>\n",
       "      <th>28</th>\n",
       "      <td>23.0</td>\n",
       "      <td>Yes</td>\n",
       "      <td>2504.0</td>\n",
       "      <td>9.0</td>\n",
       "      <td>5.0</td>\n",
       "    </tr>\n",
       "    <tr>\n",
       "      <th>29</th>\n",
       "      <td>25.0</td>\n",
       "      <td>No</td>\n",
       "      <td>3219.0</td>\n",
       "      <td>9.0</td>\n",
       "      <td>6.0</td>\n",
       "    </tr>\n",
       "    <tr>\n",
       "      <th>...</th>\n",
       "      <td>...</td>\n",
       "      <td>...</td>\n",
       "      <td>...</td>\n",
       "      <td>...</td>\n",
       "      <td>...</td>\n",
       "    </tr>\n",
       "    <tr>\n",
       "      <th>120</th>\n",
       "      <td>20.0</td>\n",
       "      <td>Yes</td>\n",
       "      <td>1109.0</td>\n",
       "      <td>8.0</td>\n",
       "      <td>4.0</td>\n",
       "    </tr>\n",
       "    <tr>\n",
       "      <th>121</th>\n",
       "      <td>19.0</td>\n",
       "      <td>Yes</td>\n",
       "      <td>4450.0</td>\n",
       "      <td>12.0</td>\n",
       "      <td>4.0</td>\n",
       "    </tr>\n",
       "    <tr>\n",
       "      <th>122</th>\n",
       "      <td>25.0</td>\n",
       "      <td>No</td>\n",
       "      <td>2719.0</td>\n",
       "      <td>9.0</td>\n",
       "      <td>6.0</td>\n",
       "    </tr>\n",
       "    <tr>\n",
       "      <th>123</th>\n",
       "      <td>29.0</td>\n",
       "      <td>Yes</td>\n",
       "      <td>2655.0</td>\n",
       "      <td>9.0</td>\n",
       "      <td>7.0</td>\n",
       "    </tr>\n",
       "    <tr>\n",
       "      <th>124</th>\n",
       "      <td>32.0</td>\n",
       "      <td>No</td>\n",
       "      <td>3003.0</td>\n",
       "      <td>8.0</td>\n",
       "      <td>7.0</td>\n",
       "    </tr>\n",
       "    <tr>\n",
       "      <th>125</th>\n",
       "      <td>22.0</td>\n",
       "      <td>No</td>\n",
       "      <td>3443.0</td>\n",
       "      <td>8.0</td>\n",
       "      <td>5.0</td>\n",
       "    </tr>\n",
       "    <tr>\n",
       "      <th>126</th>\n",
       "      <td>27.0</td>\n",
       "      <td>Yes</td>\n",
       "      <td>2326.0</td>\n",
       "      <td>8.0</td>\n",
       "      <td>6.0</td>\n",
       "    </tr>\n",
       "    <tr>\n",
       "      <th>127</th>\n",
       "      <td>20.0</td>\n",
       "      <td>No</td>\n",
       "      <td>3226.0</td>\n",
       "      <td>9.0</td>\n",
       "      <td>4.0</td>\n",
       "    </tr>\n",
       "    <tr>\n",
       "      <th>128</th>\n",
       "      <td>31.0</td>\n",
       "      <td>No</td>\n",
       "      <td>3834.0</td>\n",
       "      <td>9.0</td>\n",
       "      <td>7.0</td>\n",
       "    </tr>\n",
       "    <tr>\n",
       "      <th>129</th>\n",
       "      <td>22.0</td>\n",
       "      <td>No</td>\n",
       "      <td>4464.0</td>\n",
       "      <td>11.0</td>\n",
       "      <td>5.0</td>\n",
       "    </tr>\n",
       "    <tr>\n",
       "      <th>130</th>\n",
       "      <td>27.0</td>\n",
       "      <td>Yes</td>\n",
       "      <td>2527.0</td>\n",
       "      <td>9.0</td>\n",
       "      <td>6.0</td>\n",
       "    </tr>\n",
       "    <tr>\n",
       "      <th>131</th>\n",
       "      <td>27.0</td>\n",
       "      <td>Yes</td>\n",
       "      <td>4429.0</td>\n",
       "      <td>8.0</td>\n",
       "      <td>6.0</td>\n",
       "    </tr>\n",
       "    <tr>\n",
       "      <th>132</th>\n",
       "      <td>28.0</td>\n",
       "      <td>No</td>\n",
       "      <td>3637.0</td>\n",
       "      <td>9.0</td>\n",
       "      <td>6.0</td>\n",
       "    </tr>\n",
       "    <tr>\n",
       "      <th>133</th>\n",
       "      <td>31.0</td>\n",
       "      <td>Yes</td>\n",
       "      <td>2783.0</td>\n",
       "      <td>8.0</td>\n",
       "      <td>7.0</td>\n",
       "    </tr>\n",
       "    <tr>\n",
       "      <th>134</th>\n",
       "      <td>24.0</td>\n",
       "      <td>No</td>\n",
       "      <td>2339.0</td>\n",
       "      <td>11.0</td>\n",
       "      <td>5.0</td>\n",
       "    </tr>\n",
       "    <tr>\n",
       "      <th>135</th>\n",
       "      <td>27.0</td>\n",
       "      <td>No</td>\n",
       "      <td>4745.0</td>\n",
       "      <td>10.0</td>\n",
       "      <td>6.0</td>\n",
       "    </tr>\n",
       "    <tr>\n",
       "      <th>136</th>\n",
       "      <td>32.0</td>\n",
       "      <td>No</td>\n",
       "      <td>2426.0</td>\n",
       "      <td>10.0</td>\n",
       "      <td>7.0</td>\n",
       "    </tr>\n",
       "    <tr>\n",
       "      <th>137</th>\n",
       "      <td>24.0</td>\n",
       "      <td>No</td>\n",
       "      <td>2040.0</td>\n",
       "      <td>10.0</td>\n",
       "      <td>6.0</td>\n",
       "    </tr>\n",
       "    <tr>\n",
       "      <th>138</th>\n",
       "      <td>39.0</td>\n",
       "      <td>Yes</td>\n",
       "      <td>2205.0</td>\n",
       "      <td>8.0</td>\n",
       "      <td>9.0</td>\n",
       "    </tr>\n",
       "    <tr>\n",
       "      <th>139</th>\n",
       "      <td>22.0</td>\n",
       "      <td>No</td>\n",
       "      <td>3589.0</td>\n",
       "      <td>8.0</td>\n",
       "      <td>5.0</td>\n",
       "    </tr>\n",
       "    <tr>\n",
       "      <th>140</th>\n",
       "      <td>23.0</td>\n",
       "      <td>Yes</td>\n",
       "      <td>3054.0</td>\n",
       "      <td>9.0</td>\n",
       "      <td>5.0</td>\n",
       "    </tr>\n",
       "    <tr>\n",
       "      <th>141</th>\n",
       "      <td>27.0</td>\n",
       "      <td>No</td>\n",
       "      <td>2131.0</td>\n",
       "      <td>8.0</td>\n",
       "      <td>6.0</td>\n",
       "    </tr>\n",
       "    <tr>\n",
       "      <th>142</th>\n",
       "      <td>21.0</td>\n",
       "      <td>Yes</td>\n",
       "      <td>3287.0</td>\n",
       "      <td>8.0</td>\n",
       "      <td>5.0</td>\n",
       "    </tr>\n",
       "    <tr>\n",
       "      <th>143</th>\n",
       "      <td>25.0</td>\n",
       "      <td>Yes</td>\n",
       "      <td>1868.0</td>\n",
       "      <td>9.0</td>\n",
       "      <td>6.0</td>\n",
       "    </tr>\n",
       "    <tr>\n",
       "      <th>144</th>\n",
       "      <td>21.0</td>\n",
       "      <td>No</td>\n",
       "      <td>5042.0</td>\n",
       "      <td>8.0</td>\n",
       "      <td>5.0</td>\n",
       "    </tr>\n",
       "    <tr>\n",
       "      <th>145</th>\n",
       "      <td>23.0</td>\n",
       "      <td>Yes</td>\n",
       "      <td>3393.0</td>\n",
       "      <td>9.0</td>\n",
       "      <td>5.0</td>\n",
       "    </tr>\n",
       "    <tr>\n",
       "      <th>146</th>\n",
       "      <td>15.0</td>\n",
       "      <td>No</td>\n",
       "      <td>4665.0</td>\n",
       "      <td>8.0</td>\n",
       "      <td>3.0</td>\n",
       "    </tr>\n",
       "    <tr>\n",
       "      <th>147</th>\n",
       "      <td>27.0</td>\n",
       "      <td>No</td>\n",
       "      <td>1939.0</td>\n",
       "      <td>9.0</td>\n",
       "      <td>6.0</td>\n",
       "    </tr>\n",
       "    <tr>\n",
       "      <th>148</th>\n",
       "      <td>30.0</td>\n",
       "      <td>No</td>\n",
       "      <td>2931.0</td>\n",
       "      <td>9.0</td>\n",
       "      <td>7.0</td>\n",
       "    </tr>\n",
       "    <tr>\n",
       "      <th>149</th>\n",
       "      <td>26.0</td>\n",
       "      <td>Yes</td>\n",
       "      <td>4295.0</td>\n",
       "      <td>8.0</td>\n",
       "      <td>6.0</td>\n",
       "    </tr>\n",
       "  </tbody>\n",
       "</table>\n",
       "<p>150 rows × 5 columns</p>\n",
       "</div>"
      ],
      "text/plain": [
       "      Age Alcohol  Calories  Recovery  Train\n",
       "0    29.0     Yes    3318.0       9.0    7.0\n",
       "1    28.0     Yes    1818.0       8.0    6.0\n",
       "2    31.0     Yes    3582.0       9.0    7.0\n",
       "3    30.0      No    3884.0       8.0    7.0\n",
       "4    24.0      No    4375.0      15.0    5.0\n",
       "5    26.0     Yes    3565.0      11.0    6.0\n",
       "6    26.0      No    4725.0       9.0    6.0\n",
       "7    22.0     Yes    2095.0       9.0    5.0\n",
       "8    29.0     Yes    2485.0       8.0    7.0\n",
       "9    23.0     Yes    3842.0       8.0    5.0\n",
       "10   28.0      No    1970.0       8.0    7.0\n",
       "11   22.0      No    3042.0       8.0    5.0\n",
       "12   30.0      No    5004.0       8.0    7.0\n",
       "13   23.0      No    3428.0       9.0    5.0\n",
       "14   25.0      No    2291.0       9.0    6.0\n",
       "15   24.0     Yes    1774.0       8.0    6.0\n",
       "16   22.0      No    2703.0       9.0    5.0\n",
       "17   24.0      No    4945.0      10.0    5.0\n",
       "18   19.0      No    1029.0       9.0    4.0\n",
       "19   27.0      No    3265.0       9.0    6.0\n",
       "20   19.0      No    2562.0      10.0    4.0\n",
       "21   29.0      No    4007.0       8.0    7.0\n",
       "22   27.0     Yes    4137.0       8.0    6.0\n",
       "23   29.0      No     719.0       9.0    7.0\n",
       "24   27.0     Yes    3676.0       8.0    6.0\n",
       "25   31.0      No    2634.0       8.0    7.0\n",
       "26   32.0     Yes    3032.0       8.0    8.0\n",
       "27   24.0     Yes    4454.0       8.0    5.0\n",
       "28   23.0     Yes    2504.0       9.0    5.0\n",
       "29   25.0      No    3219.0       9.0    6.0\n",
       "..    ...     ...       ...       ...    ...\n",
       "120  20.0     Yes    1109.0       8.0    4.0\n",
       "121  19.0     Yes    4450.0      12.0    4.0\n",
       "122  25.0      No    2719.0       9.0    6.0\n",
       "123  29.0     Yes    2655.0       9.0    7.0\n",
       "124  32.0      No    3003.0       8.0    7.0\n",
       "125  22.0      No    3443.0       8.0    5.0\n",
       "126  27.0     Yes    2326.0       8.0    6.0\n",
       "127  20.0      No    3226.0       9.0    4.0\n",
       "128  31.0      No    3834.0       9.0    7.0\n",
       "129  22.0      No    4464.0      11.0    5.0\n",
       "130  27.0     Yes    2527.0       9.0    6.0\n",
       "131  27.0     Yes    4429.0       8.0    6.0\n",
       "132  28.0      No    3637.0       9.0    6.0\n",
       "133  31.0     Yes    2783.0       8.0    7.0\n",
       "134  24.0      No    2339.0      11.0    5.0\n",
       "135  27.0      No    4745.0      10.0    6.0\n",
       "136  32.0      No    2426.0      10.0    7.0\n",
       "137  24.0      No    2040.0      10.0    6.0\n",
       "138  39.0     Yes    2205.0       8.0    9.0\n",
       "139  22.0      No    3589.0       8.0    5.0\n",
       "140  23.0     Yes    3054.0       9.0    5.0\n",
       "141  27.0      No    2131.0       8.0    6.0\n",
       "142  21.0     Yes    3287.0       8.0    5.0\n",
       "143  25.0     Yes    1868.0       9.0    6.0\n",
       "144  21.0      No    5042.0       8.0    5.0\n",
       "145  23.0     Yes    3393.0       9.0    5.0\n",
       "146  15.0      No    4665.0       8.0    3.0\n",
       "147  27.0      No    1939.0       9.0    6.0\n",
       "148  30.0      No    2931.0       9.0    7.0\n",
       "149  26.0     Yes    4295.0       8.0    6.0\n",
       "\n",
       "[150 rows x 5 columns]"
      ]
     },
     "execution_count": 32,
     "metadata": {},
     "output_type": "execute_result"
    }
   ],
   "source": [
    "df = pd.DataFrame(data={'Age': age, 'Train': tra, 'Alcohol': alco, 'Calories': cal, 'Recovery': rec})\n",
    "df"
   ]
  },
  {
   "cell_type": "markdown",
   "metadata": {},
   "source": [
    "algorithm to analyse data"
   ]
  },
  {
   "cell_type": "code",
   "execution_count": 33,
   "metadata": {
    "collapsed": true
   },
   "outputs": [],
   "source": [
    "#https://matplotlib.org/gallery/statistics/histogram_multihist.html#sphx-glr-gallery-statistics-histogram-multihist-py"
   ]
  },
  {
   "cell_type": "markdown",
   "metadata": {},
   "source": [
    "Benefits in sport"
   ]
  },
  {
   "cell_type": "markdown",
   "metadata": {},
   "source": [
    "## References"
   ]
  },
  {
   "cell_type": "markdown",
   "metadata": {},
   "source": [
    "[1] https://www.irishexaminer.com/breakingnews/sport/gaa/10-statistics-that-will-cause-alarm-for-the-gaa-870028.html"
   ]
  },
  {
   "cell_type": "markdown",
   "metadata": {
    "collapsed": true
   },
   "source": [
    "[2] http://theconversation.com/how-does-aging-affect-athletic-performance-36051"
   ]
  },
  {
   "cell_type": "markdown",
   "metadata": {},
   "source": [
    "[3] https://www.joefrielsblog.com/2017/01/how-important-is-training-volume.html"
   ]
  },
  {
   "cell_type": "markdown",
   "metadata": {},
   "source": [
    "[4] http://blog.isportsanalysis.com/what-sport-performance-analysis/"
   ]
  },
  {
   "cell_type": "markdown",
   "metadata": {
    "collapsed": true
   },
   "source": [
    "[5] http://www.askaboutalcohol.ie/health/sports-performance/"
   ]
  },
  {
   "cell_type": "markdown",
   "metadata": {},
   "source": [
    "[6] https://believeperform.com/performance/overtraining-how-to-prevent-it/"
   ]
  },
  {
   "cell_type": "markdown",
   "metadata": {},
   "source": [
    "[7] https://drmichellecleere.com/blog/undertraining-and-overtraining/"
   ]
  },
  {
   "cell_type": "markdown",
   "metadata": {
    "collapsed": true
   },
   "source": [
    "[8] https://www.voanews.com/a/professional-athletes-prepare-for-life-after-sports-118377659/163130.html"
   ]
  },
  {
   "cell_type": "markdown",
   "metadata": {
    "collapsed": true
   },
   "source": [
    "[9] https://healthyeating.sfgate.com/caloric-needs-athletes-7179.html"
   ]
  },
  {
   "cell_type": "markdown",
   "metadata": {},
   "source": [
    "[10] https://www.npr.org/sections/thesalt/2012/07/24/157317262/how-many-calories-do-olympic-athletes-need-it-depends?t=1543683876145"
   ]
  },
  {
   "cell_type": "markdown",
   "metadata": {},
   "source": [
    "[11] https://www.verywellfit.com/the-benefits-of-rest-and-recovery-after-exercise-3120575"
   ]
  },
  {
   "cell_type": "markdown",
   "metadata": {
    "collapsed": true
   },
   "source": [
    "[12] http://www.mastersathlete.com.au/2017/03/weve-proved-it-older-athletes-do-take-longer-to-recover/"
   ]
  },
  {
   "cell_type": "code",
   "execution_count": null,
   "metadata": {
    "collapsed": true
   },
   "outputs": [],
   "source": []
  }
 ],
 "metadata": {
  "kernelspec": {
   "display_name": "Python 3",
   "language": "python",
   "name": "python3"
  },
  "language_info": {
   "codemirror_mode": {
    "name": "ipython",
    "version": 3
   },
   "file_extension": ".py",
   "mimetype": "text/x-python",
   "name": "python",
   "nbconvert_exporter": "python",
   "pygments_lexer": "ipython3",
   "version": "3.6.3"
  }
 },
 "nbformat": 4,
 "nbformat_minor": 2
}
