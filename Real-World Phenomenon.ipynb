{
 "cells": [
  {
   "cell_type": "markdown",
   "metadata": {},
   "source": [
    "<img src=\"Athlete.jpg\" />"
   ]
  },
  {
   "cell_type": "markdown",
   "metadata": {},
   "source": [
    "<img src=\"Calories.jpg\" />\n",
    "\n"
   ]
  },
  {
   "cell_type": "markdown",
   "metadata": {},
   "source": [
    "In this Jupyter notebook, we will create a data set by simulating a real-world phenomenon. Then, rather than collect data related to the phenomenon, you should model and synthesise such data using Python\n",
    "\n",
    "In this notebook, We are required to:\n",
    "1.\tChoose a real-world phenomenon that can be measured and for which you could collect at least one-hundred data points across at least four different variables.\n",
    "\n",
    "2.\tInvestigate the types of variables involved, their likely distributions, and their relationships with each other.\n",
    "\n",
    "3.\tSynthesise/simulate a data set as closely matching their properties as possible.\n",
    "\n",
    "4.\tDetail your research and implement the simulation in a Jupyter notebook – the data set itself can simply be displayed in an output cell within the notebook.\n"
   ]
  },
  {
   "cell_type": "markdown",
   "metadata": {},
   "source": [
    "## Introduction"
   ]
  },
  {
   "cell_type": "markdown",
   "metadata": {},
   "source": [
    "The real-world phenomenon that I have chosen to analyse is the performance of sport athletes and the factors that affect their performance. Analysing sport performance in any and all sports allows both players and coaches to acquire important information on a player’s performance and allows them to dissect this information to improve their performance.\n",
    "\n",
    "We will investigate 5 factors that have a negative impact on players performance. We will provide detailed analysis on each factor and their relationship with each other. These factors include age, hours trained, alcohol, calories intake & recovery hours. Once this analysis is completed, we will then create a data set based on the data collected.  \n",
    "\n",
    "We will use a sample size of 150 athletes that will be randomly generated using NumPy. Random. We will begin by importing all necessary libraries from Python to complete this notebook.\n"
   ]
  },
  {
   "cell_type": "markdown",
   "metadata": {},
   "source": [
    "## Factors"
   ]
  },
  {
   "cell_type": "markdown",
   "metadata": {},
   "source": [
    "#### Age"
   ]
  },
  {
   "cell_type": "markdown",
   "metadata": {},
   "source": [
    "The first factor we are going to look at is the age of an athlete. Athletes performance decreases as they get older. Generally speaking, athletes start to see physical declines at age 26, give or take. (This would seem in line with the long-standing notion in baseball that players tend to hit their peak anywhere from ages 27 to 30.) For swimmers, the news is more sobering, as the mean peak age is 21. For chess grandmasters, participating in an activity that relies more than mental acuity and sharpness rather than brute, acquired physicality, the peak age is closer to 31.4. [[Wired]]( https://www.wired.com/2011/07/athletes-peak-age/)\n",
    "\n",
    "As the aging process plays out, years of wear and tear are revealed through injury and muscular imbalance . In what can be perceived as an act of rebellion by the body, the treads are literally coming off of the tires. The impact of aging on performance rears its ugly head in most every sport by compromising endurance, motor function, muscular strength, and balance. So it should come as no surprise that more than 65 percent of U.S. Olympians are in their 20s. The same is true of professional athletes. [[Great]]( https://greatist.com/fitness/over-hill-have-you-passed-peak-performance) \n",
    "\n",
    "A big reason we see declines in aerobic (or endurance) athletic performance with age is that our bodies can’t use oxygen as effectively. The maximal ability to utilize oxygen (VO2max) is a predictor of endurance performance across ages. VO2max is a numerical value that describes how much oxygen your body can use per kilogram of body weight.\n",
    "VO2max is affected by how well your body can bring oxygen into the lungs, how well this is carried in our blood to the working muscles, and how much oxygen the muscles can use to fuel contraction. [[Mashable]]( https://mashable.com/2015/07/07/aging-athletic-performance/?europe=true#YZXRDfVzwaqZ)\n",
    "\n",
    "The most relevant distribution for the age factor would be the poisson distribution. We set the mean of athletes age at 28. This will gives us an realistic age range for elite athletes so we can create an appropriate data set. "
   ]
  },
  {
   "cell_type": "code",
   "execution_count": 1,
   "metadata": {},
   "outputs": [
    {
     "data": {
      "text/plain": [
       "array([26, 29, 27, 25, 28, 32, 29, 23, 30, 23, 35, 30, 23, 36, 26, 26, 27,\n",
       "       29, 30, 21, 31, 29, 33, 31, 43, 24, 30, 27, 27, 25, 24, 19, 24, 42,\n",
       "       30, 39, 25, 28, 29, 19, 35, 33, 30, 29, 32, 16, 34, 28, 28, 22, 25,\n",
       "       26, 34, 30, 25, 30, 18, 22, 32, 34, 28, 30, 30, 26, 21, 32, 28, 24,\n",
       "       24, 36, 28, 21, 23, 38, 19, 29, 29, 27, 24, 28, 32, 31, 27, 30, 26,\n",
       "       30, 27, 27, 27, 35, 32, 34, 27, 21, 21, 33, 28, 28, 27, 32, 35, 23,\n",
       "       28, 32, 31, 24, 27, 30, 32, 20, 22, 36, 26, 26, 25, 32, 27, 29, 21,\n",
       "       27, 31, 22, 25, 18, 34, 29, 30, 29, 29, 34, 32, 21, 28, 29, 20, 22,\n",
       "       23, 36, 24, 30, 24, 26, 28, 26, 15, 29, 24, 31, 33, 27])"
      ]
     },
     "execution_count": 1,
     "metadata": {},
     "output_type": "execute_result"
    }
   ],
   "source": [
    "%matplotlib inline\n",
    "\n",
    "# Import the necessary libraries\n",
    "import numpy as np\n",
    "import pandas as pd\n",
    "import matplotlib.pyplot as plt\n",
    "import collections, numpy\n",
    "import seaborn as sns\n",
    "\n",
    "# Fixing random seed for reproducibility\n",
    "np.random.seed(64)\n",
    "\n",
    "7#Randomly generate numbers age around the mean of 28 using random.poisson\n",
    "age = np.random.poisson(28, size=150).round()\n",
    "age"
   ]
  },
  {
   "cell_type": "code",
   "execution_count": 2,
   "metadata": {},
   "outputs": [
    {
     "data": {
      "text/plain": [
       "28.0"
      ]
     },
     "execution_count": 2,
     "metadata": {},
     "output_type": "execute_result"
    }
   ],
   "source": [
    "np.mean(age).round(0)"
   ]
  },
  {
   "cell_type": "code",
   "execution_count": 3,
   "metadata": {},
   "outputs": [
    {
     "data": {
      "text/plain": [
       "5.0"
      ]
     },
     "execution_count": 3,
     "metadata": {},
     "output_type": "execute_result"
    }
   ],
   "source": [
    "np.std(age).round(0)"
   ]
  },
  {
   "cell_type": "code",
   "execution_count": 4,
   "metadata": {},
   "outputs": [
    {
     "data": {
      "image/png": "[encoded data removed]",
      "text/plain": [
       "<matplotlib.figure.Figure at 0x27ec1005c50>"
      ]
     },
     "metadata": {},
     "output_type": "display_data"
    }
   ],
   "source": [
    "# Create a plot to show the range of the age of the elite athletes\n",
    "count, bins, ignored = plt.hist(age, 20, density=True)\n",
    "plt.title(\"Age Range of Elite Athletes\")\n",
    "plt.xlabel(\"Age\")\n",
    "plt.ylabel(\"Count\")\n",
    "plt.text(18, .1, r'$\\mu=28, b=5$')\n",
    "plt.axis([14, 41, 0, .15])\n",
    "plt.show()"
   ]
  },
  {
   "cell_type": "markdown",
   "metadata": {},
   "source": [
    "After plotting our the random data that we created, we can see that our age range goes from 15 to 41. This seems like a realistic age range depending on the athletes discipline. \n",
    "\n",
    "The oldest Olympic marathon winner was the 38-year-old Romanian athlete Constantina Dita Tomescu, competing at the Beijing Olympic Games. While Dara Torres, at the age of 41 in 2008, is the oldest swimmer to compete in the history of the Olympics, missing the gold medal in the 50-meter freestyle by hundredths of a second. [[Conv]](https://theconversation.com/how-does-aging-affect-athletic-performance-36051)\n",
    "\n",
    "The youngest athlete currently registered for the 2018 PyeongChang Olympics is Wu Meng, a 15 year-old Chinese halfpipe skier. But she’s not the only 15 year-old competing in the Olympics this year. In fact there are five other 15-year-old Olympians this year, according to NBC Sports, and four 16-year-olds. The youngest member of Team USA this year is 17-year-old men’s figure skater Vincent Zhou.[[Time]](http://time.com/5154982/age-requirement-olympics-2018/)"
   ]
  },
  {
   "cell_type": "markdown",
   "metadata": {},
   "source": [
    "#### Hours Trained"
   ]
  },
  {
   "cell_type": "markdown",
   "metadata": {},
   "source": [
    "The next factor the has a negative impact on the performance is where a athletes over or under train. The optimal training will depend on the athletes discipline but the average hours trained is 6 hours per day.\n",
    "\n",
    "Where an athlete overtrains this is know as the overtraining syndrome. This is clearly an issue for athletes and coaches at elite level. This is defined as an undesirable training outcome with negative performance development as an end result, potentially being a factor contributing to athlete burnout (Kenttä & Hassmèn, 1998). [[Believe]](https://believeperform.com/performance/overtraining-how-to-prevent-it/). \n",
    "\n",
    "Athletes will often ignore fatigue, heavy muscles, and depression until performance is chronically affected. Sleep disturbance occurs in over 90% of cases with difficulty in getting to sleep, nightmares, waking in the night, and waking unrefreshed. There may also be loss of appetite, weight loss, loss of competitive drive and libido, and increased emotional ability, anxiety, and irritability. The athlete may report a raised resting pulse rate and excessive sweating. [[Richard]]( https://bjsm.bmj.com/content/bjsports/32/2/107.full.pdf)\n",
    "\n",
    "There are many reasons for undertraining – more skilled athletes usually undertrain due to lack of confidence and anxiety around fear of not winning and winning. However, motivation is a top reason for less skilled athletes who undertrain.[[DR]]( https://drmichellecleere.com/blog/undertraining-and-overtraining/)\n",
    "\n",
    "Let's create a randomly set of data points for 150 athletes. For training hours, we use use a uniform distribution."
   ]
  },
  {
   "cell_type": "code",
   "execution_count": 5,
   "metadata": {},
   "outputs": [
    {
     "data": {
      "text/plain": [
       "array([  7.,   9.,   9.,   4.,   7.,   7.,   6.,   6.,   7.,   9.,   9.,\n",
       "        10.,   9.,   6.,   9.,  10.,   7.,   5.,   7.,   9.,   3.,   9.,\n",
       "         8.,   5.,   6.,   9.,   7.,   4.,   7.,   4.,   8.,   7.,   4.,\n",
       "        10.,   7.,   8.,   8.,   9.,   3.,   9.,   6.,   6.,   8.,   9.,\n",
       "         4.,   7.,   5.,   3.,   5.,   5.,   4.,   8.,   4.,   9.,   8.,\n",
       "         5.,   5.,   5.,   4.,  10.,   7.,   9.,   9.,   3.,   9.,   5.,\n",
       "        10.,   3.,  10.,   9.,   5.,   5.,   6.,   5.,  10.,   6.,   5.,\n",
       "         8.,   4.,  10.,   9.,   8.,   8.,   4.,   6.,   7.,   5.,   9.,\n",
       "         9.,   8.,  10.,   6.,   7.,   8.,   3.,   7.,   6.,   8.,   9.,\n",
       "         7.,   5.,   5.,   9.,   9.,   8.,   5.,   3.,   3.,   6.,   4.,\n",
       "         9.,   7.,   4.,   6.,   3.,   6.,  10.,   8.,   6.,   9.,   5.,\n",
       "         4.,   8.,   9.,   6.,   4.,   7.,  10.,   7.,   6.,   9.,   8.,\n",
       "         4.,   4.,   6.,   4.,   7.,   5.,  10.,   4.,   7.,   4.,   5.,\n",
       "         5.,   8.,   9.,   9.,   5.,   9.,   9.])"
      ]
     },
     "execution_count": 5,
     "metadata": {},
     "output_type": "execute_result"
    }
   ],
   "source": [
    "#Randomly generate hours per day between 3 and 10 for a 150 data points\n",
    "\n",
    "# Fixing random seed for reproducibility\n",
    "np.random.seed(39)\n",
    "\n",
    "# Use Random uniform to generate hours between 3 and 10\n",
    "train = np.random.uniform(3,10,150).round()\n",
    "train"
   ]
  },
  {
   "cell_type": "code",
   "execution_count": 6,
   "metadata": {},
   "outputs": [
    {
     "name": "stdout",
     "output_type": "stream",
     "text": [
      "Summary of Hours by Athletes\n"
     ]
    },
    {
     "data": {
      "text/plain": [
       "Counter({3.0: 9,\n",
       "         4.0: 19,\n",
       "         5.0: 22,\n",
       "         6.0: 18,\n",
       "         7.0: 21,\n",
       "         8.0: 18,\n",
       "         9.0: 31,\n",
       "         10.0: 12})"
      ]
     },
     "execution_count": 6,
     "metadata": {},
     "output_type": "execute_result"
    }
   ],
   "source": [
    "print(\"Summary of Hours by Athletes\")\n",
    "a = numpy.array([  7.,   9.,   9.,   4.,   7.,   7.,   6.,   6.,   7.,   9.,   9.,\n",
    "        10.,   9.,   6.,   9.,  10.,   7.,   5.,   7.,   9.,   3.,   9.,\n",
    "         8.,   5.,   6.,   9.,   7.,   4.,   7.,   4.,   8.,   7.,   4.,\n",
    "        10.,   7.,   8.,   8.,   9.,   3.,   9.,   6.,   6.,   8.,   9.,\n",
    "         4.,   7.,   5.,   3.,   5.,   5.,   4.,   8.,   4.,   9.,   8.,\n",
    "         5.,   5.,   5.,   4.,  10.,   7.,   9.,   9.,   3.,   9.,   5.,\n",
    "        10.,   3.,  10.,   9.,   5.,   5.,   6.,   5.,  10.,   6.,   5.,\n",
    "         8.,   4.,  10.,   9.,   8.,   8.,   4.,   6.,   7.,   5.,   9.,\n",
    "         9.,   8.,  10.,   6.,   7.,   8.,   3.,   7.,   6.,   8.,   9.,\n",
    "         7.,   5.,   5.,   9.,   9.,   8.,   5.,   3.,   3.,   6.,   4.,\n",
    "         9.,   7.,   4.,   6.,   3.,   6.,  10.,   8.,   6.,   9.,   5.,\n",
    "         4.,   8.,   9.,   6.,   4.,   7.,  10.,   7.,   6.,   9.,   8.,\n",
    "         4.,   4.,   6.,   4.,   7.,   5.,  10.,   4.,   7.,   4.,   5.,\n",
    "         5.,   8.,   9.,   9.,   5.,   9.,   9.])\n",
    "collections.Counter(a)"
   ]
  },
  {
   "cell_type": "code",
   "execution_count": 7,
   "metadata": {},
   "outputs": [
    {
     "data": {
      "text/plain": [
       "7.0"
      ]
     },
     "execution_count": 7,
     "metadata": {},
     "output_type": "execute_result"
    }
   ],
   "source": [
    "np.mean(train).round()"
   ]
  },
  {
   "cell_type": "code",
   "execution_count": 8,
   "metadata": {},
   "outputs": [
    {
     "data": {
      "text/plain": [
       "2.0"
      ]
     },
     "execution_count": 8,
     "metadata": {},
     "output_type": "execute_result"
    }
   ],
   "source": [
    "np.std(train).round()"
   ]
  },
  {
   "cell_type": "code",
   "execution_count": 9,
   "metadata": {},
   "outputs": [
    {
     "data": {
      "image/png": "[encoded data removed]",
      "text/plain": [
       "<matplotlib.figure.Figure at 0x27ec13a1da0>"
      ]
     },
     "metadata": {},
     "output_type": "display_data"
    }
   ],
   "source": [
    "# Create a histogram to show our randomly generated hours\n",
    "count, bins, ignored = plt.hist(train, 15, density=True)\n",
    "plt.title(\"Hours Trained by Elite Athletes\")\n",
    "plt.xlabel(\"Hours\")\n",
    "plt.ylabel(\"Count\")\n",
    "plt.text(3, .4, r'$\\mu=7, b=2$')\n",
    "plt.axis([2, 11, 0, .5])\n",
    "plt.show()"
   ]
  },
  {
   "cell_type": "markdown",
   "metadata": {},
   "source": [
    "The uniform distribution is used as athletes in a given day could train any amount of hours between 3 and 10. From the data provided the average optimal level of hours is 6 with anything below this athletes may be undertraining while any hours above this could lead to ovetraining. "
   ]
  },
  {
   "cell_type": "markdown",
   "metadata": {
    "collapsed": true
   },
   "source": [
    "#### Recovery"
   ]
  },
  {
   "cell_type": "markdown",
   "metadata": {},
   "source": [
    "An adequate balance between training and recovery is essential for athletes to achieve continuous high-level performance.  A systematic monitoring of recovery and the subsequent implementation of recovery routines aims at maximizing performance and preventing negative developments such as underrecovery, nonfunctional overreaching, the overtraining syndrome, injuries, or illnesses. [[NCBI]]( https://www.ncbi.nlm.nih.gov/pubmed/29345524)\n",
    "\n",
    "Many athletes complain that the ability to recover from hard bouts of exercise diminishes. In many contact sports, such as professional American football or rugby, recovering from injuries and the cumulative effects of hard hits becomes the limiting factor in continuing to play at the highest level.[[Mashable]]( https://mashable.com/2015/07/07/aging-athletic-performance/?europe=true#YZXRDfVzwaqZ)\n",
    "\n",
    "Building recovery time into any training program is important because this is the time that the body adapts to the stress of exercise and the real training effect takes place. Recovery also allows the body to replenish energy stores and repair damaged tissues. Recovery time allows these stores to be replenished and allows tissue repair to occur. Without sufficient time to repair and replenish, the body will continue to breakdown from intensive exercise. [[Well]]( https://www.verywellfit.com/the-benefits-of-rest-and-recovery-after-exercise-3120575)\n",
    "\n",
    "There are a number of popular methods used by athletes to enhance recovery. Their use will depend on the type of activity performed, the time until the next training session or event and equipment and/or personnel available. Some of the most popular recovery techniques for athletes include hydrotherapy, active recovery, stretching, compression garments, massage, sleep and nutrition. [[GSS]]( https://www.gssiweb.org/sports-science-exchange/article/sse-120-recovery-techniques-for-athletes)\n",
    "\n",
    "In relation to sleep recovery, studies show that an appropriate amount of sleep can improve speed, accuracy, and reaction time in athletes. For an ordianary person, the average amount of sleep is 8 hours. Athletes would need more and there average amount of sleep is closer to 9 hours per day.\n",
    "\n",
    "We use the normal distribution with a mean of 8 and standard deviation of 2 based on studies. This will gives us an appropriate range of recovery with the majority of recovery hours sitting around the mean of 8."
   ]
  },
  {
   "cell_type": "code",
   "execution_count": 10,
   "metadata": {},
   "outputs": [
    {
     "data": {
      "text/plain": [
       "array([  9.,  10.,  10.,   6.,   9.,   8.,   8.,   7.,   8.,  10.,   6.,\n",
       "         8.,  11.,   7.,   7.,  10.,   8.,   8.,  11.,   5.,   8.,   7.,\n",
       "         5.,   6.,   8.,   5.,   8.,   7.,  10.,   9.,   8.,   8.,   7.,\n",
       "         7.,   8.,   6.,   5.,   7.,   9.,   6.,   3.,   9.,   8.,   7.,\n",
       "         8.,   9.,  10.,   7.,   8.,  12.,   9.,   6.,   5.,  12.,   4.,\n",
       "         9.,   7.,   9.,  10.,   4.,   8.,  11.,  10.,  12.,   6.,   7.,\n",
       "         8.,   9.,   7.,   7.,   7.,   8.,   9.,   7.,   8.,  12.,   5.,\n",
       "        10.,   8.,   7.,   8.,   6.,   8.,   4.,   8.,   8.,  11.,   7.,\n",
       "         7.,   7.,   6.,  10.,   8.,   9.,  10.,   7.,   7.,   9.,   8.,\n",
       "         6.,   8.,   7.,   9.,   4.,  10.,   6.,   7.,   7.,   8.,   7.,\n",
       "         8.,   7.,  12.,   8.,   9.,   4.,   8.,   6.,  12.,   8.,  10.,\n",
       "        11.,  12.,   4.,   9.,   9.,  10.,   7.,   7.,   8.,   9.,  10.,\n",
       "         4.,   7.,   8.,   7.,  11.,   9.,   7.,   7.,  10.,  11.,   8.,\n",
       "         6.,  10.,   4.,   6.,  10.,   6.,  10.])"
      ]
     },
     "execution_count": 10,
     "metadata": {},
     "output_type": "execute_result"
    }
   ],
   "source": [
    "# Fixing random seed for reproducibility\n",
    "np.random.seed(46)\n",
    "\n",
    "# Find the hours of recovery for 150 atheletes based on mean of 8 and std of 2\n",
    "rec = (np.random.normal(8, 2, size=150)).round()\n",
    "rec"
   ]
  },
  {
   "cell_type": "code",
   "execution_count": 11,
   "metadata": {},
   "outputs": [
    {
     "data": {
      "text/plain": [
       "Text(0.5,0,'Athletes')"
      ]
     },
     "execution_count": 11,
     "metadata": {},
     "output_type": "execute_result"
    },
    {
     "data": {
      "image/png": "[encoded data removed]",
      "text/plain": [
       "<matplotlib.figure.Figure at 0x27ec17956d8>"
      ]
     },
     "metadata": {},
     "output_type": "display_data"
    }
   ],
   "source": [
    "plt.plot(rec)\n",
    "ax = plt.gca()\n",
    "ax.set_facecolor('xkcd:yellow')\n",
    "plt.grid(True)\n",
    "plt.title(\"Recovery Hours per Athlete\")\n",
    "plt.ylabel(\"Hours\")\n",
    "plt.xlabel(\"Athletes\")"
   ]
  },
  {
   "cell_type": "markdown",
   "metadata": {},
   "source": [
    "The plot shows the recovery hours between 3 and 12 on the x-axis and the athletes on the y-axis. "
   ]
  },
  {
   "cell_type": "markdown",
   "metadata": {},
   "source": [
    "#### Calories"
   ]
  },
  {
   "cell_type": "markdown",
   "metadata": {
    "collapsed": true
   },
   "source": [
    "Most people have heard the general recommendation that adults eat about 2,000 calories per day. For athletes, however, that may not be enough. As people who ask a lot of their bodies, athletes need extra calories to fuel their activities and to encourage muscles and bones to continue strengthening. [[Calories]]( https://healthyeating.sfgate.com/caloric-needs-athletes-7179.html)\n",
    "\n",
    "Each athlete will need to consume enough calories in order to perform at their best depending on their discipline but overall the average for an elite athletes is over 3000 calories per day. Eating the right amount of food at the right times is important for athletes because it helps build and fuel muscles. Carbohydrates and fat help fuel performance, while protein helps build muscle. A lack of water can decrease the effectiveness of workouts and cause cramping during competition. Sports drinks help athletes not only stay hydrated during games, matches and races, but also restore depleted glycogen, sodium, potassium and other electrolytes. [[Healthy]]( https://healthyliving.azcentral.com/list-factors-influencing-athletic-performance-4356.html)\n",
    "\n",
    "As we can see from the chart below, depending on the athletes discipline will dictate how much calories they will need per day but on average calorie intake by all athletes is 4,000 and we will use normal distribution as with education and resources available to athletes you expect the majority of calories to be located around the mean. "
   ]
  },
  {
   "cell_type": "markdown",
   "metadata": {},
   "source": [
    "<img src=\"Calories.jpg\" Height='700', width='700'/>"
   ]
  },
  {
   "cell_type": "code",
   "execution_count": 22,
   "metadata": {},
   "outputs": [
    {
     "data": {
      "text/plain": [
       "array([ 4206.,  5167.,  1927.,  3367.,  4997.,  6395.,  3459.,  4753.,\n",
       "        1850.,  3695.,  3598.,  3388.,  3877.,  3472.,  4911.,  1938.,\n",
       "        5734.,  2944.,  5806.,  5839.,  6398.,  4543.,  3772.,  3728.,\n",
       "        5099.,  3821.,  3776.,  4328.,  1957.,  1660.,  4440.,  3931.,\n",
       "        4544.,  4866.,  3183.,  3544.,  4822.,  3010.,  4635.,  3598.,\n",
       "        3267.,  3298.,  3996.,  3517.,  3131.,  5298.,  4734.,  3433.,\n",
       "        4447.,  4800.,  3852.,  3383.,  2771.,  4125.,  3377.,  4390.,\n",
       "        3594.,  3876.,  5379.,  4809.,  4883.,  4504.,  4404.,  5802.,\n",
       "        4802.,  4272.,  4332.,  4905.,  4171.,  3594.,  5842.,  3805.,\n",
       "        4678.,  3028.,  4303.,  4673.,  4182.,  2627.,  4209.,  5013.,\n",
       "        4645.,  2086.,  4523.,  3010.,  3941.,  5102.,  4472.,  3852.,\n",
       "        3031.,  5072.,  4619.,  2459.,  4503.,  2412.,  1797.,  4647.,\n",
       "        4418.,  3757.,  2898.,  3435.,  4023.,  4248.,  5815.,  5414.,\n",
       "        3590.,  4146.,  4557.,  5559.,  3216.,  4170.,  5274.,  4253.,\n",
       "        1916.,  3315.,  6144.,  2745.,  4622.,  4210.,  4451.,  5453.,\n",
       "        5539.,  5027.,  6221.,  4261.,  4686.,  4433.,  2277.,  5950.,\n",
       "        1562.,  3830.,  3009.,  5215.,  4147.,  4695.,  3761.,  2095.,\n",
       "        4826.,  2695.,  2386.,  3893.,  5777.,  3886.,  3715.,  3549.,\n",
       "        4400.,  2653.,  4261.,  3125.,  3316.,  4281.])"
      ]
     },
     "execution_count": 22,
     "metadata": {},
     "output_type": "execute_result"
    }
   ],
   "source": [
    "# Fixing random seed for reproducibility\n",
    "np.random.seed(53)\n",
    "\n",
    "# Create a random amount of calories for each athlete using random.normal\n",
    "cal = np.random.normal(4000,1000,size=150).round()\n",
    "cal"
   ]
  },
  {
   "cell_type": "code",
   "execution_count": 31,
   "metadata": {},
   "outputs": [
    {
     "data": {
      "image/png": "[encoded data removed]",
      "text/plain": [
       "<matplotlib.figure.Figure at 0x25db04ad630>"
      ]
     },
     "metadata": {},
     "output_type": "display_data"
    }
   ],
   "source": [
    "# Create a histogram to show our randomly generated calories\n",
    "count, bins, ignored = plt.hist(cal, 50, density=True)\n",
    "plt.title(\"Calories of Elite Athletes\")\n",
    "plt.xlabel(\"Calories\")\n",
    "plt.ylabel(\"Count\")\n",
    "plt.show()"
   ]
  },
  {
   "cell_type": "markdown",
   "metadata": {},
   "source": [
    "From our histogram, we can see that the calories count is between 1,500 and 6,500 and as stated earlier the mean is 4,000 with the majority of the athletes sitting around this amount of calories"
   ]
  },
  {
   "cell_type": "markdown",
   "metadata": {},
   "source": [
    "#### Alcohol"
   ]
  },
  {
   "cell_type": "markdown",
   "metadata": {},
   "source": [
    "The another variable that has an effect on athletes performance is whether the athlete is a alcohol. Alcohol can  affect endurance,  reaction time and recovery. \n",
    "\n",
    "In relation to endurance.- the blood sugar your body needs for energy is produced by the liver when it releases glucose into the blood stream. Drinking alcohol in the 48 hour period before competing or training reduces your body’s ability to produce this sugar, so you have less energy and less endurance capacity. Alcohol also impair the absorption of nutrients such as zinc (energy metabolism), vitamins B1 and B12 (healthy blood, oxygen transport). Alcohol can affect the production of adenosine triphosphate (ATP), which is your muscles' source of energy. [[Ask]](http://www.askaboutalcohol./health/sports-performance/)\n",
    "\n",
    "Reaction time - Alcohol is a sedative and it can affect your sports performance for up to 72 hours after you have finished drinking. Some team-game players think they have less tension and increased relaxation as a result of alcohol. The actual result, however, is poorer hand-eye coordination and slower responses. [[Ask]](http://www.askaboutalcohol./health/sports-performance/)\n",
    "\n",
    "Recovery - Alcohol’s effect on sleep can reduce the amount of human growth hormone (HGH) in your body. HGH is part of normal muscle building and repair processes. Alcohol can also reduce testosterone, which is needed for muscle development and recovery.\n",
    "[[Ask]](http://www.askaboutalcohol./health/sports-performance/)\n",
    "\n",
    "\n",
    "\n"
   ]
  },
  {
   "cell_type": "code",
   "execution_count": 14,
   "metadata": {
    "scrolled": true
   },
   "outputs": [
    {
     "data": {
      "text/plain": [
       "array(['Yes', 'Yes', 'Yes', 'No', 'No', 'Yes', 'No', 'Yes', 'Yes', 'Yes',\n",
       "       'No', 'No', 'No', 'No', 'No', 'Yes', 'No', 'No', 'No', 'No', 'No',\n",
       "       'No', 'Yes', 'No', 'Yes', 'No', 'Yes', 'Yes', 'Yes', 'No', 'Yes',\n",
       "       'No', 'Yes', 'Yes', 'Yes', 'Yes', 'Yes', 'Yes', 'Yes', 'Yes', 'No',\n",
       "       'No', 'No', 'No', 'Yes', 'Yes', 'No', 'No', 'No', 'No', 'No', 'No',\n",
       "       'No', 'No', 'No', 'Yes', 'Yes', 'Yes', 'No', 'Yes', 'No', 'Yes',\n",
       "       'Yes', 'No', 'Yes', 'No', 'No', 'No', 'Yes', 'Yes', 'Yes', 'No',\n",
       "       'No', 'No', 'No', 'No', 'No', 'Yes', 'Yes', 'No', 'Yes', 'No',\n",
       "       'Yes', 'Yes', 'No', 'No', 'Yes', 'No', 'Yes', 'No', 'No', 'No',\n",
       "       'No', 'No', 'Yes', 'Yes', 'No', 'No', 'Yes', 'No', 'No', 'No',\n",
       "       'Yes', 'Yes', 'No', 'No', 'No', 'Yes', 'No', 'No', 'Yes', 'No',\n",
       "       'Yes', 'No', 'Yes', 'Yes', 'No', 'Yes', 'No', 'No', 'Yes', 'Yes',\n",
       "       'No', 'Yes', 'No', 'No', 'Yes', 'No', 'No', 'No', 'Yes', 'Yes',\n",
       "       'No', 'Yes', 'No', 'No', 'No', 'No', 'Yes', 'No', 'Yes', 'No',\n",
       "       'Yes', 'Yes', 'No', 'Yes', 'No', 'No', 'No', 'Yes'],\n",
       "      dtype='<U3')"
      ]
     },
     "execution_count": 14,
     "metadata": {},
     "output_type": "execute_result"
    }
   ],
   "source": [
    "# Fixing random state for reproducibility\n",
    "np.random.seed(555555)\n",
    "\n",
    "alco = np.random.choice([\"No\", \"Yes\"], size=150)\n",
    "alco"
   ]
  },
  {
   "cell_type": "code",
   "execution_count": 15,
   "metadata": {},
   "outputs": [
    {
     "data": {
      "text/plain": [
       "150"
      ]
     },
     "execution_count": 15,
     "metadata": {},
     "output_type": "execute_result"
    }
   ],
   "source": [
    "len(alco)"
   ]
  },
  {
   "cell_type": "code",
   "execution_count": 16,
   "metadata": {},
   "outputs": [
    {
     "data": {
      "text/plain": [
       "Counter({'No': 85, 'Yes': 65})"
      ]
     },
     "execution_count": 16,
     "metadata": {},
     "output_type": "execute_result"
    }
   ],
   "source": [
    "b = numpy.array(['Yes', 'Yes', 'Yes', 'No', 'No', 'Yes', 'No', 'Yes', 'Yes', 'Yes',\n",
    "       'No', 'No', 'No', 'No', 'No', 'Yes', 'No', 'No', 'No', 'No', 'No',\n",
    "       'No', 'Yes', 'No', 'Yes', 'No', 'Yes', 'Yes', 'Yes', 'No', 'Yes',\n",
    "       'No', 'Yes', 'Yes', 'Yes', 'Yes', 'Yes', 'Yes', 'Yes', 'Yes', 'No',\n",
    "       'No', 'No', 'No', 'Yes', 'Yes', 'No', 'No', 'No', 'No', 'No', 'No',\n",
    "       'No', 'No', 'No', 'Yes', 'Yes', 'Yes', 'No', 'Yes', 'No', 'Yes',\n",
    "       'Yes', 'No', 'Yes', 'No', 'No', 'No', 'Yes', 'Yes', 'Yes', 'No',\n",
    "       'No', 'No', 'No', 'No', 'No', 'Yes', 'Yes', 'No', 'Yes', 'No',\n",
    "       'Yes', 'Yes', 'No', 'No', 'Yes', 'No', 'Yes', 'No', 'No', 'No',\n",
    "       'No', 'No', 'Yes', 'Yes', 'No', 'No', 'Yes', 'No', 'No', 'No',\n",
    "       'Yes', 'Yes', 'No', 'No', 'No', 'Yes', 'No', 'No', 'Yes', 'No',\n",
    "       'Yes', 'No', 'Yes', 'Yes', 'No', 'Yes', 'No', 'No', 'Yes', 'Yes',\n",
    "       'No', 'Yes', 'No', 'No', 'Yes', 'No', 'No', 'No', 'Yes', 'Yes',\n",
    "       'No', 'Yes', 'No', 'No', 'No', 'No', 'Yes', 'No', 'Yes', 'No',\n",
    "       'Yes', 'Yes', 'No', 'Yes', 'No', 'No', 'No', 'Yes'])\n",
    "collections.Counter(b)"
   ]
  },
  {
   "cell_type": "markdown",
   "metadata": {},
   "source": [
    "## Age vs Recovery"
   ]
  },
  {
   "cell_type": "markdown",
   "metadata": {},
   "source": [
    "There has been a lot of research about whether the older an athlete becomes the longer it takes to recover. Some research has indicated the age is not a factor in recovery while others think the opposite. BUt the most comprehensive research we found indicates that older athletes do take longer to recovery. But this is more to do master athletes rather than professional athletes so these factors have no relevant. From thes studies undertaken by Master Athletes in Australia, they have concluded that regular training into later life by masters athletes does not appear to offset the age-related impairments in muscle protein metabolism. We also conclude that higher protein feedings may be beneficial to recovery for subsequent training or competition performance in masters athletes.[[Master]]( http://www.mastersathlete.com.au/2017/03/weve-proved-it-older-athletes-do-take-longer-to-recover/)"
   ]
  },
  {
   "cell_type": "markdown",
   "metadata": {},
   "source": [
    "## Training Hours vs Recovery Hours"
   ]
  },
  {
   "cell_type": "code",
   "execution_count": 17,
   "metadata": {
    "scrolled": true
   },
   "outputs": [
    {
     "data": {
      "text/html": [
       "<div>\n",
       "<style>\n",
       "    .dataframe thead tr:only-child th {\n",
       "        text-align: right;\n",
       "    }\n",
       "\n",
       "    .dataframe thead th {\n",
       "        text-align: left;\n",
       "    }\n",
       "\n",
       "    .dataframe tbody tr th {\n",
       "        vertical-align: top;\n",
       "    }\n",
       "</style>\n",
       "<table border=\"1\" class=\"dataframe\">\n",
       "  <thead>\n",
       "    <tr style=\"text-align: right;\">\n",
       "      <th></th>\n",
       "      <th>Recovery</th>\n",
       "      <th>Train</th>\n",
       "    </tr>\n",
       "  </thead>\n",
       "  <tbody>\n",
       "    <tr>\n",
       "      <th>0</th>\n",
       "      <td>9.0</td>\n",
       "      <td>7.0</td>\n",
       "    </tr>\n",
       "    <tr>\n",
       "      <th>1</th>\n",
       "      <td>10.0</td>\n",
       "      <td>9.0</td>\n",
       "    </tr>\n",
       "    <tr>\n",
       "      <th>2</th>\n",
       "      <td>10.0</td>\n",
       "      <td>9.0</td>\n",
       "    </tr>\n",
       "    <tr>\n",
       "      <th>3</th>\n",
       "      <td>6.0</td>\n",
       "      <td>4.0</td>\n",
       "    </tr>\n",
       "    <tr>\n",
       "      <th>4</th>\n",
       "      <td>9.0</td>\n",
       "      <td>7.0</td>\n",
       "    </tr>\n",
       "  </tbody>\n",
       "</table>\n",
       "</div>"
      ],
      "text/plain": [
       "   Recovery  Train\n",
       "0       9.0    7.0\n",
       "1      10.0    9.0\n",
       "2      10.0    9.0\n",
       "3       6.0    4.0\n",
       "4       9.0    7.0"
      ]
     },
     "execution_count": 17,
     "metadata": {},
     "output_type": "execute_result"
    }
   ],
   "source": [
    "hours = pd.DataFrame(data={'Recovery': rec, 'Train': train})\n",
    "hours.head()"
   ]
  },
  {
   "cell_type": "code",
   "execution_count": 19,
   "metadata": {},
   "outputs": [
    {
     "data": {
      "image/png": "[encoded data removed]",
      "text/plain": [
       "<matplotlib.figure.Figure at 0x1725080f6d8>"
      ]
     },
     "metadata": {},
     "output_type": "display_data"
    }
   ],
   "source": [
    "# Create a scatter plot showing recovery hours vs trained hours\n",
    "x = rec\n",
    "y = train\n",
    "colours = np.random.rand(150)\n",
    "area = (30 * np.random.rand(150))**2 # 0 to 15 point radii\n",
    "\n",
    "plt.scatter(x, y, s=area, c=colours, alpha=0.5)\n",
    "plt.annotate('Optiaml Hours', xy=(9, 6), xytext=(10, 9),\n",
    "             arrowprops=dict(facecolor='black', shrink=1.05),\n",
    "             )\n",
    "plt.title(\"Hours\")\n",
    "plt.xlabel(\"Recovery\")\n",
    "plt.ylabel(\"Trained\")\n",
    "plt.show()"
   ]
  },
  {
   "cell_type": "markdown",
   "metadata": {
    "collapsed": true
   },
   "source": [
    "The point highlighted in the above scatter plot is the optimal hours that athletes should train versus recovery based on the evidence collected. Any point outside these hours leads to a risk of under performing by that athlete."
   ]
  },
  {
   "cell_type": "markdown",
   "metadata": {},
   "source": [
    "## Training and Calories"
   ]
  },
  {
   "cell_type": "code",
   "execution_count": 20,
   "metadata": {},
   "outputs": [
    {
     "data": {
      "text/html": [
       "<div>\n",
       "<style>\n",
       "    .dataframe thead tr:only-child th {\n",
       "        text-align: right;\n",
       "    }\n",
       "\n",
       "    .dataframe thead th {\n",
       "        text-align: left;\n",
       "    }\n",
       "\n",
       "    .dataframe tbody tr th {\n",
       "        vertical-align: top;\n",
       "    }\n",
       "</style>\n",
       "<table border=\"1\" class=\"dataframe\">\n",
       "  <thead>\n",
       "    <tr style=\"text-align: right;\">\n",
       "      <th></th>\n",
       "      <th>Calories</th>\n",
       "      <th>Train</th>\n",
       "    </tr>\n",
       "  </thead>\n",
       "  <tbody>\n",
       "    <tr>\n",
       "      <th>145</th>\n",
       "      <td>1842.0</td>\n",
       "      <td>9.0</td>\n",
       "    </tr>\n",
       "    <tr>\n",
       "      <th>146</th>\n",
       "      <td>3473.0</td>\n",
       "      <td>9.0</td>\n",
       "    </tr>\n",
       "    <tr>\n",
       "      <th>147</th>\n",
       "      <td>1717.0</td>\n",
       "      <td>5.0</td>\n",
       "    </tr>\n",
       "    <tr>\n",
       "      <th>148</th>\n",
       "      <td>3680.0</td>\n",
       "      <td>9.0</td>\n",
       "    </tr>\n",
       "    <tr>\n",
       "      <th>149</th>\n",
       "      <td>755.0</td>\n",
       "      <td>9.0</td>\n",
       "    </tr>\n",
       "  </tbody>\n",
       "</table>\n",
       "</div>"
      ],
      "text/plain": [
       "     Calories  Train\n",
       "145    1842.0    9.0\n",
       "146    3473.0    9.0\n",
       "147    1717.0    5.0\n",
       "148    3680.0    9.0\n",
       "149     755.0    9.0"
      ]
     },
     "execution_count": 20,
     "metadata": {},
     "output_type": "execute_result"
    }
   ],
   "source": [
    "food = pd.DataFrame(data={'Calories': cal, 'Train': train})\n",
    "food.tail()"
   ]
  },
  {
   "cell_type": "code",
   "execution_count": 21,
   "metadata": {},
   "outputs": [
    {
     "data": {
      "image/png": "[encoded data removed]",
      "text/plain": [
       "<matplotlib.figure.Figure at 0x172508e8400>"
      ]
     },
     "metadata": {},
     "output_type": "display_data"
    }
   ],
   "source": [
    "# Create a scatter plot showing recovery hours vs trained hours\n",
    "x = cal\n",
    "y = train\n",
    "\n",
    "colours = np.random.rand(150)\n",
    "area = (30 * np.random.rand(150))**2 # 0 to 15 point radii\n",
    "\n",
    "\n",
    "plt.scatter(x, y, s=area, c=colours, alpha=0.5)\n",
    "plt.annotate('Optiaml Calories', xy=(3000, 6), xytext=(3000, 9),\n",
    "             arrowprops=dict(facecolor='black', shrink=1.05),\n",
    "             )\n",
    "plt.title(\"Food\")\n",
    "plt.xlabel(\"Calories\")\n",
    "plt.ylabel(\"Trained\")\n",
    "plt.show()"
   ]
  },
  {
   "cell_type": "markdown",
   "metadata": {},
   "source": [
    "The point highlighted in the above scatter plot is the optimal calories that athletes should train versus calories intake based on the evidence collected. Any about of intake outside these calories leads to a risk of under performing by that athlete."
   ]
  },
  {
   "cell_type": "markdown",
   "metadata": {
    "collapsed": true
   },
   "source": [
    "factors 1. age 2. training per hours 3. alco 4 calories 5. recovery"
   ]
  },
  {
   "cell_type": "markdown",
   "metadata": {},
   "source": [
    " "
   ]
  },
  {
   "cell_type": "markdown",
   "metadata": {
    "collapsed": true
   },
   "source": [
    "## Dataframe"
   ]
  },
  {
   "cell_type": "code",
   "execution_count": 22,
   "metadata": {
    "scrolled": true
   },
   "outputs": [
    {
     "data": {
      "text/html": [
       "<div>\n",
       "<style>\n",
       "    .dataframe thead tr:only-child th {\n",
       "        text-align: right;\n",
       "    }\n",
       "\n",
       "    .dataframe thead th {\n",
       "        text-align: left;\n",
       "    }\n",
       "\n",
       "    .dataframe tbody tr th {\n",
       "        vertical-align: top;\n",
       "    }\n",
       "</style>\n",
       "<table border=\"1\" class=\"dataframe\">\n",
       "  <thead>\n",
       "    <tr style=\"text-align: right;\">\n",
       "      <th></th>\n",
       "      <th>Age</th>\n",
       "      <th>Alcohol</th>\n",
       "      <th>Calories</th>\n",
       "      <th>Recovery</th>\n",
       "      <th>Train</th>\n",
       "    </tr>\n",
       "  </thead>\n",
       "  <tbody>\n",
       "    <tr>\n",
       "      <th>0</th>\n",
       "      <td>26</td>\n",
       "      <td>Yes</td>\n",
       "      <td>4377.0</td>\n",
       "      <td>9.0</td>\n",
       "      <td>7.0</td>\n",
       "    </tr>\n",
       "    <tr>\n",
       "      <th>1</th>\n",
       "      <td>29</td>\n",
       "      <td>Yes</td>\n",
       "      <td>4846.0</td>\n",
       "      <td>10.0</td>\n",
       "      <td>9.0</td>\n",
       "    </tr>\n",
       "    <tr>\n",
       "      <th>2</th>\n",
       "      <td>27</td>\n",
       "      <td>Yes</td>\n",
       "      <td>3591.0</td>\n",
       "      <td>10.0</td>\n",
       "      <td>9.0</td>\n",
       "    </tr>\n",
       "    <tr>\n",
       "      <th>3</th>\n",
       "      <td>25</td>\n",
       "      <td>No</td>\n",
       "      <td>4401.0</td>\n",
       "      <td>6.0</td>\n",
       "      <td>4.0</td>\n",
       "    </tr>\n",
       "    <tr>\n",
       "      <th>4</th>\n",
       "      <td>28</td>\n",
       "      <td>No</td>\n",
       "      <td>4049.0</td>\n",
       "      <td>9.0</td>\n",
       "      <td>7.0</td>\n",
       "    </tr>\n",
       "    <tr>\n",
       "      <th>5</th>\n",
       "      <td>32</td>\n",
       "      <td>Yes</td>\n",
       "      <td>1743.0</td>\n",
       "      <td>8.0</td>\n",
       "      <td>7.0</td>\n",
       "    </tr>\n",
       "    <tr>\n",
       "      <th>6</th>\n",
       "      <td>29</td>\n",
       "      <td>No</td>\n",
       "      <td>4191.0</td>\n",
       "      <td>8.0</td>\n",
       "      <td>6.0</td>\n",
       "    </tr>\n",
       "    <tr>\n",
       "      <th>7</th>\n",
       "      <td>23</td>\n",
       "      <td>Yes</td>\n",
       "      <td>2739.0</td>\n",
       "      <td>7.0</td>\n",
       "      <td>6.0</td>\n",
       "    </tr>\n",
       "    <tr>\n",
       "      <th>8</th>\n",
       "      <td>30</td>\n",
       "      <td>Yes</td>\n",
       "      <td>2454.0</td>\n",
       "      <td>8.0</td>\n",
       "      <td>7.0</td>\n",
       "    </tr>\n",
       "    <tr>\n",
       "      <th>9</th>\n",
       "      <td>23</td>\n",
       "      <td>Yes</td>\n",
       "      <td>1404.0</td>\n",
       "      <td>10.0</td>\n",
       "      <td>9.0</td>\n",
       "    </tr>\n",
       "    <tr>\n",
       "      <th>10</th>\n",
       "      <td>35</td>\n",
       "      <td>No</td>\n",
       "      <td>1947.0</td>\n",
       "      <td>6.0</td>\n",
       "      <td>9.0</td>\n",
       "    </tr>\n",
       "    <tr>\n",
       "      <th>11</th>\n",
       "      <td>30</td>\n",
       "      <td>No</td>\n",
       "      <td>3145.0</td>\n",
       "      <td>8.0</td>\n",
       "      <td>10.0</td>\n",
       "    </tr>\n",
       "    <tr>\n",
       "      <th>12</th>\n",
       "      <td>23</td>\n",
       "      <td>No</td>\n",
       "      <td>4697.0</td>\n",
       "      <td>11.0</td>\n",
       "      <td>9.0</td>\n",
       "    </tr>\n",
       "    <tr>\n",
       "      <th>13</th>\n",
       "      <td>36</td>\n",
       "      <td>No</td>\n",
       "      <td>4517.0</td>\n",
       "      <td>7.0</td>\n",
       "      <td>6.0</td>\n",
       "    </tr>\n",
       "    <tr>\n",
       "      <th>14</th>\n",
       "      <td>26</td>\n",
       "      <td>No</td>\n",
       "      <td>3396.0</td>\n",
       "      <td>7.0</td>\n",
       "      <td>9.0</td>\n",
       "    </tr>\n",
       "    <tr>\n",
       "      <th>15</th>\n",
       "      <td>26</td>\n",
       "      <td>Yes</td>\n",
       "      <td>2507.0</td>\n",
       "      <td>10.0</td>\n",
       "      <td>10.0</td>\n",
       "    </tr>\n",
       "    <tr>\n",
       "      <th>16</th>\n",
       "      <td>27</td>\n",
       "      <td>No</td>\n",
       "      <td>4809.0</td>\n",
       "      <td>8.0</td>\n",
       "      <td>7.0</td>\n",
       "    </tr>\n",
       "    <tr>\n",
       "      <th>17</th>\n",
       "      <td>29</td>\n",
       "      <td>No</td>\n",
       "      <td>2801.0</td>\n",
       "      <td>8.0</td>\n",
       "      <td>5.0</td>\n",
       "    </tr>\n",
       "    <tr>\n",
       "      <th>18</th>\n",
       "      <td>30</td>\n",
       "      <td>No</td>\n",
       "      <td>1975.0</td>\n",
       "      <td>11.0</td>\n",
       "      <td>7.0</td>\n",
       "    </tr>\n",
       "    <tr>\n",
       "      <th>19</th>\n",
       "      <td>21</td>\n",
       "      <td>No</td>\n",
       "      <td>4639.0</td>\n",
       "      <td>5.0</td>\n",
       "      <td>9.0</td>\n",
       "    </tr>\n",
       "    <tr>\n",
       "      <th>20</th>\n",
       "      <td>31</td>\n",
       "      <td>No</td>\n",
       "      <td>2267.0</td>\n",
       "      <td>8.0</td>\n",
       "      <td>3.0</td>\n",
       "    </tr>\n",
       "    <tr>\n",
       "      <th>21</th>\n",
       "      <td>29</td>\n",
       "      <td>No</td>\n",
       "      <td>3484.0</td>\n",
       "      <td>7.0</td>\n",
       "      <td>9.0</td>\n",
       "    </tr>\n",
       "    <tr>\n",
       "      <th>22</th>\n",
       "      <td>33</td>\n",
       "      <td>Yes</td>\n",
       "      <td>2279.0</td>\n",
       "      <td>5.0</td>\n",
       "      <td>8.0</td>\n",
       "    </tr>\n",
       "    <tr>\n",
       "      <th>23</th>\n",
       "      <td>31</td>\n",
       "      <td>No</td>\n",
       "      <td>2952.0</td>\n",
       "      <td>6.0</td>\n",
       "      <td>5.0</td>\n",
       "    </tr>\n",
       "    <tr>\n",
       "      <th>24</th>\n",
       "      <td>43</td>\n",
       "      <td>Yes</td>\n",
       "      <td>3671.0</td>\n",
       "      <td>8.0</td>\n",
       "      <td>6.0</td>\n",
       "    </tr>\n",
       "    <tr>\n",
       "      <th>25</th>\n",
       "      <td>24</td>\n",
       "      <td>No</td>\n",
       "      <td>2009.0</td>\n",
       "      <td>5.0</td>\n",
       "      <td>9.0</td>\n",
       "    </tr>\n",
       "    <tr>\n",
       "      <th>26</th>\n",
       "      <td>30</td>\n",
       "      <td>Yes</td>\n",
       "      <td>3114.0</td>\n",
       "      <td>8.0</td>\n",
       "      <td>7.0</td>\n",
       "    </tr>\n",
       "    <tr>\n",
       "      <th>27</th>\n",
       "      <td>27</td>\n",
       "      <td>Yes</td>\n",
       "      <td>4208.0</td>\n",
       "      <td>7.0</td>\n",
       "      <td>4.0</td>\n",
       "    </tr>\n",
       "    <tr>\n",
       "      <th>28</th>\n",
       "      <td>27</td>\n",
       "      <td>Yes</td>\n",
       "      <td>5489.0</td>\n",
       "      <td>10.0</td>\n",
       "      <td>7.0</td>\n",
       "    </tr>\n",
       "    <tr>\n",
       "      <th>29</th>\n",
       "      <td>25</td>\n",
       "      <td>No</td>\n",
       "      <td>4007.0</td>\n",
       "      <td>9.0</td>\n",
       "      <td>4.0</td>\n",
       "    </tr>\n",
       "    <tr>\n",
       "      <th>...</th>\n",
       "      <td>...</td>\n",
       "      <td>...</td>\n",
       "      <td>...</td>\n",
       "      <td>...</td>\n",
       "      <td>...</td>\n",
       "    </tr>\n",
       "    <tr>\n",
       "      <th>120</th>\n",
       "      <td>31</td>\n",
       "      <td>Yes</td>\n",
       "      <td>2442.0</td>\n",
       "      <td>10.0</td>\n",
       "      <td>5.0</td>\n",
       "    </tr>\n",
       "    <tr>\n",
       "      <th>121</th>\n",
       "      <td>22</td>\n",
       "      <td>Yes</td>\n",
       "      <td>2151.0</td>\n",
       "      <td>11.0</td>\n",
       "      <td>4.0</td>\n",
       "    </tr>\n",
       "    <tr>\n",
       "      <th>122</th>\n",
       "      <td>25</td>\n",
       "      <td>No</td>\n",
       "      <td>1047.0</td>\n",
       "      <td>12.0</td>\n",
       "      <td>8.0</td>\n",
       "    </tr>\n",
       "    <tr>\n",
       "      <th>123</th>\n",
       "      <td>18</td>\n",
       "      <td>Yes</td>\n",
       "      <td>880.0</td>\n",
       "      <td>4.0</td>\n",
       "      <td>9.0</td>\n",
       "    </tr>\n",
       "    <tr>\n",
       "      <th>124</th>\n",
       "      <td>34</td>\n",
       "      <td>No</td>\n",
       "      <td>3139.0</td>\n",
       "      <td>9.0</td>\n",
       "      <td>6.0</td>\n",
       "    </tr>\n",
       "    <tr>\n",
       "      <th>125</th>\n",
       "      <td>29</td>\n",
       "      <td>No</td>\n",
       "      <td>4415.0</td>\n",
       "      <td>9.0</td>\n",
       "      <td>4.0</td>\n",
       "    </tr>\n",
       "    <tr>\n",
       "      <th>126</th>\n",
       "      <td>30</td>\n",
       "      <td>Yes</td>\n",
       "      <td>4129.0</td>\n",
       "      <td>10.0</td>\n",
       "      <td>7.0</td>\n",
       "    </tr>\n",
       "    <tr>\n",
       "      <th>127</th>\n",
       "      <td>29</td>\n",
       "      <td>No</td>\n",
       "      <td>4532.0</td>\n",
       "      <td>7.0</td>\n",
       "      <td>10.0</td>\n",
       "    </tr>\n",
       "    <tr>\n",
       "      <th>128</th>\n",
       "      <td>29</td>\n",
       "      <td>No</td>\n",
       "      <td>2894.0</td>\n",
       "      <td>7.0</td>\n",
       "      <td>7.0</td>\n",
       "    </tr>\n",
       "    <tr>\n",
       "      <th>129</th>\n",
       "      <td>34</td>\n",
       "      <td>No</td>\n",
       "      <td>2159.0</td>\n",
       "      <td>8.0</td>\n",
       "      <td>6.0</td>\n",
       "    </tr>\n",
       "    <tr>\n",
       "      <th>130</th>\n",
       "      <td>32</td>\n",
       "      <td>Yes</td>\n",
       "      <td>3024.0</td>\n",
       "      <td>9.0</td>\n",
       "      <td>9.0</td>\n",
       "    </tr>\n",
       "    <tr>\n",
       "      <th>131</th>\n",
       "      <td>21</td>\n",
       "      <td>Yes</td>\n",
       "      <td>2896.0</td>\n",
       "      <td>10.0</td>\n",
       "      <td>8.0</td>\n",
       "    </tr>\n",
       "    <tr>\n",
       "      <th>132</th>\n",
       "      <td>28</td>\n",
       "      <td>No</td>\n",
       "      <td>4955.0</td>\n",
       "      <td>4.0</td>\n",
       "      <td>4.0</td>\n",
       "    </tr>\n",
       "    <tr>\n",
       "      <th>133</th>\n",
       "      <td>29</td>\n",
       "      <td>Yes</td>\n",
       "      <td>2624.0</td>\n",
       "      <td>7.0</td>\n",
       "      <td>4.0</td>\n",
       "    </tr>\n",
       "    <tr>\n",
       "      <th>134</th>\n",
       "      <td>20</td>\n",
       "      <td>No</td>\n",
       "      <td>3399.0</td>\n",
       "      <td>8.0</td>\n",
       "      <td>6.0</td>\n",
       "    </tr>\n",
       "    <tr>\n",
       "      <th>135</th>\n",
       "      <td>22</td>\n",
       "      <td>No</td>\n",
       "      <td>3215.0</td>\n",
       "      <td>7.0</td>\n",
       "      <td>4.0</td>\n",
       "    </tr>\n",
       "    <tr>\n",
       "      <th>136</th>\n",
       "      <td>23</td>\n",
       "      <td>No</td>\n",
       "      <td>3164.0</td>\n",
       "      <td>11.0</td>\n",
       "      <td>7.0</td>\n",
       "    </tr>\n",
       "    <tr>\n",
       "      <th>137</th>\n",
       "      <td>36</td>\n",
       "      <td>No</td>\n",
       "      <td>2495.0</td>\n",
       "      <td>9.0</td>\n",
       "      <td>5.0</td>\n",
       "    </tr>\n",
       "    <tr>\n",
       "      <th>138</th>\n",
       "      <td>24</td>\n",
       "      <td>Yes</td>\n",
       "      <td>3004.0</td>\n",
       "      <td>7.0</td>\n",
       "      <td>10.0</td>\n",
       "    </tr>\n",
       "    <tr>\n",
       "      <th>139</th>\n",
       "      <td>30</td>\n",
       "      <td>No</td>\n",
       "      <td>4097.0</td>\n",
       "      <td>7.0</td>\n",
       "      <td>4.0</td>\n",
       "    </tr>\n",
       "    <tr>\n",
       "      <th>140</th>\n",
       "      <td>24</td>\n",
       "      <td>Yes</td>\n",
       "      <td>2501.0</td>\n",
       "      <td>10.0</td>\n",
       "      <td>7.0</td>\n",
       "    </tr>\n",
       "    <tr>\n",
       "      <th>141</th>\n",
       "      <td>26</td>\n",
       "      <td>No</td>\n",
       "      <td>3020.0</td>\n",
       "      <td>11.0</td>\n",
       "      <td>4.0</td>\n",
       "    </tr>\n",
       "    <tr>\n",
       "      <th>142</th>\n",
       "      <td>28</td>\n",
       "      <td>Yes</td>\n",
       "      <td>3265.0</td>\n",
       "      <td>8.0</td>\n",
       "      <td>5.0</td>\n",
       "    </tr>\n",
       "    <tr>\n",
       "      <th>143</th>\n",
       "      <td>26</td>\n",
       "      <td>Yes</td>\n",
       "      <td>2945.0</td>\n",
       "      <td>6.0</td>\n",
       "      <td>5.0</td>\n",
       "    </tr>\n",
       "    <tr>\n",
       "      <th>144</th>\n",
       "      <td>15</td>\n",
       "      <td>No</td>\n",
       "      <td>1803.0</td>\n",
       "      <td>10.0</td>\n",
       "      <td>8.0</td>\n",
       "    </tr>\n",
       "    <tr>\n",
       "      <th>145</th>\n",
       "      <td>29</td>\n",
       "      <td>Yes</td>\n",
       "      <td>1842.0</td>\n",
       "      <td>4.0</td>\n",
       "      <td>9.0</td>\n",
       "    </tr>\n",
       "    <tr>\n",
       "      <th>146</th>\n",
       "      <td>24</td>\n",
       "      <td>No</td>\n",
       "      <td>3473.0</td>\n",
       "      <td>6.0</td>\n",
       "      <td>9.0</td>\n",
       "    </tr>\n",
       "    <tr>\n",
       "      <th>147</th>\n",
       "      <td>31</td>\n",
       "      <td>No</td>\n",
       "      <td>1717.0</td>\n",
       "      <td>10.0</td>\n",
       "      <td>5.0</td>\n",
       "    </tr>\n",
       "    <tr>\n",
       "      <th>148</th>\n",
       "      <td>33</td>\n",
       "      <td>No</td>\n",
       "      <td>3680.0</td>\n",
       "      <td>6.0</td>\n",
       "      <td>9.0</td>\n",
       "    </tr>\n",
       "    <tr>\n",
       "      <th>149</th>\n",
       "      <td>27</td>\n",
       "      <td>Yes</td>\n",
       "      <td>755.0</td>\n",
       "      <td>10.0</td>\n",
       "      <td>9.0</td>\n",
       "    </tr>\n",
       "  </tbody>\n",
       "</table>\n",
       "<p>150 rows × 5 columns</p>\n",
       "</div>"
      ],
      "text/plain": [
       "     Age Alcohol  Calories  Recovery  Train\n",
       "0     26     Yes    4377.0       9.0    7.0\n",
       "1     29     Yes    4846.0      10.0    9.0\n",
       "2     27     Yes    3591.0      10.0    9.0\n",
       "3     25      No    4401.0       6.0    4.0\n",
       "4     28      No    4049.0       9.0    7.0\n",
       "5     32     Yes    1743.0       8.0    7.0\n",
       "6     29      No    4191.0       8.0    6.0\n",
       "7     23     Yes    2739.0       7.0    6.0\n",
       "8     30     Yes    2454.0       8.0    7.0\n",
       "9     23     Yes    1404.0      10.0    9.0\n",
       "10    35      No    1947.0       6.0    9.0\n",
       "11    30      No    3145.0       8.0   10.0\n",
       "12    23      No    4697.0      11.0    9.0\n",
       "13    36      No    4517.0       7.0    6.0\n",
       "14    26      No    3396.0       7.0    9.0\n",
       "15    26     Yes    2507.0      10.0   10.0\n",
       "16    27      No    4809.0       8.0    7.0\n",
       "17    29      No    2801.0       8.0    5.0\n",
       "18    30      No    1975.0      11.0    7.0\n",
       "19    21      No    4639.0       5.0    9.0\n",
       "20    31      No    2267.0       8.0    3.0\n",
       "21    29      No    3484.0       7.0    9.0\n",
       "22    33     Yes    2279.0       5.0    8.0\n",
       "23    31      No    2952.0       6.0    5.0\n",
       "24    43     Yes    3671.0       8.0    6.0\n",
       "25    24      No    2009.0       5.0    9.0\n",
       "26    30     Yes    3114.0       8.0    7.0\n",
       "27    27     Yes    4208.0       7.0    4.0\n",
       "28    27     Yes    5489.0      10.0    7.0\n",
       "29    25      No    4007.0       9.0    4.0\n",
       "..   ...     ...       ...       ...    ...\n",
       "120   31     Yes    2442.0      10.0    5.0\n",
       "121   22     Yes    2151.0      11.0    4.0\n",
       "122   25      No    1047.0      12.0    8.0\n",
       "123   18     Yes     880.0       4.0    9.0\n",
       "124   34      No    3139.0       9.0    6.0\n",
       "125   29      No    4415.0       9.0    4.0\n",
       "126   30     Yes    4129.0      10.0    7.0\n",
       "127   29      No    4532.0       7.0   10.0\n",
       "128   29      No    2894.0       7.0    7.0\n",
       "129   34      No    2159.0       8.0    6.0\n",
       "130   32     Yes    3024.0       9.0    9.0\n",
       "131   21     Yes    2896.0      10.0    8.0\n",
       "132   28      No    4955.0       4.0    4.0\n",
       "133   29     Yes    2624.0       7.0    4.0\n",
       "134   20      No    3399.0       8.0    6.0\n",
       "135   22      No    3215.0       7.0    4.0\n",
       "136   23      No    3164.0      11.0    7.0\n",
       "137   36      No    2495.0       9.0    5.0\n",
       "138   24     Yes    3004.0       7.0   10.0\n",
       "139   30      No    4097.0       7.0    4.0\n",
       "140   24     Yes    2501.0      10.0    7.0\n",
       "141   26      No    3020.0      11.0    4.0\n",
       "142   28     Yes    3265.0       8.0    5.0\n",
       "143   26     Yes    2945.0       6.0    5.0\n",
       "144   15      No    1803.0      10.0    8.0\n",
       "145   29     Yes    1842.0       4.0    9.0\n",
       "146   24      No    3473.0       6.0    9.0\n",
       "147   31      No    1717.0      10.0    5.0\n",
       "148   33      No    3680.0       6.0    9.0\n",
       "149   27     Yes     755.0      10.0    9.0\n",
       "\n",
       "[150 rows x 5 columns]"
      ]
     },
     "execution_count": 22,
     "metadata": {},
     "output_type": "execute_result"
    }
   ],
   "source": [
    "df = pd.DataFrame(data={'Age': age, 'Train': train, 'Alcohol': alco, 'Calories': cal, 'Recovery': rec})\n",
    "df"
   ]
  },
  {
   "cell_type": "markdown",
   "metadata": {},
   "source": [
    "## Calculate Score from the Dataframe"
   ]
  },
  {
   "cell_type": "markdown",
   "metadata": {},
   "source": [
    "From the data collected, we are going to create a score for the 5 factors that affect athletes performance and find out which random individual should have the best performing athlete. \n",
    "\n",
    "1. Age : If age 26 get 100 points, less than 26 is 50 or greater than 26 75 points.\n",
    "2. Alcohol : If False 100 points if true 0\n",
    "3. Training Hours : If 6 hours 100 points anything else 50\n",
    "4. Recovery Hours : if 9 hours 100 points anything else 50\n",
    "5. Calories : If 3000 calories 100 points anything else 50\n",
    "\n",
    "Lets calculate the scores for the all athletes. Max score should be 500 where an athlete is performing to the optimal level."
   ]
  },
  {
   "cell_type": "code",
   "execution_count": 26,
   "metadata": {},
   "outputs": [
    {
     "data": {
      "text/html": [
       "<div>\n",
       "<style>\n",
       "    .dataframe thead tr:only-child th {\n",
       "        text-align: right;\n",
       "    }\n",
       "\n",
       "    .dataframe thead th {\n",
       "        text-align: left;\n",
       "    }\n",
       "\n",
       "    .dataframe tbody tr th {\n",
       "        vertical-align: top;\n",
       "    }\n",
       "</style>\n",
       "<table border=\"1\" class=\"dataframe\">\n",
       "  <thead>\n",
       "    <tr style=\"text-align: right;\">\n",
       "      <th></th>\n",
       "      <th>Age</th>\n",
       "      <th>Alcohol</th>\n",
       "      <th>Calories</th>\n",
       "      <th>Recovery</th>\n",
       "      <th>Train</th>\n",
       "    </tr>\n",
       "  </thead>\n",
       "  <tbody>\n",
       "    <tr>\n",
       "      <th>0</th>\n",
       "      <td>26</td>\n",
       "      <td>Yes</td>\n",
       "      <td>4377.0</td>\n",
       "      <td>9.0</td>\n",
       "      <td>7.0</td>\n",
       "    </tr>\n",
       "    <tr>\n",
       "      <th>14</th>\n",
       "      <td>26</td>\n",
       "      <td>No</td>\n",
       "      <td>3396.0</td>\n",
       "      <td>7.0</td>\n",
       "      <td>9.0</td>\n",
       "    </tr>\n",
       "    <tr>\n",
       "      <th>15</th>\n",
       "      <td>26</td>\n",
       "      <td>Yes</td>\n",
       "      <td>2507.0</td>\n",
       "      <td>10.0</td>\n",
       "      <td>10.0</td>\n",
       "    </tr>\n",
       "    <tr>\n",
       "      <th>51</th>\n",
       "      <td>26</td>\n",
       "      <td>No</td>\n",
       "      <td>2914.0</td>\n",
       "      <td>6.0</td>\n",
       "      <td>8.0</td>\n",
       "    </tr>\n",
       "    <tr>\n",
       "      <th>63</th>\n",
       "      <td>26</td>\n",
       "      <td>No</td>\n",
       "      <td>3074.0</td>\n",
       "      <td>12.0</td>\n",
       "      <td>3.0</td>\n",
       "    </tr>\n",
       "    <tr>\n",
       "      <th>84</th>\n",
       "      <td>26</td>\n",
       "      <td>No</td>\n",
       "      <td>2163.0</td>\n",
       "      <td>8.0</td>\n",
       "      <td>6.0</td>\n",
       "    </tr>\n",
       "    <tr>\n",
       "      <th>112</th>\n",
       "      <td>26</td>\n",
       "      <td>Yes</td>\n",
       "      <td>2743.0</td>\n",
       "      <td>12.0</td>\n",
       "      <td>4.0</td>\n",
       "    </tr>\n",
       "    <tr>\n",
       "      <th>113</th>\n",
       "      <td>26</td>\n",
       "      <td>No</td>\n",
       "      <td>2630.0</td>\n",
       "      <td>8.0</td>\n",
       "      <td>6.0</td>\n",
       "    </tr>\n",
       "    <tr>\n",
       "      <th>141</th>\n",
       "      <td>26</td>\n",
       "      <td>No</td>\n",
       "      <td>3020.0</td>\n",
       "      <td>11.0</td>\n",
       "      <td>4.0</td>\n",
       "    </tr>\n",
       "    <tr>\n",
       "      <th>143</th>\n",
       "      <td>26</td>\n",
       "      <td>Yes</td>\n",
       "      <td>2945.0</td>\n",
       "      <td>6.0</td>\n",
       "      <td>5.0</td>\n",
       "    </tr>\n",
       "  </tbody>\n",
       "</table>\n",
       "</div>"
      ],
      "text/plain": [
       "     Age Alcohol  Calories  Recovery  Train\n",
       "0     26     Yes    4377.0       9.0    7.0\n",
       "14    26      No    3396.0       7.0    9.0\n",
       "15    26     Yes    2507.0      10.0   10.0\n",
       "51    26      No    2914.0       6.0    8.0\n",
       "63    26      No    3074.0      12.0    3.0\n",
       "84    26      No    2163.0       8.0    6.0\n",
       "112   26     Yes    2743.0      12.0    4.0\n",
       "113   26      No    2630.0       8.0    6.0\n",
       "141   26      No    3020.0      11.0    4.0\n",
       "143   26     Yes    2945.0       6.0    5.0"
      ]
     },
     "execution_count": 26,
     "metadata": {},
     "output_type": "execute_result"
    }
   ],
   "source": [
    "# Create a score for Age profile\n",
    "filtered_data = df[(df.Age == 26)]\n",
    "filtered_data"
   ]
  },
  {
   "cell_type": "code",
   "execution_count": null,
   "metadata": {
    "collapsed": true
   },
   "outputs": [],
   "source": []
  },
  {
   "cell_type": "code",
   "execution_count": 27,
   "metadata": {
    "collapsed": true
   },
   "outputs": [],
   "source": [
    "#https://matplotlib.org/gallery/statistics/histogram_multihist.html#sphx-glr-gallery-statistics-histogram-multihist-py"
   ]
  },
  {
   "cell_type": "markdown",
   "metadata": {},
   "source": [
    "## Summary"
   ]
  },
  {
   "cell_type": "code",
   "execution_count": null,
   "metadata": {
    "collapsed": true
   },
   "outputs": [],
   "source": []
  },
  {
   "cell_type": "markdown",
   "metadata": {},
   "source": [
    "## References"
   ]
  },
  {
   "cell_type": "markdown",
   "metadata": {},
   "source": [
    "[1] https://www.irishexaminer.com/breakingnews/sport/gaa/10-statistics-that-will-cause-alarm-for-the-gaa-870028.html"
   ]
  },
  {
   "cell_type": "markdown",
   "metadata": {
    "collapsed": true
   },
   "source": [
    "[2] http://theconversation.com/how-does-aging-affect-athletic-performance-36051"
   ]
  },
  {
   "cell_type": "markdown",
   "metadata": {},
   "source": [
    "[3] https://www.joefrielsblog.com/2017/01/how-important-is-training-volume.html"
   ]
  },
  {
   "cell_type": "markdown",
   "metadata": {},
   "source": [
    "[4] http://blog.isportsanalysis.com/what-sport-performance-analysis/"
   ]
  },
  {
   "cell_type": "markdown",
   "metadata": {
    "collapsed": true
   },
   "source": [
    "[5] http://www.askaboutalcohol.ie/health/sports-performance/"
   ]
  },
  {
   "cell_type": "markdown",
   "metadata": {},
   "source": [
    "[6] https://believeperform.com/performance/overtraining-how-to-prevent-it/"
   ]
  },
  {
   "cell_type": "markdown",
   "metadata": {},
   "source": [
    "[7] https://drmichellecleere.com/blog/undertraining-and-overtraining/"
   ]
  },
  {
   "cell_type": "markdown",
   "metadata": {
    "collapsed": true
   },
   "source": [
    "[8] https://www.voanews.com/a/professional-athletes-prepare-for-life-after-sports-118377659/163130.html"
   ]
  },
  {
   "cell_type": "markdown",
   "metadata": {
    "collapsed": true
   },
   "source": [
    "[9] https://healthyeating.sfgate.com/caloric-needs-athletes-7179.html"
   ]
  },
  {
   "cell_type": "markdown",
   "metadata": {},
   "source": [
    "[10] https://www.npr.org/sections/thesalt/2012/07/24/157317262/how-many-calories-do-olympic-athletes-need-it-depends?t=1543683876145"
   ]
  },
  {
   "cell_type": "markdown",
   "metadata": {},
   "source": [
    "[11] https://www.verywellfit.com/the-benefits-of-rest-and-recovery-after-exercise-3120575"
   ]
  },
  {
   "cell_type": "markdown",
   "metadata": {
    "collapsed": true
   },
   "source": [
    "[12] http://www.mastersathlete.com.au/2017/03/weve-proved-it-older-athletes-do-take-longer-to-recover/"
   ]
  },
  {
   "cell_type": "markdown",
   "metadata": {
    "collapsed": true
   },
   "source": [
    "[13] https://www.dataquest.io/blog/numpy-tutorial-python/"
   ]
  },
  {
   "cell_type": "markdown",
   "metadata": {
    "collapsed": true
   },
   "source": [
    "[14] https://greatist.com/fitness/over-hill-have-you-passed-peak-performance"
   ]
  },
  {
   "cell_type": "markdown",
   "metadata": {
    "collapsed": true
   },
   "source": [
    "[15] http://time.com/5154982/age-requirement-olympics-2018/"
   ]
  },
  {
   "cell_type": "markdown",
   "metadata": {},
   "source": [
    "[16] \"Fatigue and underperformance in athletes: the overtraining syndrome\" by Richard Budgett (1998)"
   ]
  },
  {
   "cell_type": "markdown",
   "metadata": {},
   "source": [
    "[17] https://theconversation.com/how-does-aging-affect-athletic-performance-36051"
   ]
  },
  {
   "cell_type": "markdown",
   "metadata": {},
   "source": [
    "[18] https://www.ncbi.nlm.nih.gov/pubmed/29345524"
   ]
  },
  {
   "cell_type": "markdown",
   "metadata": {},
   "source": [
    "[19] https://www.gssiweb.org/sports-science-exchange/article/sse-120-recovery-techniques-for-athletes"
   ]
  }
 ],
 "metadata": {
  "kernelspec": {
   "display_name": "Python 3",
   "language": "python",
   "name": "python3"
  },
  "language_info": {
   "codemirror_mode": {
    "name": "ipython",
    "version": 3
   },
   "file_extension": ".py",
   "mimetype": "text/x-python",
   "name": "python",
   "nbconvert_exporter": "python",
   "pygments_lexer": "ipython3",
   "version": "3.6.3"
  }
 },
 "nbformat": 4,
 "nbformat_minor": 2
}
