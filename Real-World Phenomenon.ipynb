{
 "cells": [
  {
   "cell_type": "markdown",
   "metadata": {},
   "source": [
    "<img src=\"https://upload.wikimedia.org/wikipedia/commons/f/ff/Paul_Murphy_%28hurler%29_and_Jonathan_Glynn.jpg\" width=\"600\">"
   ]
  },
  {
   "cell_type": "markdown",
   "metadata": {},
   "source": [
    "The following jupyter notebook concerns the performance of sport athletes based on a number of variables. In this notebook, I am required to:\n",
    "\n",
    "1. Choose a real-world phenomenon that can be measured and for which you could collect at least one-hundred data points across at least four different variables.\n",
    "\n",
    "2. Investigate the types of variables involved, their likely distributions, and their relationships with each other.\n",
    "\n",
    "3. Synthesise/simulate a data set as closely matching their properties as possible.\n",
    "\n",
    "4. Detail your research and implement the simulation in a Jupyter notebook – the data set itself can simply be displayed in an output cell within the notebook.\n",
    "\n",
    "\n",
    "\n"
   ]
  },
  {
   "cell_type": "markdown",
   "metadata": {},
   "source": [
    "## Introduction"
   ]
  },
  {
   "cell_type": "markdown",
   "metadata": {},
   "source": [
    "The real world phenomenon this juypter notebook is going to concentrate on is the performance of sport athletes during the season. We are going to analyse the performace of random generate indvidual players based on a number of variables. We are going to create a sample of size of over 250 athletes."
   ]
  },
  {
   "cell_type": "markdown",
   "metadata": {},
   "source": [
    "Variables\n",
    "1. Age of the players - ages will be between 18 to 35\n",
    "2. Hours trained per week by hour\n",
    "3. Speed\n",
    "4. Whether a player drinks alochol \n",
    "5. Recovery\n",
    "6. BMI"
   ]
  },
  {
   "cell_type": "markdown",
   "metadata": {},
   "source": [
    "The reason I "
   ]
  },
  {
   "cell_type": "code",
   "execution_count": 9,
   "metadata": {},
   "outputs": [
    {
     "data": {
      "text/plain": [
       "array([30, 20, 31, 24, 27, 22, 32, 19, 34, 32, 26, 25, 23, 30, 33, 31, 23,\n",
       "       29, 22, 34, 34, 22, 32, 33, 34, 31, 22, 23, 28, 25, 31, 19, 18, 18,\n",
       "       32, 24, 24, 18, 20, 20, 33, 34, 24, 34, 24, 27, 31, 31, 20, 22, 29,\n",
       "       29, 25, 33, 26, 33, 21, 23, 23, 22, 30, 23, 34, 22, 32, 31, 35, 25,\n",
       "       28, 30, 33, 28, 19, 25, 23, 30, 20, 20, 24, 23, 26, 29, 23, 35, 28,\n",
       "       26, 29, 28, 22, 34, 18, 22, 24, 26, 27, 20, 26, 19, 18, 27, 24, 33,\n",
       "       23, 27, 32, 25, 33, 34, 32, 35, 34, 28, 20, 34, 35, 24, 33, 26, 26,\n",
       "       34, 27, 22, 29, 33, 27, 29, 20, 21, 27, 35, 35, 26, 35, 24, 32, 24,\n",
       "       27, 29, 28, 27, 22, 30, 34, 28, 34, 28, 26, 19, 23, 22, 27, 22, 26,\n",
       "       23, 22, 33, 27, 35, 21, 20, 35, 30, 31, 22, 22, 35, 21, 21, 33, 21,\n",
       "       28, 18, 32, 27, 26, 24, 25, 22, 27, 32, 30, 23, 19, 31, 30, 26, 35,\n",
       "       33, 20, 35, 30, 28, 32, 28, 34, 27, 22, 21, 33, 32, 32, 24, 32, 34,\n",
       "       31, 20, 28, 23, 31, 34, 31, 26, 31, 26, 26, 24, 24, 24, 30, 32, 18,\n",
       "       24, 18, 25, 30, 21, 24, 34, 22, 31, 34, 23, 21, 30, 25, 19, 20, 31,\n",
       "       19, 29, 29, 26, 27, 20, 35, 28, 30, 23, 29, 33])"
      ]
     },
     "execution_count": 9,
     "metadata": {},
     "output_type": "execute_result"
    }
   ],
   "source": [
    "#Import the necessary libraries\n",
    "import numpy as np\n",
    "import pandas as pd\n",
    "\n",
    "# Fixing random state for reproducibility\n",
    "np.random.seed(666)\n",
    "\n",
    "#Randomly generate numbers between 18 and 35 for a 250 data points\n",
    "players = np.random.randint(18,36, size=250)\n",
    "players"
   ]
  },
  {
   "cell_type": "code",
   "execution_count": 10,
   "metadata": {
    "collapsed": true
   },
   "outputs": [],
   "source": [
    "hist()"
   ]
  },
  {
   "cell_type": "code",
   "execution_count": null,
   "metadata": {
    "collapsed": true
   },
   "outputs": [],
   "source": []
  },
  {
   "cell_type": "code",
   "execution_count": null,
   "metadata": {
    "collapsed": true
   },
   "outputs": [],
   "source": []
  },
  {
   "cell_type": "code",
   "execution_count": null,
   "metadata": {
    "collapsed": true
   },
   "outputs": [],
   "source": []
  },
  {
   "cell_type": "code",
   "execution_count": null,
   "metadata": {
    "collapsed": true
   },
   "outputs": [],
   "source": []
  },
  {
   "cell_type": "code",
   "execution_count": null,
   "metadata": {
    "collapsed": true
   },
   "outputs": [],
   "source": [
    "#https://matplotlib.org/gallery/statistics/histogram_multihist.html#sphx-glr-gallery-statistics-histogram-multihist-py"
   ]
  },
  {
   "cell_type": "markdown",
   "metadata": {},
   "source": [
    "As a lecturer I might pick the real-world phenomenon of the performance of students studying a ten-credit module. After some research, I decide that the most interesting variable related to this is the mark a student receives in the module - this is going to be one of my variables (grade).Upon investigation of the problem, I find that the number of hours on average astudent studies per week (hours), the number of times they log onto Moodle in the first three weeks of term (logins), and their previous level of degree qualification (qual) are closely related to grade. The hours and grade variables will be non-negative realnumber with two decimal places, logins will be a non-zero integer and qual will be a\n",
    "categorical variable with four possible values: none, bachelors, masters, or phd.\n",
    "After some online research, I find that full-time post-graduate students study on average\n",
    "four hours per week with a standard deviation of a quarter of an hour and that\n",
    "a normal distribution is an acceptable model of such a variable. Likewise, I investigate\n",
    "the other four variables, and I also look at the relationships between the variables. I\n",
    "devise an algorithm (or method) to generate such a data set, simulating values of the\n",
    "four variables for two-hundred students. I detail all this work in my notebook, and then\n",
    "I add some code in to generate a data set with those properties."
   ]
  },
  {
   "cell_type": "markdown",
   "metadata": {},
   "source": [
    "Benefits in sport"
   ]
  },
  {
   "cell_type": "markdown",
   "metadata": {},
   "source": [
    "## References"
   ]
  },
  {
   "cell_type": "markdown",
   "metadata": {},
   "source": [
    "[1] https://www.irishexaminer.com/breakingnews/sport/gaa/10-statistics-that-will-cause-alarm-for-the-gaa-870028.html"
   ]
  },
  {
   "cell_type": "markdown",
   "metadata": {
    "collapsed": true
   },
   "source": [
    "[2] http://theconversation.com/how-does-aging-affect-athletic-performance-36051"
   ]
  },
  {
   "cell_type": "markdown",
   "metadata": {},
   "source": [
    "[3] https://www.joefrielsblog.com/2017/01/how-important-is-training-volume.html"
   ]
  }
 ],
 "metadata": {
  "kernelspec": {
   "display_name": "Python 3",
   "language": "python",
   "name": "python3"
  },
  "language_info": {
   "codemirror_mode": {
    "name": "ipython",
    "version": 3
   },
   "file_extension": ".py",
   "mimetype": "text/x-python",
   "name": "python",
   "nbconvert_exporter": "python",
   "pygments_lexer": "ipython3",
   "version": "3.6.3"
  }
 },
 "nbformat": 4,
 "nbformat_minor": 2
}
