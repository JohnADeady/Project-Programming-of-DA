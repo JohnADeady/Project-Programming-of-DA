{
 "cells": [
  {
   "cell_type": "markdown",
   "metadata": {},
   "source": [
    "# Real World Phenomenon"
   ]
  },
  {
   "cell_type": "markdown",
   "metadata": {},
   "source": [
    "For this project I am required to create a data set by simulating a real-world phenomenon of my choosing. Then, rather than collect data related to the phenomenon, I will need to model and synthesise the data using Python preferable using numpy.random package. \n",
    "\n",
    "Specifically, in this project I am required to:\n",
    "\n",
    "1. Choose a real-world phenomenon that can be measured and for which you could collect at least one-hundred data points across at least four different variables.\n",
    "\n",
    "2. Investigate the types of variables involved, their likely distributions, and their relationships with each other.\n",
    "\n",
    "3. Synthesise/simulate a data set as closely matching their properties as possible.\n",
    "\n",
    "4. Detail your research and implement the simulation in a Jupyter notebook – the data set itself can simply be displayed in an output cell within the notebook.\n",
    "\n",
    "\n",
    "\n"
   ]
  },
  {
   "cell_type": "markdown",
   "metadata": {},
   "source": [
    "<img src=\"https://upload.wikimedia.org/wikipedia/en/f/f5/Logo_of_GAA.svg\">"
   ]
  },
  {
   "cell_type": "markdown",
   "metadata": {},
   "source": [
    "## GAA All Ireland "
   ]
  },
  {
   "cell_type": "markdown",
   "metadata": {},
   "source": [
    "I am hoping to analyse the performace of all Ireland winning teams based on a number of variables. The variables relating to this analyse includes the population that participate in the GAA, the next relates to the age of average age, hours trained per week by hour and finally  "
   ]
  },
  {
   "cell_type": "markdown",
   "metadata": {},
   "source": [
    "Variables\n",
    "1. Participation within a county\n",
    "2. Average Age of county team\n",
    "3. Training per week by hour\n",
    "4. Average scores conceded and average scores\n",
    "5. Average Possession\n",
    "6. "
   ]
  },
  {
   "cell_type": "markdown",
   "metadata": {},
   "source": [
    "As a lecturer I might pick the real-world phenomenon of the performance of students studying a ten-credit module. After some research, I decide that the most interesting variable related to this is the mark a student receives in the module - this is going to be one of my variables (grade).Upon investigation of the problem, I find that the number of hours on average astudent studies per week (hours), the number of times they log onto Moodle in the first three weeks of term (logins), and their previous level of degree qualification (qual) are closely related to grade. The hours and grade variables will be non-negative realnumber with two decimal places, logins will be a non-zero integer and qual will be a\n",
    "categorical variable with four possible values: none, bachelors, masters, or phd.\n",
    "After some online research, I find that full-time post-graduate students study on average\n",
    "four hours per week with a standard deviation of a quarter of an hour and that\n",
    "a normal distribution is an acceptable model of such a variable. Likewise, I investigate\n",
    "the other four variables, and I also look at the relationships between the variables. I\n",
    "devise an algorithm (or method) to generate such a data set, simulating values of the\n",
    "four variables for two-hundred students. I detail all this work in my notebook, and then\n",
    "I add some code in to generate a data set with those properties."
   ]
  },
  {
   "cell_type": "markdown",
   "metadata": {},
   "source": [
    "## References"
   ]
  },
  {
   "cell_type": "markdown",
   "metadata": {},
   "source": [
    "[1] https://www.irishexaminer.com/breakingnews/sport/gaa/10-statistics-that-will-cause-alarm-for-the-gaa-870028.html"
   ]
  },
  {
   "cell_type": "code",
   "execution_count": null,
   "metadata": {
    "collapsed": true
   },
   "outputs": [],
   "source": []
  }
 ],
 "metadata": {
  "kernelspec": {
   "display_name": "Python 3",
   "language": "python",
   "name": "python3"
  },
  "language_info": {
   "codemirror_mode": {
    "name": "ipython",
    "version": 3
   },
   "file_extension": ".py",
   "mimetype": "text/x-python",
   "name": "python",
   "nbconvert_exporter": "python",
   "pygments_lexer": "ipython3",
   "version": "3.6.3"
  }
 },
 "nbformat": 4,
 "nbformat_minor": 2
}
