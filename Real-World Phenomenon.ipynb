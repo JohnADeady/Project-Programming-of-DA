{
 "cells": [
  {
   "cell_type": "markdown",
   "metadata": {},
   "source": [
    "<img src=\"Athlete.jpg\" />"
   ]
  },
  {
   "cell_type": "markdown",
   "metadata": {},
   "source": [
    "In this Jupyter notebook, we will create a data set by simulating a real-world phenomenon. Then, rather than collect data related to the phenomenon, you should model and synthesise such data using Python\n",
    "\n",
    "In this notebook, We are required to:\n",
    "1.\tChoose a real-world phenomenon that can be measured and for which you could collect at least one-hundred data points across at least four different variables.\n",
    "\n",
    "2.\tInvestigate the types of variables involved, their likely distributions, and their relationships with each other.\n",
    "\n",
    "3.\tSynthesise/simulate a data set as closely matching their properties as possible.\n",
    "\n",
    "4.\tDetail your research and implement the simulation in a Jupyter notebook – the data set itself can simply be displayed in an output cell within the notebook.\n"
   ]
  },
  {
   "cell_type": "markdown",
   "metadata": {},
   "source": [
    "## Introduction"
   ]
  },
  {
   "cell_type": "markdown",
   "metadata": {},
   "source": [
    "The real-world phenomenon that I have chosen to analyse is the performance of sport athletes and the factors that affect their performance. Analysing sport performance in any and all sports allows both players and coaches to acquire important information on a player’s performance and allows them to dissect this information to improve their performance.\n",
    "\n",
    "We will investigate 5 factors that have a negative impact on players performance. We will provide detailed analysis on each factor and their relationship with each other. These factors include age, hours trained, alcohol, calories intake & recovery hours. Once this analysis is completed, we will then create a data set based on the data collected.  \n",
    "\n",
    "We will use a sample size of 500 athletes that will be randomly generated using NumPy. Random. We will begin by importing all necessary libraries from Python to complete this notebook.\n"
   ]
  },
  {
   "cell_type": "markdown",
   "metadata": {},
   "source": [
    "## Factors"
   ]
  },
  {
   "cell_type": "markdown",
   "metadata": {},
   "source": [
    "#### Age"
   ]
  },
  {
   "cell_type": "markdown",
   "metadata": {},
   "source": [
    "The first factor we are going to look at is the age of an athlete. Athletes performance decreases as they get older. Generally speaking, athletes start to see physical declines at age 26, give or take. (This would seem in line with the long-standing notion in baseball that players tend to hit their peak anywhere from ages 27 to 30.) For swimmers, the news is more sobering, as the mean peak age is 21. For chess grandmasters, participating in an activity that relies more than mental acuity and sharpness rather than brute, acquired physicality, the peak age is closer to 31.4. [[Wired]]( https://www.wired.com/2011/07/athletes-peak-age/)\n",
    "\n",
    "As the aging process plays out, years of wear and tear are revealed through injury and muscular imbalance . In what can be perceived as an act of rebellion by the body, the treads are literally coming off of the tires. The impact of aging on performance rears its ugly head in most every sport by compromising endurance, motor function, muscular strength, and balance. So it should come as no surprise that more than 65 percent of U.S. Olympians are in their 20s. The same is true of professional athletes. [[Great]]( https://greatist.com/fitness/over-hill-have-you-passed-peak-performance) \n",
    "\n",
    "A big reason we see declines in aerobic (or endurance) athletic performance with age is that our bodies can’t use oxygen as effectively. The maximal ability to utilize oxygen (VO2max) is a predictor of endurance performance across ages. VO2max is a numerical value that describes how much oxygen your body can use per kilogram of body weight.\n",
    "VO2max is affected by how well your body can bring oxygen into the lungs, how well this is carried in our blood to the working muscles, and how much oxygen the muscles can use to fuel contraction. [[Mashable]]( https://mashable.com/2015/07/07/aging-athletic-performance/?europe=true#YZXRDfVzwaqZ)\n",
    "\n",
    "The most relevant distribution for the age factor would be the poisson distribution. We set the mean of athletes age at 28. This will gives us an realistic age range for elite athletes so we can create an appropriate data set. "
   ]
  },
  {
   "cell_type": "code",
   "execution_count": 28,
   "metadata": {},
   "outputs": [
    {
     "data": {
      "text/plain": [
       "array([26, 29, 27, 25, 28, 32, 29, 23, 30, 23, 35, 30, 23, 36, 26, 26, 27,\n",
       "       29, 30, 21, 31, 29, 33, 31, 43, 24, 30, 27, 27, 25, 24, 19, 24, 42,\n",
       "       30, 39, 25, 28, 29, 19, 35, 33, 30, 29, 32, 16, 34, 28, 28, 22, 25,\n",
       "       26, 34, 30, 25, 30, 18, 22, 32, 34, 28, 30, 30, 26, 21, 32, 28, 24,\n",
       "       24, 36, 28, 21, 23, 38, 19, 29, 29, 27, 24, 28, 32, 31, 27, 30, 26,\n",
       "       30, 27, 27, 27, 35, 32, 34, 27, 21, 21, 33, 28, 28, 27, 32, 35, 23,\n",
       "       28, 32, 31, 24, 27, 30, 32, 20, 22, 36, 26, 26, 25, 32, 27, 29, 21,\n",
       "       27, 31, 22, 25, 18, 34, 29, 30, 29, 29, 34, 32, 21, 28, 29, 20, 22,\n",
       "       23, 36, 24, 30, 24, 26, 28, 26, 15, 29, 24, 31, 33, 27, 36, 27, 29,\n",
       "       30, 29, 29, 20, 27, 35, 27, 29, 27, 28, 39, 37, 25, 25, 27, 21, 30,\n",
       "       26, 25, 20, 29, 23, 22, 31, 29, 32, 33, 30, 34, 32, 22, 27, 24, 24,\n",
       "       33, 29, 28, 34, 28, 27, 24, 31, 32, 18, 32, 28, 34, 37, 19, 19, 32,\n",
       "       29, 46, 26, 23, 20, 32, 14, 31, 23, 31, 27, 26, 30, 27, 26, 24, 17,\n",
       "       22, 24, 26, 35, 32, 18, 32, 35, 27, 25, 32, 25, 26, 26, 32, 33, 22,\n",
       "       25, 26, 26, 25, 35, 36, 21, 31, 20, 23, 24, 23, 25, 24, 40, 31, 29,\n",
       "       37, 36, 31, 21, 33, 25, 32, 35, 30, 31, 21, 31, 31, 35, 25, 23, 20,\n",
       "       24, 25, 26, 29, 16, 24, 33, 30, 30, 37, 21, 24, 30, 33, 29, 34, 36,\n",
       "       20, 35, 28, 39, 35, 27, 28, 33, 28, 34, 22, 38, 28, 35, 26, 25, 27,\n",
       "       27, 31, 30, 33, 24, 32, 28, 31, 22, 29, 23, 23, 26, 27, 27, 28, 30,\n",
       "       37, 41, 27, 24, 24, 26, 34, 21, 25, 30, 36, 36, 21, 28, 27, 16, 30,\n",
       "       26, 31, 32, 33, 28, 26, 21, 28, 22, 33, 32, 25, 17, 27, 21, 29, 30,\n",
       "       33, 30, 31, 31, 31, 26, 35, 38, 24, 27, 25, 17, 29, 21, 29, 33, 25,\n",
       "       34, 24, 24, 41, 30, 21, 34, 25, 32, 27, 33, 32, 33, 30, 26, 28, 28,\n",
       "       36, 25, 24, 26, 24, 23, 30, 25, 24, 27, 42, 18, 35, 24, 26, 25, 35,\n",
       "       28, 24, 24, 22, 26, 28, 20, 27, 28, 33, 22, 34, 25, 26, 32, 35, 25,\n",
       "       29, 30, 32, 36, 24, 29, 32, 25, 33, 24, 31, 20, 31, 28, 23, 27, 28,\n",
       "       27, 32, 24, 22, 25, 33, 30, 24, 20, 22, 27, 34, 25, 39, 21, 42, 35,\n",
       "       25, 31, 27, 35, 28, 21, 38, 28, 22, 22, 32, 35, 37, 26, 30, 23, 24,\n",
       "       31, 29, 19, 27, 22, 27, 18, 27, 29, 20, 23, 25, 33, 30, 29, 24, 32,\n",
       "       33, 30, 29, 25, 41, 22, 30])"
      ]
     },
     "execution_count": 28,
     "metadata": {},
     "output_type": "execute_result"
    }
   ],
   "source": [
    "%matplotlib inline\n",
    "\n",
    "# Import the necessary libraries\n",
    "import numpy as np\n",
    "import pandas as pd\n",
    "import matplotlib.pyplot as plt\n",
    "import collections, numpy\n",
    "import seaborn as sns\n",
    "\n",
    "# Fixing random seed for reproducibility\n",
    "np.random.seed(64)\n",
    "\n",
    "7#Randomly generate numbers age around the mean of 28 using random.poisson\n",
    "age = np.random.poisson(28, size=500).round()\n",
    "age"
   ]
  },
  {
   "cell_type": "code",
   "execution_count": 29,
   "metadata": {},
   "outputs": [
    {
     "data": {
      "text/plain": [
       "28.0"
      ]
     },
     "execution_count": 29,
     "metadata": {},
     "output_type": "execute_result"
    }
   ],
   "source": [
    "# Mean of Age\n",
    "np.mean(age).round(0)"
   ]
  },
  {
   "cell_type": "code",
   "execution_count": 30,
   "metadata": {},
   "outputs": [
    {
     "data": {
      "text/plain": [
       "5.0"
      ]
     },
     "execution_count": 30,
     "metadata": {},
     "output_type": "execute_result"
    }
   ],
   "source": [
    "# Standard Deviation of Age\n",
    "np.std(age).round(0)"
   ]
  },
  {
   "cell_type": "code",
   "execution_count": 34,
   "metadata": {},
   "outputs": [
    {
     "data": {
      "image/png": "[encoded data removed]",
      "text/plain": [
       "<matplotlib.figure.Figure at 0x2199ae58b38>"
      ]
     },
     "metadata": {},
     "output_type": "display_data"
    }
   ],
   "source": [
    "# Create a plot to show the range of the age of the elite athletes\n",
    "count, bins, ignored = plt.hist(age, 30, density=True)   # Create Histogram with 30 bins\n",
    "plt.title(\"Age Range of Elite Athletes\")                 # Title\n",
    "plt.xlabel(\"Age\")                                        # X-axis Age\n",
    "plt.ylabel(\"Count\")                                      # Y-axis Count\n",
    "plt.text(18, .1, r'$\\mu=28, b=5$')                       # Input mean and std on histogram\n",
    "plt.axis([14, 41, 0, .15])                               # Text on this axis\n",
    "plt.show()"
   ]
  },
  {
   "cell_type": "markdown",
   "metadata": {},
   "source": [
    "After plotting our the random data that we created, we can see that our age range goes from 15 to 41. This seems like a realistic age range depending on the athletes discipline. \n",
    "\n",
    "The oldest Olympic marathon winner was the 38-year-old Romanian athlete Constantina Dita Tomescu, competing at the Beijing Olympic Games. While Dara Torres, at the age of 41 in 2008, is the oldest swimmer to compete in the history of the Olympics, missing the gold medal in the 50-meter freestyle by hundredths of a second. [[Conv]](https://theconversation.com/how-does-aging-affect-athletic-performance-36051)\n",
    "\n",
    "The youngest athlete currently registered for the 2018 PyeongChang Olympics is Wu Meng, a 15 year-old Chinese halfpipe skier. But she’s not the only 15 year-old competing in the Olympics this year. In fact there are five other 15-year-old Olympians this year, according to NBC Sports, and four 16-year-olds. The youngest member of Team USA this year is 17-year-old men’s figure skater Vincent Zhou.[[Time]](http://time.com/5154982/age-requirement-olympics-2018/)"
   ]
  },
  {
   "cell_type": "markdown",
   "metadata": {},
   "source": [
    "#### Hours Trained"
   ]
  },
  {
   "cell_type": "markdown",
   "metadata": {},
   "source": [
    "The next factor the has a negative impact on the performance is where a athletes over or under train. The optimal training will depend on the athletes discipline but the average hours trained is 6 hours per day.\n",
    "\n",
    "Where an athlete overtrains this is know as the overtraining syndrome. This is clearly an issue for athletes and coaches at elite level. This is defined as an undesirable training outcome with negative performance development as an end result, potentially being a factor contributing to athlete burnout (Kenttä & Hassmèn, 1998). [[Believe]](https://believeperform.com/performance/overtraining-how-to-prevent-it/). \n",
    "\n",
    "Athletes will often ignore fatigue, heavy muscles, and depression until performance is chronically affected. Sleep disturbance occurs in over 90% of cases with difficulty in getting to sleep, nightmares, waking in the night, and waking unrefreshed. There may also be loss of appetite, weight loss, loss of competitive drive and libido, and increased emotional ability, anxiety, and irritability. The athlete may report a raised resting pulse rate and excessive sweating. [[Richard]]( https://bjsm.bmj.com/content/bjsports/32/2/107.full.pdf)\n",
    "\n",
    "There are many reasons for undertraining – more skilled athletes usually undertrain due to lack of confidence and anxiety around fear of not winning and winning. However, motivation is a top reason for less skilled athletes who undertrain.[[DR]]( https://drmichellecleere.com/blog/undertraining-and-overtraining/)\n",
    "\n",
    "Let's create a randomly set of data points for 150 athletes. For training hours, we use use a uniform distribution."
   ]
  },
  {
   "cell_type": "code",
   "execution_count": 35,
   "metadata": {},
   "outputs": [
    {
     "data": {
      "text/plain": [
       "array([  6.,   7.,   7.,   6.,   6.,   5.,   5.,   5.,   7.,   6.,   8.,\n",
       "         7.,   7.,   4.,   3.,   4.,   3.,   7.,   5.,   6.,   7.,   3.,\n",
       "         3.,   6.,   5.,   6.,   9.,   5.,   7.,   5.,   4.,   4.,   9.,\n",
       "         8.,   6.,   3.,   5.,   5.,   6.,   6.,   7.,   7.,   7.,   5.,\n",
       "         4.,   5.,  10.,  10.,   8.,   8.,   4.,   9.,   7.,   4.,   9.,\n",
       "         7.,   8.,   5.,  10.,   5.,   5.,   4.,   7.,   7.,   6.,   9.,\n",
       "         6.,   9.,   3.,   9.,   5.,   6.,   5.,   8.,   4.,   4.,   5.,\n",
       "         3.,  10.,   3.,   7.,   8.,  10.,   8.,   5.,   4.,   6.,   5.,\n",
       "         7.,   5.,   5.,  10.,   9.,  10.,   4.,   6.,   9.,   6.,   9.,\n",
       "         3.,   7.,   4.,   7.,   3.,   8.,   7.,   3.,   3.,   9.,   6.,\n",
       "         3.,   3.,   9.,  10.,   7.,   4.,   6.,   6.,   4.,   5.,   5.,\n",
       "         5.,   6.,   8.,   9.,   7.,   8.,   3.,   5.,   8.,   7.,   6.,\n",
       "         3.,   5.,   4.,   8.,   4.,   9.,   8.,   5.,   4.,   9.,   9.,\n",
       "         6.,   7.,   6.,   4.,   9.,   7.,   4.,   7.,   8.,   6.,   4.,\n",
       "         3.,   6.,   4.,   6.,   8.,   5.,   7.,   5.,   5.,   8.,   5.,\n",
       "         6.,   9.,   5.,   7.,   8.,   4.,   7.,   5.,   5.,  10.,   6.,\n",
       "         4.,   3.,   6.,  10.,   7.,   8.,   7.,   4.,   6.,   6.,   5.,\n",
       "         9.,   5.,   4.,   6.,   6.,   8.,   8.,   6.,  10.,   3.,   8.,\n",
       "        10.,   5.,   8.,   4.,   6.,   7.,   7.,   6.,   6.,   6.,   7.,\n",
       "         9.,   3.,   4.,   3.,   7.,  10.,   8.,   6.,   4.,   6.,   3.,\n",
       "         6.,   3.,   9.,   5.,   8.,   8.,   9.,   9.,   9.,   4.,   6.,\n",
       "         3.,   4.,   6.,   4.,   6.,   9.,   4.,   6.,   6.,   7.,   5.,\n",
       "         6.,   6.,  10.,   9.,   8.,   5.,   9.,   7.,   8.,   9.,   5.,\n",
       "         8.,   7.,   8.,   8.,   5.,   8.,   8.,   5.,   4.,   6.,   5.,\n",
       "         7.,   6.,   3.,   9.,   8.,   8.,   4.,   8.,   4.,   9.,   9.,\n",
       "         3.,   6.,   4.,   9.,   9.,   6.,   8.,   3.,   9.,   5.,   8.,\n",
       "         8.,   7.,   6.,   8.,   7.,   7.,   4.,   6.,   6.,   5.,   8.,\n",
       "         6.,   4.,   7.,   5.,   5.,   3.,   7.,   9.,   3.,   7.,   6.,\n",
       "         6.,  10.,   8.,   9.,   3.,   8.,   7.,   7.,   7.,   6.,   9.,\n",
       "         4.,   8.,   8.,   4.,   5.,  10.,   9.,   6.,   3.,   7.,   9.,\n",
       "         4.,   3.,   8.,  10.,   4.,   8.,   9.,   9.,   4.,   8.,   4.,\n",
       "         3.,   9.,   3.,   5.,   5.,   7.,   5.,   5.,   8.,   5.,   5.,\n",
       "         7.,   8.,   6.,   7.,   3.,   5.,   7.,   7.,   5.,   8.,   5.,\n",
       "         9.,   8.,   4.,   8.,   9.,   8.,   3.,   6.,   4.,   9.,   6.,\n",
       "         6.,   6.,   7.,   6.,   8.,   5.,   7.,   8.,   7.,   6.,   4.,\n",
       "         4.,   6.,   7.,   9.,   5.,   6.,   9.,   7.,   8.,   6.,   4.,\n",
       "         7.,   5.,   5.,  10.,  10.,   5.,   9.,   6.,   4.,   9.,   4.,\n",
       "         9.,   5.,   4.,   5.,   4.,   6.,   4.,   4.,   5.,   7.,   3.,\n",
       "         6.,   6.,   5.,   7.,   7.,  10.,   4.,   8.,   7.,   8.,   4.,\n",
       "         9.,   8.,   9.,   4.,   8.,   8.,   7.,   7.,   3.,   8.,   8.,\n",
       "         9.,   4.,   7.,   8.,   9.,   8.,   8.,   7.,   4.,   4.,   6.,\n",
       "         5.,   5.,   7.,   5.,   8.,   3.,  10.,   9.,   6.,   7.,   3.,\n",
       "         7.,   9.,   4.,   9.,   9.,   9.,   3.,   7.,   7.,   5.,   6.,\n",
       "         8.,   5.,   6.,   8.,   6.,   8.,   4.,   3.,   7.,   8.,   5.,\n",
       "         7.,   4.,   9.,   7.,   9.,   8.,   4.,   8.,   4.,   3.,   8.,\n",
       "         5.,   7.,   6.,  10.,   6.])"
      ]
     },
     "execution_count": 35,
     "metadata": {},
     "output_type": "execute_result"
    }
   ],
   "source": [
    "#Randomly generate hours per day between 3 and 10 for a 150 data points\n",
    "\n",
    "# Fixing random seed for reproducibility\n",
    "np.random.seed(64)\n",
    "\n",
    "# Use Random uniform to generate hours between 3 and 10\n",
    "train = np.random.uniform(3,10,500).round()\n",
    "train"
   ]
  },
  {
   "cell_type": "code",
   "execution_count": 36,
   "metadata": {},
   "outputs": [
    {
     "name": "stdout",
     "output_type": "stream",
     "text": [
      "Summary of Hours by Athletes\n"
     ]
    },
    {
     "data": {
      "text/plain": [
       "Counter({3.0: 43,\n",
       "         4.0: 67,\n",
       "         5.0: 74,\n",
       "         6.0: 81,\n",
       "         7.0: 77,\n",
       "         8.0: 75,\n",
       "         9.0: 61,\n",
       "         10.0: 22})"
      ]
     },
     "execution_count": 36,
     "metadata": {},
     "output_type": "execute_result"
    }
   ],
   "source": [
    "# Count the training hours for each range\n",
    "print(\"Summary of Hours by Athletes\")\n",
    "a = numpy.array([  6.,   7.,   7.,   6.,   6.,   5.,   5.,   5.,   7.,   6.,   8.,\n",
    "         7.,   7.,   4.,   3.,   4.,   3.,   7.,   5.,   6.,   7.,   3.,\n",
    "         3.,   6.,   5.,   6.,   9.,   5.,   7.,   5.,   4.,   4.,   9.,\n",
    "         8.,   6.,   3.,   5.,   5.,   6.,   6.,   7.,   7.,   7.,   5.,\n",
    "         4.,   5.,  10.,  10.,   8.,   8.,   4.,   9.,   7.,   4.,   9.,\n",
    "         7.,   8.,   5.,  10.,   5.,   5.,   4.,   7.,   7.,   6.,   9.,\n",
    "         6.,   9.,   3.,   9.,   5.,   6.,   5.,   8.,   4.,   4.,   5.,\n",
    "         3.,  10.,   3.,   7.,   8.,  10.,   8.,   5.,   4.,   6.,   5.,\n",
    "         7.,   5.,   5.,  10.,   9.,  10.,   4.,   6.,   9.,   6.,   9.,\n",
    "         3.,   7.,   4.,   7.,   3.,   8.,   7.,   3.,   3.,   9.,   6.,\n",
    "         3.,   3.,   9.,  10.,   7.,   4.,   6.,   6.,   4.,   5.,   5.,\n",
    "         5.,   6.,   8.,   9.,   7.,   8.,   3.,   5.,   8.,   7.,   6.,\n",
    "         3.,   5.,   4.,   8.,   4.,   9.,   8.,   5.,   4.,   9.,   9.,\n",
    "         6.,   7.,   6.,   4.,   9.,   7.,   4.,   7.,   8.,   6.,   4.,\n",
    "         3.,   6.,   4.,   6.,   8.,   5.,   7.,   5.,   5.,   8.,   5.,\n",
    "         6.,   9.,   5.,   7.,   8.,   4.,   7.,   5.,   5.,  10.,   6.,\n",
    "         4.,   3.,   6.,  10.,   7.,   8.,   7.,   4.,   6.,   6.,   5.,\n",
    "         9.,   5.,   4.,   6.,   6.,   8.,   8.,   6.,  10.,   3.,   8.,\n",
    "        10.,   5.,   8.,   4.,   6.,   7.,   7.,   6.,   6.,   6.,   7.,\n",
    "         9.,   3.,   4.,   3.,   7.,  10.,   8.,   6.,   4.,   6.,   3.,\n",
    "         6.,   3.,   9.,   5.,   8.,   8.,   9.,   9.,   9.,   4.,   6.,\n",
    "         3.,   4.,   6.,   4.,   6.,   9.,   4.,   6.,   6.,   7.,   5.,\n",
    "         6.,   6.,  10.,   9.,   8.,   5.,   9.,   7.,   8.,   9.,   5.,\n",
    "         8.,   7.,   8.,   8.,   5.,   8.,   8.,   5.,   4.,   6.,   5.,\n",
    "         7.,   6.,   3.,   9.,   8.,   8.,   4.,   8.,   4.,   9.,   9.,\n",
    "         3.,   6.,   4.,   9.,   9.,   6.,   8.,   3.,   9.,   5.,   8.,\n",
    "         8.,   7.,   6.,   8.,   7.,   7.,   4.,   6.,   6.,   5.,   8.,\n",
    "         6.,   4.,   7.,   5.,   5.,   3.,   7.,   9.,   3.,   7.,   6.,\n",
    "         6.,  10.,   8.,   9.,   3.,   8.,   7.,   7.,   7.,   6.,   9.,\n",
    "         4.,   8.,   8.,   4.,   5.,  10.,   9.,   6.,   3.,   7.,   9.,\n",
    "         4.,   3.,   8.,  10.,   4.,   8.,   9.,   9.,   4.,   8.,   4.,\n",
    "         3.,   9.,   3.,   5.,   5.,   7.,   5.,   5.,   8.,   5.,   5.,\n",
    "         7.,   8.,   6.,   7.,   3.,   5.,   7.,   7.,   5.,   8.,   5.,\n",
    "         9.,   8.,   4.,   8.,   9.,   8.,   3.,   6.,   4.,   9.,   6.,\n",
    "         6.,   6.,   7.,   6.,   8.,   5.,   7.,   8.,   7.,   6.,   4.,\n",
    "         4.,   6.,   7.,   9.,   5.,   6.,   9.,   7.,   8.,   6.,   4.,\n",
    "         7.,   5.,   5.,  10.,  10.,   5.,   9.,   6.,   4.,   9.,   4.,\n",
    "         9.,   5.,   4.,   5.,   4.,   6.,   4.,   4.,   5.,   7.,   3.,\n",
    "         6.,   6.,   5.,   7.,   7.,  10.,   4.,   8.,   7.,   8.,   4.,\n",
    "         9.,   8.,   9.,   4.,   8.,   8.,   7.,   7.,   3.,   8.,   8.,\n",
    "         9.,   4.,   7.,   8.,   9.,   8.,   8.,   7.,   4.,   4.,   6.,\n",
    "         5.,   5.,   7.,   5.,   8.,   3.,  10.,   9.,   6.,   7.,   3.,\n",
    "         7.,   9.,   4.,   9.,   9.,   9.,   3.,   7.,   7.,   5.,   6.,\n",
    "         8.,   5.,   6.,   8.,   6.,   8.,   4.,   3.,   7.,   8.,   5.,\n",
    "         7.,   4.,   9.,   7.,   9.,   8.,   4.,   8.,   4.,   3.,   8.,\n",
    "         5.,   7.,   6.,  10.,   6.])\n",
    "collections.Counter(a)"
   ]
  },
  {
   "cell_type": "code",
   "execution_count": 37,
   "metadata": {},
   "outputs": [
    {
     "data": {
      "text/plain": [
       "6.0"
      ]
     },
     "execution_count": 37,
     "metadata": {},
     "output_type": "execute_result"
    }
   ],
   "source": [
    "# The mean of training hours\n",
    "np.mean(train).round()"
   ]
  },
  {
   "cell_type": "code",
   "execution_count": 38,
   "metadata": {},
   "outputs": [
    {
     "data": {
      "text/plain": [
       "2.0"
      ]
     },
     "execution_count": 38,
     "metadata": {},
     "output_type": "execute_result"
    }
   ],
   "source": [
    "# The standard deviation of training hours\n",
    "np.std(train).round()"
   ]
  },
  {
   "cell_type": "code",
   "execution_count": 44,
   "metadata": {},
   "outputs": [
    {
     "data": {
      "image/png": "[encoded data removed]",
      "text/plain": [
       "<matplotlib.figure.Figure at 0x2199a7f89e8>"
      ]
     },
     "metadata": {},
     "output_type": "display_data"
    }
   ],
   "source": [
    "# Create a histogram to show our randomly generated hours\n",
    "count, bins, ignored = plt.hist(train, 15, density=True) # Histogram with 30 bins\n",
    "plt.title(\"Hours Trained by Elite Athletes\")             # Title\n",
    "plt.xlabel(\"Hours\")                                      # X-axis Hours\n",
    "plt.ylabel(\"Count\")                                      # Y-axis Count\n",
    "plt.text(3, .4, r'$\\mu=6, b=2$')                         # Input mean and std on histogram\n",
    "plt.axis([2, 11, 0, .5])                                 # Input text on these axis\n",
    "plt.show()"
   ]
  },
  {
   "cell_type": "markdown",
   "metadata": {},
   "source": [
    "The uniform distribution is used as athletes in a given day could train any amount of hours between 3 and 10. From the data provided the average optimal level of hours is 6 with anything below this athletes may be undertraining while any hours above this could lead to ovetraining. "
   ]
  },
  {
   "cell_type": "markdown",
   "metadata": {
    "collapsed": true
   },
   "source": [
    "#### Recovery"
   ]
  },
  {
   "cell_type": "markdown",
   "metadata": {},
   "source": [
    "An adequate balance between training and recovery is essential for athletes to achieve continuous high-level performance.  A systematic monitoring of recovery and the subsequent implementation of recovery routines aims at maximizing performance and preventing negative developments such as underrecovery, nonfunctional overreaching, the overtraining syndrome, injuries, or illnesses. [[NCBI]]( https://www.ncbi.nlm.nih.gov/pubmed/29345524)\n",
    "\n",
    "Many athletes complain that the ability to recover from hard bouts of exercise diminishes. In many contact sports, such as professional American football or rugby, recovering from injuries and the cumulative effects of hard hits becomes the limiting factor in continuing to play at the highest level.[[Mashable]]( https://mashable.com/2015/07/07/aging-athletic-performance/?europe=true#YZXRDfVzwaqZ)\n",
    "\n",
    "Building recovery time into any training program is important because this is the time that the body adapts to the stress of exercise and the real training effect takes place. Recovery also allows the body to replenish energy stores and repair damaged tissues. Recovery time allows these stores to be replenished and allows tissue repair to occur. Without sufficient time to repair and replenish, the body will continue to breakdown from intensive exercise. [[Well]]( https://www.verywellfit.com/the-benefits-of-rest-and-recovery-after-exercise-3120575)\n",
    "\n",
    "There are a number of popular methods used by athletes to enhance recovery. Their use will depend on the type of activity performed, the time until the next training session or event and equipment and/or personnel available. Some of the most popular recovery techniques for athletes include hydrotherapy, active recovery, stretching, compression garments, massage, sleep and nutrition. [[GSS]]( https://www.gssiweb.org/sports-science-exchange/article/sse-120-recovery-techniques-for-athletes)\n",
    "\n",
    "In relation to sleep recovery, studies show that an appropriate amount of sleep can improve speed, accuracy, and reaction time in athletes. For an ordianary person, the average amount of sleep is 8 hours. Athletes would need more and there average amount of sleep is closer to 9 hours per day.\n",
    "\n",
    "We use the normal distribution with a mean of 8 and standard deviation of 2 based on studies. This will gives us an appropriate range of recovery with the majority of recovery hours sitting around the mean of 8."
   ]
  },
  {
   "cell_type": "code",
   "execution_count": 47,
   "metadata": {},
   "outputs": [
    {
     "data": {
      "text/plain": [
       "array([ 10.,   4.,   6.,  12.,   4.,   7.,   6.,   6.,   3.,   9.,   9.,\n",
       "        12.,   6.,   9.,   8.,   8.,   7.,   5.,   8.,   7.,   7.,   5.,\n",
       "         7.,   9.,   5.,   9.,   7.,   7.,   9.,   9.,   8.,   8.,   5.,\n",
       "         6.,   4.,   5.,  12.,  11.,   5.,   9.,   7.,   7.,  10.,  10.,\n",
       "         6.,   8.,   8.,  11.,   6.,  10.,   7.,   8.,   9.,  13.,  10.,\n",
       "         8.,  10.,   8.,   7.,   4.,  10.,   5.,  11.,  10.,   8.,   9.,\n",
       "         7.,   7.,   4.,   7.,   4.,   9.,   8.,   6.,   8.,  10.,   7.,\n",
       "         8.,   7.,   8.,   8.,  11.,   7.,  10.,   6.,   8.,   5.,   2.,\n",
       "         7.,   7.,   6.,   6.,  11.,   6.,   9.,  10.,  11.,   6.,   5.,\n",
       "        11.,   8.,   7.,   9.,   6.,   9.,   7.,   6.,  10.,   7.,  10.,\n",
       "         3.,  12.,   7.,   8.,  11.,  10.,   6.,   7.,   7.,   6.,   6.,\n",
       "        10.,   4.,   8.,  10.,   6.,   7.,   5.,   8.,   9.,  11.,   8.,\n",
       "         9.,   6.,   6.,   6.,   8.,   9.,  11.,   9.,   6.,   8.,   4.,\n",
       "         6.,   8.,   8.,   7.,   7.,   2.,   7.,  10.,  10.,   9.,   8.,\n",
       "         7.,   9.,   9.,   2.,   5.,  11.,   7.,   4.,  10.,   9.,   8.,\n",
       "         8.,   5.,   8.,   7.,   8.,   7.,   8.,   7.,   9.,   9.,   9.,\n",
       "         7.,   8.,   8.,   6.,   8.,   6.,   3.,   8.,   4.,   8.,   4.,\n",
       "         5.,   6.,  10.,   8.,  10.,   9.,   9.,  10.,   6.,  11.,   8.,\n",
       "         6.,  10.,  10.,   9.,   6.,   7.,   4.,   8.,   6.,  12.,  10.,\n",
       "        10.,   8.,   7.,   9.,   7.,   6.,   8.,  11.,   7.,  10.,   5.,\n",
       "         9.,  11.,  11.,   8.,  10.,  14.,   8.,   6.,   5.,   7.,   8.,\n",
       "        12.,   9.,   6.,   6.,   6.,   8.,   7.,   4.,  10.,   9.,   8.,\n",
       "        10.,   9.,  11.,  12.,   4.,  11.,  10.,  10.,   7.,   7.,   6.,\n",
       "         8.,  11.,   8.,   8.,   7.,   9.,   9.,   9.,   7.,   6.,   6.,\n",
       "         5.,   9.,  10.,   5.,   6.,   7.,  12.,   9.,  11.,   5.,  10.,\n",
       "        13.,  10.,   6.,   9.,   8.,   6.,   9.,   9.,   8.,   5.,   7.,\n",
       "         7.,  10.,   7.,   2.,   7.,  13.,   5.,  10.,  11.,  10.,   3.,\n",
       "        10.,  11.,   4.,   7.,   9.,  10.,   8.,  12.,   9.,   6.,   8.,\n",
       "         4.,   8.,   8.,   8.,   8.,  10.,   6.,   7.,   6.,   7.,   5.,\n",
       "         8.,   7.,   7.,   7.,   8.,   5.,   4.,   9.,   4.,   9.,   8.,\n",
       "         8.,   7.,  12.,   9.,   9.,   7.,   9.,   9.,   9.,   6.,  10.,\n",
       "        11.,   7.,   8.,  10.,  10.,   7.,   8.,  11.,   9.,   9.,  10.,\n",
       "         9.,  11.,   4.,   7.,   9.,   5.,  10.,   6.,   8.,  11.,   7.,\n",
       "         8.,  10.,   8.,   8.,   8.,   9.,   9.,   4.,   8.,  11.,   7.,\n",
       "         7.,   5.,   8.,  12.,   6.,   9.,   8.,   7.,   7.,  10.,   5.,\n",
       "         8.,   9.,  10.,   8.,   9.,   8.,   7.,   6.,  10.,   4.,  10.,\n",
       "         8.,   8.,   8.,   7.,  10.,   7.,   7.,   7.,   8.,   6.,   8.,\n",
       "        11.,  10.,  11.,   6.,   6.,   6.,  11.,   8.,   8.,  12.,   7.,\n",
       "         5.,   6.,   5.,  11.,  10.,   8.,   9.,   8.,   8.,   8.,   7.,\n",
       "         5.,   8.,   6.,   6.,   7.,   9.,  10.,   8.,   7.,  10.,   9.,\n",
       "        11.,   7.,   8.,   4.,   8.,  11.,   6.,   6.,  11.,   6.,   6.,\n",
       "         7.,   6.,  10.,   9.,   9.,  10.,  10.,   7.,   6.,   6.,   7.,\n",
       "         5.,   7.,   6.,   8.,   8.,   4.,   8.,  10.,   7.,   6.,   8.,\n",
       "         6.,   8.,   8.,   9.,   5.,   9.,   7.,   6.,   6.,   9.,   4.,\n",
       "         9.,   9.,  10.,  10.,  12.,   9.,   8.,  10.,  10.,   9.,   8.,\n",
       "         6.,   8.,  11.,   6.,   6.])"
      ]
     },
     "execution_count": 47,
     "metadata": {},
     "output_type": "execute_result"
    }
   ],
   "source": [
    "# Fixing random seed for reproducibility\n",
    "np.random.seed(64)\n",
    "\n",
    "# Find the hours of recovery for 500 atheletes based on mean of 8 and std of 2\n",
    "rec = (np.random.normal(8, 2, size=500)).round()\n",
    "rec"
   ]
  },
  {
   "cell_type": "code",
   "execution_count": 48,
   "metadata": {},
   "outputs": [
    {
     "data": {
      "text/plain": [
       "Text(0.5,0,'Accumulated Hours')"
      ]
     },
     "execution_count": 48,
     "metadata": {},
     "output_type": "execute_result"
    },
    {
     "data": {
      "image/png": "[encoded data removed]",
      "text/plain": [
       "<matplotlib.figure.Figure at 0x2199a7f8eb8>"
      ]
     },
     "metadata": {},
     "output_type": "display_data"
    }
   ],
   "source": [
    "# Create a plot for athletes recovery hours\n",
    "plt.plot(rec)                            # Plot recovery hours\n",
    "ax = plt.gca()                           # Create background colour\n",
    "ax.set_facecolor('xkcd:yellow')          # Colour yelloe background\n",
    "plt.grid(True)                           # Grid back drop\n",
    "plt.title(\"Recovery Hours per Athlete\")  # Title\n",
    "plt.ylabel(\"Hours\")                      # X-axis Hours\n",
    "plt.xlabel(\"Accumulated Hours\")          # Y-axis Accumulated hours"
   ]
  },
  {
   "cell_type": "markdown",
   "metadata": {},
   "source": [
    "The plot shows the recovery hours between 3 and 12 on the x-axis and the athletes on the y-axis. "
   ]
  },
  {
   "cell_type": "markdown",
   "metadata": {},
   "source": [
    "#### Calories"
   ]
  },
  {
   "cell_type": "markdown",
   "metadata": {
    "collapsed": true
   },
   "source": [
    "Most people have heard the general recommendation that adults eat about 2,000 calories per day. For athletes, however, that may not be enough. As people who ask a lot of their bodies, athletes need extra calories to fuel their activities and to encourage muscles and bones to continue strengthening. [[Calories]]( https://healthyeating.sfgate.com/caloric-needs-athletes-7179.html)\n",
    "\n",
    "Each athlete will need to consume enough calories in order to perform at their best depending on their discipline but overall the average for an elite athletes is over 3000 calories per day. Eating the right amount of food at the right times is important for athletes because it helps build and fuel muscles. Carbohydrates and fat help fuel performance, while protein helps build muscle. A lack of water can decrease the effectiveness of workouts and cause cramping during competition. Sports drinks help athletes not only stay hydrated during games, matches and races, but also restore depleted glycogen, sodium, potassium and other electrolytes. [[Healthy]]( https://healthyliving.azcentral.com/list-factors-influencing-athletic-performance-4356.html)\n",
    "\n",
    "As we can see from the chart below, depending on the athletes discipline will dictate how much calories they will need per day but on average calorie intake by all athletes is 4,000 and we will use normal distribution as with education and resources available to athletes you expect the majority of calories to be located around the mean. "
   ]
  },
  {
   "cell_type": "markdown",
   "metadata": {},
   "source": [
    "<img src=\"Calories.jpg\" />"
   ]
  },
  {
   "cell_type": "code",
   "execution_count": 50,
   "metadata": {},
   "outputs": [
    {
     "data": {
      "text/plain": [
       "array([ 5100.,  2017.,  2850.,  6193.,  2099.,  3566.,  2864.,  2967.,\n",
       "        1628.,  4703.,  4385.,  5750.,  2805.,  4295.,  4048.,  3829.,\n",
       "        3495.,  2631.,  3897.,  3613.,  3544.,  2641.,  3603.,  4595.,\n",
       "        2622.,  4512.,  3459.,  3509.,  4326.,  4739.,  3870.,  3966.,\n",
       "        2650.,  2974.,  2124.,  2642.,  5857.,  5705.,  2629.,  4675.,\n",
       "        3625.,  3458.,  4970.,  4767.,  3074.,  4087.,  4131.,  5358.,\n",
       "        2936.,  5234.,  3650.,  3776.,  4382.,  6405.,  5208.,  3878.,\n",
       "        5181.,  3793.,  3263.,  2143.,  4814.,  2719.,  5635.,  4977.,\n",
       "        4127.,  4268.,  3316.,  3701.,  2079.,  3725.,  2079.,  4648.,\n",
       "        3920.,  3184.,  3937.,  5108.,  3274.,  4176.,  3374.,  4061.,\n",
       "        4022.,  5713.,  3574.,  5119.,  2761.,  4096.,  2448.,   959.,\n",
       "        3574.,  3460.,  2918.,  3056.,  5567.,  3222.,  4436.,  5066.,\n",
       "        5273.,  3127.,  2600.,  5477.,  3817.,  3507.,  4499.,  3238.,\n",
       "        4339.,  3676.,  3148.,  5206.,  3622.,  5045.,  1619.,  5811.,\n",
       "        3301.,  4174.,  5343.,  4854.,  2800.,  3473.,  3672.,  3102.,\n",
       "        3069.,  5188.,  2214.,  4119.,  4844.,  3056.,  3297.,  2632.,\n",
       "        3786.,  4344.,  5559.,  4072.,  4299.,  3132.,  3244.,  3200.,\n",
       "        3831.,  4649.,  5447.,  4551.,  2997.,  4194.,  1826.,  3025.,\n",
       "        4202.,  3861.,  3293.,  3569.,   952.,  3534.,  4944.,  5155.,\n",
       "        4366.,  3956.,  3356.,  4363.,  4546.,   853.,  2499.,  5400.,\n",
       "        3367.,  1887.,  5235.,  4519.,  4069.,  3767.,  2705.,  3783.,\n",
       "        3598.,  3952.,  3338.,  3895.,  3601.,  4564.,  4740.,  4744.,\n",
       "        3341.,  3899.,  3807.,  2884.,  3769.,  2884.,  1449.,  3842.,\n",
       "        2205.,  4083.,  2077.,  2339.,  3091.,  4775.,  4162.,  5040.,\n",
       "        4706.,  4371.,  4773.,  3116.,  5552.,  4143.,  3036.,  4847.,\n",
       "        5032.,  4738.,  3197.,  3431.,  2245.,  3759.,  2814.,  5974.,\n",
       "        4908.,  5218.,  4244.,  3649.,  4402.,  3600.,  3224.,  3787.,\n",
       "        5372.,  3349.,  5124.,  2707.,  4579.,  5652.,  5717.,  3798.,\n",
       "        5082.,  6807.,  3960.,  2862.,  2422.,  3521.,  3785.,  5830.,\n",
       "        4302.,  2835.,  2825.,  2910.,  4176.,  3369.,  2016.,  5077.,\n",
       "        4430.,  3903.,  5089.,  4574.,  5656.,  6034.,  2192.,  5278.,\n",
       "        4945.,  5046.,  3577.,  3429.,  3233.,  3953.,  5338.,  4179.,\n",
       "        4194.,  3609.,  4526.,  4449.,  4459.,  3322.,  3066.,  3154.,\n",
       "        2745.,  4624.,  4843.,  2737.,  2778.,  3309.,  6006.,  4284.,\n",
       "        5469.,  2611.,  4914.,  6707.,  4787.,  2772.,  4371.,  3806.,\n",
       "        3110.,  4570.,  4584.,  4231.,  2676.,  3724.,  3718.,  4810.,\n",
       "        3255.,  1243.,  3698.,  6535.,  2674.,  4837.,  5728.,  4882.,\n",
       "        1708.,  5023.,  5646.,  2229.,  3604.,  4559.,  5077.,  3876.,\n",
       "        5765.,  4559.,  2978.,  3827.,  2037.,  4214.,  3897.,  4206.,\n",
       "        3928.,  4858.,  3078.,  3592.,  3037.,  3452.,  2692.,  3847.,\n",
       "        3652.,  3535.,  3452.,  4167.,  2561.,  2069.,  4407.,  2122.,\n",
       "        4644.,  4084.,  4238.,  3662.,  5927.,  4404.,  4545.,  3531.,\n",
       "        4474.,  4347.,  4496.,  3094.,  4831.,  5509.,  3589.,  4069.,\n",
       "        4816.,  5244.,  3720.,  4230.,  5385.,  4634.,  4519.,  4841.,\n",
       "        4338.,  5554.,  2213.,  3478.,  4676.,  2469.,  5007.,  3102.,\n",
       "        3855.,  5381.,  3375.,  4107.,  4811.,  4001.,  4179.,  3868.,\n",
       "        4296.,  4321.,  1763.,  4062.,  5437.,  3592.,  3659.,  2432.,\n",
       "        3756.,  5919.,  3238.,  4554.,  4117.,  3313.,  3252.,  5143.,\n",
       "        2693.,  4052.,  4420.,  5091.,  4230.,  4514.,  4212.,  3374.,\n",
       "        3154.,  5064.,  1924.,  5127.,  3998.,  4038.,  4095.,  3584.,\n",
       "        5022.,  3559.,  3334.,  3348.,  3996.,  3089.,  3876.,  5709.,\n",
       "        5103.,  5334.,  3231.,  2953.,  3099.,  5553.,  4221.,  4020.,\n",
       "        6012.,  3314.,  2614.,  2983.,  2500.,  5669.,  5083.,  3895.,\n",
       "        4642.,  3817.,  4017.,  4233.,  3637.,  2400.,  4013.,  2807.,\n",
       "        2795.,  3375.,  4736.,  5241.,  3983.,  3256.,  4872.,  4692.,\n",
       "        5618.,  3353.,  3905.,  1865.,  3899.,  5590.,  2979.,  3109.,\n",
       "        5336.,  3233.,  2886.,  3681.,  3117.,  4808.,  4593.,  4521.,\n",
       "        4753.,  4878.,  3570.,  2989.,  2864.,  3412.,  2481.,  3358.,\n",
       "        3168.,  3769.,  3988.,  1986.,  3759.,  4993.,  3710.,  2923.,\n",
       "        4086.,  3007.,  4017.,  3900.,  4303.,  2310.,  4341.,  3714.,\n",
       "        2845.,  2996.,  4254.,  2218.,  4433.,  4277.,  5134.,  4919.,\n",
       "        5873.,  4461.,  3902.,  4828.,  5104.,  4748.,  4224.,  2892.,\n",
       "        3765.,  5505.,  2922.,  3043.])"
      ]
     },
     "execution_count": 50,
     "metadata": {},
     "output_type": "execute_result"
    }
   ],
   "source": [
    "# Fixing random seed for reproducibility\n",
    "np.random.seed(64)\n",
    "\n",
    "# Create a random amount of calories for each athlete using random.normal\n",
    "cal = np.random.normal(4000,1000,size=500).round()\n",
    "cal"
   ]
  },
  {
   "cell_type": "code",
   "execution_count": 51,
   "metadata": {},
   "outputs": [
    {
     "data": {
      "image/png": "[encoded data removed]",
      "text/plain": [
       "<matplotlib.figure.Figure at 0x2199a6ae080>"
      ]
     },
     "metadata": {},
     "output_type": "display_data"
    }
   ],
   "source": [
    "# Create a histogram to show our randomly generated calories\n",
    "count, bins, ignored = plt.hist(cal, 50, density=True)   # histogram with 50 bins\n",
    "plt.title(\"Calories of Elite Athletes\")                  # Titles\n",
    "plt.xlabel(\"Calories\")                                   # X-axis Calories\n",
    "plt.ylabel(\"Count\")                                      # Y-axis Count\n",
    "plt.show()"
   ]
  },
  {
   "cell_type": "markdown",
   "metadata": {},
   "source": [
    "From our histogram, we can see that the calories count is between 1,000 and 6,500 and as stated earlier the mean is 4,000 with the majority of the athletes sitting around this amount of calories"
   ]
  },
  {
   "cell_type": "markdown",
   "metadata": {},
   "source": [
    "#### Alcohol"
   ]
  },
  {
   "cell_type": "markdown",
   "metadata": {},
   "source": [
    "Another variable that influences athlete’s performance is whether they drink alcohol or not. Alcohol can affect endurance, reaction time, dehydration and recovery. \n",
    "\n",
    "In relation to endurance. - the blood sugar your body needs for energy is produced by the liver when it releases glucose into the blood stream. Drinking alcohol in the 48-hour period before competing or training reduces your body’s ability to produce this sugar, so you have less energy and less endurance capacity. Alcohol also impair the absorption of nutrients such as zinc (energy metabolism), vitamins B1 and B12 (healthy blood, oxygen transport). Alcohol can affect the production of adenosine triphosphate (ATP), which is your muscles' source of energy. [[Ask]](http://www.askaboutalcohol./health/sports-performance/)\n",
    "\n",
    "Reaction time - Alcohol is a sedative and it can affect your sports performance for up to 72 hours after you have finished drinking. Some team-game players think they have less tension and increased relaxation as a result of alcohol. The actual result, however, is poorer hand-eye coordination and slower responses. [[Ask]](http://www.askaboutalcohol./health/sports-performance/)\n",
    "\n",
    "Recovery - Alcohol’s effect on sleep can reduce the amount of human growth hormone (HGH) in your body. HGH is part of normal muscle building and repair processes. Alcohol can also reduce testosterone, which is needed for muscle development and recovery.\n",
    "[[Ask]](http://www.askaboutalcohol./health/sports-performance/)\n",
    "\n",
    "Dehydration- Alcohol promotes water loss. It reduces the production of the anti-diuretic hormone, causing you to urinate more. This, in turn leads to dehydration. [[Ask]]( http://www.askaboutalcohol.ie/health/sports-performance/)\n"
   ]
  },
  {
   "cell_type": "code",
   "execution_count": 52,
   "metadata": {
    "scrolled": true
   },
   "outputs": [
    {
     "data": {
      "text/plain": [
       "array(['No', 'No', 'Yes', 'No', 'No', 'Yes', 'No', 'Yes', 'Yes', 'No',\n",
       "       'Yes', 'No', 'No', 'No', 'Yes', 'No', 'No', 'No', 'Yes', 'No', 'No',\n",
       "       'No', 'No', 'No', 'Yes', 'Yes', 'Yes', 'Yes', 'No', 'No', 'No',\n",
       "       'Yes', 'Yes', 'No', 'Yes', 'Yes', 'No', 'No', 'No', 'No', 'No',\n",
       "       'Yes', 'No', 'Yes', 'Yes', 'No', 'No', 'No', 'No', 'Yes', 'No',\n",
       "       'Yes', 'Yes', 'Yes', 'Yes', 'Yes', 'No', 'No', 'Yes', 'No', 'No',\n",
       "       'No', 'Yes', 'No', 'Yes', 'Yes', 'No', 'No', 'No', 'Yes', 'Yes',\n",
       "       'Yes', 'Yes', 'Yes', 'Yes', 'No', 'Yes', 'Yes', 'No', 'Yes', 'Yes',\n",
       "       'Yes', 'Yes', 'No', 'No', 'Yes', 'Yes', 'No', 'Yes', 'No', 'Yes',\n",
       "       'No', 'Yes', 'No', 'No', 'No', 'No', 'No', 'No', 'No', 'No', 'Yes',\n",
       "       'Yes', 'No', 'Yes', 'Yes', 'No', 'No', 'No', 'Yes', 'No', 'Yes',\n",
       "       'Yes', 'Yes', 'Yes', 'No', 'No', 'Yes', 'Yes', 'Yes', 'Yes', 'No',\n",
       "       'Yes', 'Yes', 'Yes', 'No', 'No', 'No', 'No', 'Yes', 'No', 'No',\n",
       "       'No', 'Yes', 'Yes', 'Yes', 'No', 'No', 'Yes', 'No', 'Yes', 'Yes',\n",
       "       'No', 'No', 'No', 'Yes', 'Yes', 'No', 'No', 'Yes', 'No', 'No', 'No',\n",
       "       'No', 'Yes', 'Yes', 'No', 'No', 'No', 'Yes', 'No', 'No', 'Yes',\n",
       "       'No', 'No', 'Yes', 'No', 'No', 'No', 'Yes', 'No', 'Yes', 'No', 'No',\n",
       "       'No', 'Yes', 'Yes', 'No', 'No', 'No', 'Yes', 'No', 'Yes', 'No',\n",
       "       'No', 'No', 'No', 'No', 'No', 'No', 'Yes', 'Yes', 'Yes', 'Yes',\n",
       "       'Yes', 'Yes', 'Yes', 'Yes', 'Yes', 'No', 'Yes', 'No', 'Yes', 'No',\n",
       "       'Yes', 'No', 'No', 'No', 'Yes', 'No', 'Yes', 'Yes', 'No', 'Yes',\n",
       "       'No', 'No', 'Yes', 'No', 'No', 'No', 'No', 'No', 'Yes', 'Yes',\n",
       "       'Yes', 'Yes', 'Yes', 'Yes', 'Yes', 'No', 'No', 'No', 'Yes', 'No',\n",
       "       'Yes', 'Yes', 'No', 'Yes', 'No', 'No', 'Yes', 'No', 'No', 'Yes',\n",
       "       'Yes', 'Yes', 'No', 'No', 'No', 'No', 'No', 'Yes', 'Yes', 'No',\n",
       "       'Yes', 'No', 'Yes', 'Yes', 'Yes', 'No', 'Yes', 'No', 'No', 'Yes',\n",
       "       'No', 'Yes', 'No', 'No', 'No', 'No', 'No', 'No', 'Yes', 'Yes', 'No',\n",
       "       'No', 'Yes', 'No', 'Yes', 'Yes', 'No', 'Yes', 'Yes', 'No', 'No',\n",
       "       'Yes', 'Yes', 'Yes', 'No', 'No', 'Yes', 'Yes', 'Yes', 'Yes', 'Yes',\n",
       "       'Yes', 'Yes', 'No', 'Yes', 'Yes', 'Yes', 'No', 'Yes', 'No', 'Yes',\n",
       "       'No', 'Yes', 'No', 'No', 'No', 'Yes', 'No', 'Yes', 'No', 'No', 'No',\n",
       "       'No', 'No', 'No', 'Yes', 'Yes', 'Yes', 'No', 'Yes', 'No', 'Yes',\n",
       "       'No', 'No', 'Yes', 'No', 'No', 'No', 'No', 'Yes', 'Yes', 'No', 'No',\n",
       "       'Yes', 'No', 'No', 'No', 'No', 'No', 'No', 'No', 'Yes', 'No', 'No',\n",
       "       'Yes', 'No', 'Yes', 'Yes', 'No', 'Yes', 'Yes', 'Yes', 'No', 'No',\n",
       "       'Yes', 'No', 'Yes', 'No', 'Yes', 'Yes', 'No', 'Yes', 'No', 'No',\n",
       "       'No', 'Yes', 'Yes', 'No', 'Yes', 'Yes', 'Yes', 'Yes', 'Yes', 'No',\n",
       "       'No', 'No', 'No', 'No', 'Yes', 'No', 'No', 'Yes', 'Yes', 'No',\n",
       "       'Yes', 'Yes', 'Yes', 'No', 'No', 'No', 'Yes', 'Yes', 'No', 'Yes',\n",
       "       'Yes', 'Yes', 'Yes', 'Yes', 'No', 'No', 'Yes', 'No', 'No', 'Yes',\n",
       "       'No', 'No', 'Yes', 'Yes', 'Yes', 'Yes', 'No', 'No', 'No', 'No',\n",
       "       'No', 'No', 'Yes', 'Yes', 'No', 'No', 'Yes', 'No', 'Yes', 'No',\n",
       "       'Yes', 'Yes', 'No', 'Yes', 'No', 'No', 'No', 'No', 'No', 'No', 'No',\n",
       "       'Yes', 'Yes', 'Yes', 'No', 'No', 'Yes', 'Yes', 'No', 'No', 'No',\n",
       "       'No', 'No', 'Yes', 'Yes', 'Yes', 'Yes', 'Yes', 'No', 'Yes', 'No',\n",
       "       'Yes', 'No', 'No', 'Yes', 'No', 'Yes', 'No', 'No', 'No', 'No', 'No',\n",
       "       'Yes', 'No', 'No', 'No', 'Yes', 'No', 'Yes', 'No', 'Yes', 'No',\n",
       "       'Yes', 'Yes', 'Yes', 'No', 'No', 'No', 'No', 'No', 'No', 'No', 'No',\n",
       "       'Yes', 'Yes', 'Yes', 'Yes', 'Yes', 'Yes', 'Yes', 'Yes', 'No'],\n",
       "      dtype='<U3')"
      ]
     },
     "execution_count": 52,
     "metadata": {},
     "output_type": "execute_result"
    }
   ],
   "source": [
    "# Fixing random state for reproducibility\n",
    "np.random.seed(64)\n",
    "\n",
    "# Create a random choice whether atheletes drink or not\n",
    "alco = np.random.choice([\"No\", \"Yes\"], size=500)\n",
    "alco"
   ]
  },
  {
   "cell_type": "code",
   "execution_count": 15,
   "metadata": {},
   "outputs": [
    {
     "data": {
      "text/plain": [
       "150"
      ]
     },
     "execution_count": 15,
     "metadata": {},
     "output_type": "execute_result"
    }
   ],
   "source": [
    "# The amount of Athletes\n",
    "len(alco)"
   ]
  },
  {
   "cell_type": "code",
   "execution_count": 53,
   "metadata": {},
   "outputs": [
    {
     "name": "stdout",
     "output_type": "stream",
     "text": [
      "Summary of Whether Athletes Drink or not\n"
     ]
    },
    {
     "data": {
      "text/plain": [
       "Counter({'No': 269, 'Yes': 231})"
      ]
     },
     "execution_count": 53,
     "metadata": {},
     "output_type": "execute_result"
    }
   ],
   "source": [
    "# Count the choice of Yes and No\n",
    "print(\"Summary of Whether Athletes Drink or not\")\n",
    "b = numpy.array(['No', 'No', 'Yes', 'No', 'No', 'Yes', 'No', 'Yes', 'Yes', 'No',\n",
    "       'Yes', 'No', 'No', 'No', 'Yes', 'No', 'No', 'No', 'Yes', 'No', 'No',\n",
    "       'No', 'No', 'No', 'Yes', 'Yes', 'Yes', 'Yes', 'No', 'No', 'No',\n",
    "       'Yes', 'Yes', 'No', 'Yes', 'Yes', 'No', 'No', 'No', 'No', 'No',\n",
    "       'Yes', 'No', 'Yes', 'Yes', 'No', 'No', 'No', 'No', 'Yes', 'No',\n",
    "       'Yes', 'Yes', 'Yes', 'Yes', 'Yes', 'No', 'No', 'Yes', 'No', 'No',\n",
    "       'No', 'Yes', 'No', 'Yes', 'Yes', 'No', 'No', 'No', 'Yes', 'Yes',\n",
    "       'Yes', 'Yes', 'Yes', 'Yes', 'No', 'Yes', 'Yes', 'No', 'Yes', 'Yes',\n",
    "       'Yes', 'Yes', 'No', 'No', 'Yes', 'Yes', 'No', 'Yes', 'No', 'Yes',\n",
    "       'No', 'Yes', 'No', 'No', 'No', 'No', 'No', 'No', 'No', 'No', 'Yes',\n",
    "       'Yes', 'No', 'Yes', 'Yes', 'No', 'No', 'No', 'Yes', 'No', 'Yes',\n",
    "       'Yes', 'Yes', 'Yes', 'No', 'No', 'Yes', 'Yes', 'Yes', 'Yes', 'No',\n",
    "       'Yes', 'Yes', 'Yes', 'No', 'No', 'No', 'No', 'Yes', 'No', 'No',\n",
    "       'No', 'Yes', 'Yes', 'Yes', 'No', 'No', 'Yes', 'No', 'Yes', 'Yes',\n",
    "       'No', 'No', 'No', 'Yes', 'Yes', 'No', 'No', 'Yes', 'No', 'No', 'No',\n",
    "       'No', 'Yes', 'Yes', 'No', 'No', 'No', 'Yes', 'No', 'No', 'Yes',\n",
    "       'No', 'No', 'Yes', 'No', 'No', 'No', 'Yes', 'No', 'Yes', 'No', 'No',\n",
    "       'No', 'Yes', 'Yes', 'No', 'No', 'No', 'Yes', 'No', 'Yes', 'No',\n",
    "       'No', 'No', 'No', 'No', 'No', 'No', 'Yes', 'Yes', 'Yes', 'Yes',\n",
    "       'Yes', 'Yes', 'Yes', 'Yes', 'Yes', 'No', 'Yes', 'No', 'Yes', 'No',\n",
    "       'Yes', 'No', 'No', 'No', 'Yes', 'No', 'Yes', 'Yes', 'No', 'Yes',\n",
    "       'No', 'No', 'Yes', 'No', 'No', 'No', 'No', 'No', 'Yes', 'Yes',\n",
    "       'Yes', 'Yes', 'Yes', 'Yes', 'Yes', 'No', 'No', 'No', 'Yes', 'No',\n",
    "       'Yes', 'Yes', 'No', 'Yes', 'No', 'No', 'Yes', 'No', 'No', 'Yes',\n",
    "       'Yes', 'Yes', 'No', 'No', 'No', 'No', 'No', 'Yes', 'Yes', 'No',\n",
    "       'Yes', 'No', 'Yes', 'Yes', 'Yes', 'No', 'Yes', 'No', 'No', 'Yes',\n",
    "       'No', 'Yes', 'No', 'No', 'No', 'No', 'No', 'No', 'Yes', 'Yes', 'No',\n",
    "       'No', 'Yes', 'No', 'Yes', 'Yes', 'No', 'Yes', 'Yes', 'No', 'No',\n",
    "       'Yes', 'Yes', 'Yes', 'No', 'No', 'Yes', 'Yes', 'Yes', 'Yes', 'Yes',\n",
    "       'Yes', 'Yes', 'No', 'Yes', 'Yes', 'Yes', 'No', 'Yes', 'No', 'Yes',\n",
    "       'No', 'Yes', 'No', 'No', 'No', 'Yes', 'No', 'Yes', 'No', 'No', 'No',\n",
    "       'No', 'No', 'No', 'Yes', 'Yes', 'Yes', 'No', 'Yes', 'No', 'Yes',\n",
    "       'No', 'No', 'Yes', 'No', 'No', 'No', 'No', 'Yes', 'Yes', 'No', 'No',\n",
    "       'Yes', 'No', 'No', 'No', 'No', 'No', 'No', 'No', 'Yes', 'No', 'No',\n",
    "       'Yes', 'No', 'Yes', 'Yes', 'No', 'Yes', 'Yes', 'Yes', 'No', 'No',\n",
    "       'Yes', 'No', 'Yes', 'No', 'Yes', 'Yes', 'No', 'Yes', 'No', 'No',\n",
    "       'No', 'Yes', 'Yes', 'No', 'Yes', 'Yes', 'Yes', 'Yes', 'Yes', 'No',\n",
    "       'No', 'No', 'No', 'No', 'Yes', 'No', 'No', 'Yes', 'Yes', 'No',\n",
    "       'Yes', 'Yes', 'Yes', 'No', 'No', 'No', 'Yes', 'Yes', 'No', 'Yes',\n",
    "       'Yes', 'Yes', 'Yes', 'Yes', 'No', 'No', 'Yes', 'No', 'No', 'Yes',\n",
    "       'No', 'No', 'Yes', 'Yes', 'Yes', 'Yes', 'No', 'No', 'No', 'No',\n",
    "       'No', 'No', 'Yes', 'Yes', 'No', 'No', 'Yes', 'No', 'Yes', 'No',\n",
    "       'Yes', 'Yes', 'No', 'Yes', 'No', 'No', 'No', 'No', 'No', 'No', 'No',\n",
    "       'Yes', 'Yes', 'Yes', 'No', 'No', 'Yes', 'Yes', 'No', 'No', 'No',\n",
    "       'No', 'No', 'Yes', 'Yes', 'Yes', 'Yes', 'Yes', 'No', 'Yes', 'No',\n",
    "       'Yes', 'No', 'No', 'Yes', 'No', 'Yes', 'No', 'No', 'No', 'No', 'No',\n",
    "       'Yes', 'No', 'No', 'No', 'Yes', 'No', 'Yes', 'No', 'Yes', 'No',\n",
    "       'Yes', 'Yes', 'Yes', 'No', 'No', 'No', 'No', 'No', 'No', 'No', 'No',\n",
    "       'Yes', 'Yes', 'Yes', 'Yes', 'Yes', 'Yes', 'Yes', 'Yes', 'No'])\n",
    "collections.Counter(b)"
   ]
  },
  {
   "cell_type": "code",
   "execution_count": 55,
   "metadata": {},
   "outputs": [
    {
     "data": {
      "image/png": "[encoded data removed]",
      "text/plain": [
       "<matplotlib.figure.Figure at 0x2199a861d30>"
      ]
     },
     "metadata": {},
     "output_type": "display_data"
    }
   ],
   "source": [
    "# Pie chart, where the slices will be ordered and plotted counter-clockwise:\n",
    "labels = 'Yes', 'No'                 # Yes and No labels\n",
    "sizes = [231, 269]                     # Randomly generated choice of Yes and No\n",
    "colours = ['green', 'lightblue']     # Colours of Yes and No\n",
    "explode = (0, 0.5)                   # Space between Yes and No\n",
    "\n",
    "plt.pie(sizes, explode=explode, labels=labels, colors=colours,\n",
    "        autopct='%1.1f%%', shadow=False, startangle=90)\n",
    " \n",
    "plt.title(' Athletes and Alcohol')   # Title\n",
    "plt.show()"
   ]
  },
  {
   "cell_type": "markdown",
   "metadata": {},
   "source": [
    "From our data created, we can see that only 43% of athletes drink alcohol."
   ]
  },
  {
   "cell_type": "markdown",
   "metadata": {},
   "source": [
    "## Age vs Recovery"
   ]
  },
  {
   "cell_type": "markdown",
   "metadata": {},
   "source": [
    "There has been a lot of research about whether the older an athlete becomes the longer it takes to recover. Some research has indicated the age is not a factor in recovery while others think the opposite. The most comprehensive research I found indicates that older athletes do take longer to recovery, but this is more to do master athletes rather than professional athletes, so these factors have no relevance to this research as we are creating data for elite athletes up to their early 40’s. From these studies undertaken by Master Athletes in Australia, they have concluded that regular training into later life by master’s athletes does not appear to offset the age-related impairments in muscle protein metabolism. We also conclude that higher protein feedings may be beneficial to recovery for subsequent training or competition performance in master’s athletes. [[Master]]( http://www.mastersathlete.com.au/2017/03/weve-proved-it-older-athletes-do-take-longer-to-recover/)"
   ]
  },
  {
   "cell_type": "markdown",
   "metadata": {},
   "source": [
    "## Training Hours vs Recovery Hours"
   ]
  },
  {
   "cell_type": "markdown",
   "metadata": {},
   "source": [
    "The next factor's we will look at is the training and recovery hours."
   ]
  },
  {
   "cell_type": "code",
   "execution_count": 56,
   "metadata": {
    "scrolled": true
   },
   "outputs": [
    {
     "data": {
      "text/html": [
       "<div>\n",
       "<style>\n",
       "    .dataframe thead tr:only-child th {\n",
       "        text-align: right;\n",
       "    }\n",
       "\n",
       "    .dataframe thead th {\n",
       "        text-align: left;\n",
       "    }\n",
       "\n",
       "    .dataframe tbody tr th {\n",
       "        vertical-align: top;\n",
       "    }\n",
       "</style>\n",
       "<table border=\"1\" class=\"dataframe\">\n",
       "  <thead>\n",
       "    <tr style=\"text-align: right;\">\n",
       "      <th></th>\n",
       "      <th>Train</th>\n",
       "      <th>Recovery</th>\n",
       "    </tr>\n",
       "  </thead>\n",
       "  <tbody>\n",
       "    <tr>\n",
       "      <th>0</th>\n",
       "      <td>6.0</td>\n",
       "      <td>10.0</td>\n",
       "    </tr>\n",
       "    <tr>\n",
       "      <th>1</th>\n",
       "      <td>7.0</td>\n",
       "      <td>4.0</td>\n",
       "    </tr>\n",
       "    <tr>\n",
       "      <th>2</th>\n",
       "      <td>7.0</td>\n",
       "      <td>6.0</td>\n",
       "    </tr>\n",
       "    <tr>\n",
       "      <th>3</th>\n",
       "      <td>6.0</td>\n",
       "      <td>12.0</td>\n",
       "    </tr>\n",
       "    <tr>\n",
       "      <th>4</th>\n",
       "      <td>6.0</td>\n",
       "      <td>4.0</td>\n",
       "    </tr>\n",
       "  </tbody>\n",
       "</table>\n",
       "</div>"
      ],
      "text/plain": [
       "   Train  Recovery\n",
       "0    6.0      10.0\n",
       "1    7.0       4.0\n",
       "2    7.0       6.0\n",
       "3    6.0      12.0\n",
       "4    6.0       4.0"
      ]
     },
     "execution_count": 56,
     "metadata": {},
     "output_type": "execute_result"
    }
   ],
   "source": [
    "# Create a data set for training and recovery hours using panda dataframe\n",
    "hours = pd.DataFrame(data={'Train': train,  'Recovery': rec}) # Create dataset\n",
    "hours = hours[['Train', 'Recovery']]                          # Rearrange Columns\n",
    "hours.head()                                                  # Top 5 lines of dataset"
   ]
  },
  {
   "cell_type": "code",
   "execution_count": 57,
   "metadata": {},
   "outputs": [
    {
     "data": {
      "image/png": "[encoded data removed]",
      "text/plain": [
       "<matplotlib.figure.Figure at 0x2199a1ff9b0>"
      ]
     },
     "metadata": {},
     "output_type": "display_data"
    }
   ],
   "source": [
    "# Create a scatter plot showing recovery hours vs trained hours\n",
    "x = train\n",
    "y = rec\n",
    "colours = np.random.rand(500)                              # Randomly generated colours\n",
    "area = (30 * np.random.rand(500))**2                       # 0 to 15 point radii \n",
    "\n",
    "plt.scatter(x, y, s=area, c=colours, alpha=0.5)            # Create scatter plot\n",
    "plt.annotate('Optiaml Hours', xy=(6, 9), xytext=(10, 9),   # Create point on scatter plot\n",
    "             arrowprops=dict(facecolor='black', shrink=1.05),\n",
    "             )\n",
    "plt.title(\"Hours\")                                          # Title\n",
    "plt.xlabel(\"Training Hours\")                                # X-axis Training Hours\n",
    "plt.ylabel(\"Recovery Hours\")                                # Y-axis Recovery Hours\n",
    "plt.show()"
   ]
  },
  {
   "cell_type": "markdown",
   "metadata": {
    "collapsed": true
   },
   "source": [
    "The point highlighted in the above scatter plot is the optimal hours that athletes should train versus recovery based on the evidence collected. Any point outside these hours leads to a risk of under performing by that athlete."
   ]
  },
  {
   "cell_type": "markdown",
   "metadata": {},
   "source": [
    "## Training and Calories"
   ]
  },
  {
   "cell_type": "markdown",
   "metadata": {},
   "source": [
    " We will now look at the relationship between training hours and Calories an athlete should intake on a given day."
   ]
  },
  {
   "cell_type": "code",
   "execution_count": 20,
   "metadata": {},
   "outputs": [
    {
     "data": {
      "text/html": [
       "<div>\n",
       "<style>\n",
       "    .dataframe thead tr:only-child th {\n",
       "        text-align: right;\n",
       "    }\n",
       "\n",
       "    .dataframe thead th {\n",
       "        text-align: left;\n",
       "    }\n",
       "\n",
       "    .dataframe tbody tr th {\n",
       "        vertical-align: top;\n",
       "    }\n",
       "</style>\n",
       "<table border=\"1\" class=\"dataframe\">\n",
       "  <thead>\n",
       "    <tr style=\"text-align: right;\">\n",
       "      <th></th>\n",
       "      <th>Train</th>\n",
       "      <th>Calories</th>\n",
       "    </tr>\n",
       "  </thead>\n",
       "  <tbody>\n",
       "    <tr>\n",
       "      <th>145</th>\n",
       "      <td>6.0</td>\n",
       "      <td>3861.0</td>\n",
       "    </tr>\n",
       "    <tr>\n",
       "      <th>146</th>\n",
       "      <td>4.0</td>\n",
       "      <td>3293.0</td>\n",
       "    </tr>\n",
       "    <tr>\n",
       "      <th>147</th>\n",
       "      <td>9.0</td>\n",
       "      <td>3569.0</td>\n",
       "    </tr>\n",
       "    <tr>\n",
       "      <th>148</th>\n",
       "      <td>7.0</td>\n",
       "      <td>952.0</td>\n",
       "    </tr>\n",
       "    <tr>\n",
       "      <th>149</th>\n",
       "      <td>4.0</td>\n",
       "      <td>3534.0</td>\n",
       "    </tr>\n",
       "  </tbody>\n",
       "</table>\n",
       "</div>"
      ],
      "text/plain": [
       "     Train  Calories\n",
       "145    6.0    3861.0\n",
       "146    4.0    3293.0\n",
       "147    9.0    3569.0\n",
       "148    7.0     952.0\n",
       "149    4.0    3534.0"
      ]
     },
     "execution_count": 20,
     "metadata": {},
     "output_type": "execute_result"
    }
   ],
   "source": [
    "# # Create a data set for training hours and calories using panda dataframe\n",
    "food = pd.DataFrame(data={'Train': train, 'Calories': cal})  # Create dataframe \n",
    "food = food[['Train', 'Calories']]                           # Rearrange Columns\n",
    "food.tail()                                                  # Bottom 5 lines of dataset"
   ]
  },
  {
   "cell_type": "code",
   "execution_count": 58,
   "metadata": {},
   "outputs": [
    {
     "data": {
      "image/png": "[encoded data removed]",
      "text/plain": [
       "<matplotlib.figure.Figure at 0x2199a5feeb8>"
      ]
     },
     "metadata": {},
     "output_type": "display_data"
    }
   ],
   "source": [
    "# Create a scatter plot showing recovery hours vs calories\n",
    "x = cal\n",
    "y = train\n",
    "\n",
    "colours = np.random.rand(500)                               # Randomly generate colours for 150 atheletes\n",
    "area = (30 * np.random.rand(500))**2                        # 0 to 15 point radii\n",
    "\n",
    "\n",
    "plt.scatter(x, y, s=area, c=colours, alpha=0.5)             # Create scatter plot\n",
    "plt.annotate('Optiaml Calories', xy=(3000, 6), xytext=(3000, 9),\n",
    "             arrowprops=dict(facecolor='black', shrink=1.05),\n",
    "             )\n",
    "plt.title(\"Training Hours vs Calories\")                     # Title\n",
    "plt.xlabel(\"Calories\")                                      # X-axis Training Hours\n",
    "plt.ylabel(\"Training Hours\")                                # Y-axis Calories\n",
    "plt.show()"
   ]
  },
  {
   "cell_type": "markdown",
   "metadata": {},
   "source": [
    "The point highlighted in the above scatter plot is the optimal calories that athletes should train versus calories intake based on the evidence collected. Any calories outside these calories leads to a risk of under performing by that athlete."
   ]
  },
  {
   "cell_type": "markdown",
   "metadata": {},
   "source": [
    "## Recovery vs Alcohol"
   ]
  },
  {
   "cell_type": "markdown",
   "metadata": {
    "collapsed": true
   },
   "source": [
    "Of particular relevance to the recovery of strength athletes is the enhanced protein synthesis that occurs post-exercise to facilitate repair and adaptive hypertrophy. Acute alcohol ingestion decreases muscle protein synthesis in a dose- and time-dependent manner, in the absence of an exercise stimulus. Alcohol facilitates this firstly by suppressing the phosphorylation and activation of the mTOR pathways, the critical kinase cascade regulating translation initiation [[NCBI]]( https://www.ncbi.nlm.nih.gov/pmc/articles/PMC3257708/#B54-nutrients-02-00781)"
   ]
  },
  {
   "cell_type": "markdown",
   "metadata": {},
   "source": [
    " "
   ]
  },
  {
   "cell_type": "markdown",
   "metadata": {
    "collapsed": true
   },
   "source": [
    "## Dataframe"
   ]
  },
  {
   "cell_type": "code",
   "execution_count": 59,
   "metadata": {
    "scrolled": true
   },
   "outputs": [
    {
     "data": {
      "text/html": [
       "<div>\n",
       "<style>\n",
       "    .dataframe thead tr:only-child th {\n",
       "        text-align: right;\n",
       "    }\n",
       "\n",
       "    .dataframe thead th {\n",
       "        text-align: left;\n",
       "    }\n",
       "\n",
       "    .dataframe tbody tr th {\n",
       "        vertical-align: top;\n",
       "    }\n",
       "</style>\n",
       "<table border=\"1\" class=\"dataframe\">\n",
       "  <thead>\n",
       "    <tr style=\"text-align: right;\">\n",
       "      <th></th>\n",
       "      <th>Age</th>\n",
       "      <th>Train</th>\n",
       "      <th>Recovery</th>\n",
       "      <th>Alcohol</th>\n",
       "      <th>Calories</th>\n",
       "    </tr>\n",
       "  </thead>\n",
       "  <tbody>\n",
       "    <tr>\n",
       "      <th>0</th>\n",
       "      <td>26</td>\n",
       "      <td>6.0</td>\n",
       "      <td>10.0</td>\n",
       "      <td>No</td>\n",
       "      <td>5100.0</td>\n",
       "    </tr>\n",
       "    <tr>\n",
       "      <th>1</th>\n",
       "      <td>29</td>\n",
       "      <td>7.0</td>\n",
       "      <td>4.0</td>\n",
       "      <td>No</td>\n",
       "      <td>2017.0</td>\n",
       "    </tr>\n",
       "    <tr>\n",
       "      <th>2</th>\n",
       "      <td>27</td>\n",
       "      <td>7.0</td>\n",
       "      <td>6.0</td>\n",
       "      <td>Yes</td>\n",
       "      <td>2850.0</td>\n",
       "    </tr>\n",
       "    <tr>\n",
       "      <th>3</th>\n",
       "      <td>25</td>\n",
       "      <td>6.0</td>\n",
       "      <td>12.0</td>\n",
       "      <td>No</td>\n",
       "      <td>6193.0</td>\n",
       "    </tr>\n",
       "    <tr>\n",
       "      <th>4</th>\n",
       "      <td>28</td>\n",
       "      <td>6.0</td>\n",
       "      <td>4.0</td>\n",
       "      <td>No</td>\n",
       "      <td>2099.0</td>\n",
       "    </tr>\n",
       "    <tr>\n",
       "      <th>5</th>\n",
       "      <td>32</td>\n",
       "      <td>5.0</td>\n",
       "      <td>7.0</td>\n",
       "      <td>Yes</td>\n",
       "      <td>3566.0</td>\n",
       "    </tr>\n",
       "    <tr>\n",
       "      <th>6</th>\n",
       "      <td>29</td>\n",
       "      <td>5.0</td>\n",
       "      <td>6.0</td>\n",
       "      <td>No</td>\n",
       "      <td>2864.0</td>\n",
       "    </tr>\n",
       "    <tr>\n",
       "      <th>7</th>\n",
       "      <td>23</td>\n",
       "      <td>5.0</td>\n",
       "      <td>6.0</td>\n",
       "      <td>Yes</td>\n",
       "      <td>2967.0</td>\n",
       "    </tr>\n",
       "    <tr>\n",
       "      <th>8</th>\n",
       "      <td>30</td>\n",
       "      <td>7.0</td>\n",
       "      <td>3.0</td>\n",
       "      <td>Yes</td>\n",
       "      <td>1628.0</td>\n",
       "    </tr>\n",
       "    <tr>\n",
       "      <th>9</th>\n",
       "      <td>23</td>\n",
       "      <td>6.0</td>\n",
       "      <td>9.0</td>\n",
       "      <td>No</td>\n",
       "      <td>4703.0</td>\n",
       "    </tr>\n",
       "    <tr>\n",
       "      <th>10</th>\n",
       "      <td>35</td>\n",
       "      <td>8.0</td>\n",
       "      <td>9.0</td>\n",
       "      <td>Yes</td>\n",
       "      <td>4385.0</td>\n",
       "    </tr>\n",
       "    <tr>\n",
       "      <th>11</th>\n",
       "      <td>30</td>\n",
       "      <td>7.0</td>\n",
       "      <td>12.0</td>\n",
       "      <td>No</td>\n",
       "      <td>5750.0</td>\n",
       "    </tr>\n",
       "    <tr>\n",
       "      <th>12</th>\n",
       "      <td>23</td>\n",
       "      <td>7.0</td>\n",
       "      <td>6.0</td>\n",
       "      <td>No</td>\n",
       "      <td>2805.0</td>\n",
       "    </tr>\n",
       "    <tr>\n",
       "      <th>13</th>\n",
       "      <td>36</td>\n",
       "      <td>4.0</td>\n",
       "      <td>9.0</td>\n",
       "      <td>No</td>\n",
       "      <td>4295.0</td>\n",
       "    </tr>\n",
       "    <tr>\n",
       "      <th>14</th>\n",
       "      <td>26</td>\n",
       "      <td>3.0</td>\n",
       "      <td>8.0</td>\n",
       "      <td>Yes</td>\n",
       "      <td>4048.0</td>\n",
       "    </tr>\n",
       "    <tr>\n",
       "      <th>15</th>\n",
       "      <td>26</td>\n",
       "      <td>4.0</td>\n",
       "      <td>8.0</td>\n",
       "      <td>No</td>\n",
       "      <td>3829.0</td>\n",
       "    </tr>\n",
       "    <tr>\n",
       "      <th>16</th>\n",
       "      <td>27</td>\n",
       "      <td>3.0</td>\n",
       "      <td>7.0</td>\n",
       "      <td>No</td>\n",
       "      <td>3495.0</td>\n",
       "    </tr>\n",
       "    <tr>\n",
       "      <th>17</th>\n",
       "      <td>29</td>\n",
       "      <td>7.0</td>\n",
       "      <td>5.0</td>\n",
       "      <td>No</td>\n",
       "      <td>2631.0</td>\n",
       "    </tr>\n",
       "    <tr>\n",
       "      <th>18</th>\n",
       "      <td>30</td>\n",
       "      <td>5.0</td>\n",
       "      <td>8.0</td>\n",
       "      <td>Yes</td>\n",
       "      <td>3897.0</td>\n",
       "    </tr>\n",
       "    <tr>\n",
       "      <th>19</th>\n",
       "      <td>21</td>\n",
       "      <td>6.0</td>\n",
       "      <td>7.0</td>\n",
       "      <td>No</td>\n",
       "      <td>3613.0</td>\n",
       "    </tr>\n",
       "    <tr>\n",
       "      <th>20</th>\n",
       "      <td>31</td>\n",
       "      <td>7.0</td>\n",
       "      <td>7.0</td>\n",
       "      <td>No</td>\n",
       "      <td>3544.0</td>\n",
       "    </tr>\n",
       "    <tr>\n",
       "      <th>21</th>\n",
       "      <td>29</td>\n",
       "      <td>3.0</td>\n",
       "      <td>5.0</td>\n",
       "      <td>No</td>\n",
       "      <td>2641.0</td>\n",
       "    </tr>\n",
       "    <tr>\n",
       "      <th>22</th>\n",
       "      <td>33</td>\n",
       "      <td>3.0</td>\n",
       "      <td>7.0</td>\n",
       "      <td>No</td>\n",
       "      <td>3603.0</td>\n",
       "    </tr>\n",
       "    <tr>\n",
       "      <th>23</th>\n",
       "      <td>31</td>\n",
       "      <td>6.0</td>\n",
       "      <td>9.0</td>\n",
       "      <td>No</td>\n",
       "      <td>4595.0</td>\n",
       "    </tr>\n",
       "    <tr>\n",
       "      <th>24</th>\n",
       "      <td>43</td>\n",
       "      <td>5.0</td>\n",
       "      <td>5.0</td>\n",
       "      <td>Yes</td>\n",
       "      <td>2622.0</td>\n",
       "    </tr>\n",
       "    <tr>\n",
       "      <th>25</th>\n",
       "      <td>24</td>\n",
       "      <td>6.0</td>\n",
       "      <td>9.0</td>\n",
       "      <td>Yes</td>\n",
       "      <td>4512.0</td>\n",
       "    </tr>\n",
       "    <tr>\n",
       "      <th>26</th>\n",
       "      <td>30</td>\n",
       "      <td>9.0</td>\n",
       "      <td>7.0</td>\n",
       "      <td>Yes</td>\n",
       "      <td>3459.0</td>\n",
       "    </tr>\n",
       "    <tr>\n",
       "      <th>27</th>\n",
       "      <td>27</td>\n",
       "      <td>5.0</td>\n",
       "      <td>7.0</td>\n",
       "      <td>Yes</td>\n",
       "      <td>3509.0</td>\n",
       "    </tr>\n",
       "    <tr>\n",
       "      <th>28</th>\n",
       "      <td>27</td>\n",
       "      <td>7.0</td>\n",
       "      <td>9.0</td>\n",
       "      <td>No</td>\n",
       "      <td>4326.0</td>\n",
       "    </tr>\n",
       "    <tr>\n",
       "      <th>29</th>\n",
       "      <td>25</td>\n",
       "      <td>5.0</td>\n",
       "      <td>9.0</td>\n",
       "      <td>No</td>\n",
       "      <td>4739.0</td>\n",
       "    </tr>\n",
       "    <tr>\n",
       "      <th>...</th>\n",
       "      <td>...</td>\n",
       "      <td>...</td>\n",
       "      <td>...</td>\n",
       "      <td>...</td>\n",
       "      <td>...</td>\n",
       "    </tr>\n",
       "    <tr>\n",
       "      <th>470</th>\n",
       "      <td>35</td>\n",
       "      <td>7.0</td>\n",
       "      <td>7.0</td>\n",
       "      <td>Yes</td>\n",
       "      <td>3710.0</td>\n",
       "    </tr>\n",
       "    <tr>\n",
       "      <th>471</th>\n",
       "      <td>37</td>\n",
       "      <td>5.0</td>\n",
       "      <td>6.0</td>\n",
       "      <td>No</td>\n",
       "      <td>2923.0</td>\n",
       "    </tr>\n",
       "    <tr>\n",
       "      <th>472</th>\n",
       "      <td>26</td>\n",
       "      <td>6.0</td>\n",
       "      <td>8.0</td>\n",
       "      <td>No</td>\n",
       "      <td>4086.0</td>\n",
       "    </tr>\n",
       "    <tr>\n",
       "      <th>473</th>\n",
       "      <td>30</td>\n",
       "      <td>8.0</td>\n",
       "      <td>6.0</td>\n",
       "      <td>No</td>\n",
       "      <td>3007.0</td>\n",
       "    </tr>\n",
       "    <tr>\n",
       "      <th>474</th>\n",
       "      <td>23</td>\n",
       "      <td>5.0</td>\n",
       "      <td>8.0</td>\n",
       "      <td>Yes</td>\n",
       "      <td>4017.0</td>\n",
       "    </tr>\n",
       "    <tr>\n",
       "      <th>475</th>\n",
       "      <td>24</td>\n",
       "      <td>6.0</td>\n",
       "      <td>8.0</td>\n",
       "      <td>No</td>\n",
       "      <td>3900.0</td>\n",
       "    </tr>\n",
       "    <tr>\n",
       "      <th>476</th>\n",
       "      <td>31</td>\n",
       "      <td>8.0</td>\n",
       "      <td>9.0</td>\n",
       "      <td>Yes</td>\n",
       "      <td>4303.0</td>\n",
       "    </tr>\n",
       "    <tr>\n",
       "      <th>477</th>\n",
       "      <td>29</td>\n",
       "      <td>6.0</td>\n",
       "      <td>5.0</td>\n",
       "      <td>No</td>\n",
       "      <td>2310.0</td>\n",
       "    </tr>\n",
       "    <tr>\n",
       "      <th>478</th>\n",
       "      <td>19</td>\n",
       "      <td>8.0</td>\n",
       "      <td>9.0</td>\n",
       "      <td>Yes</td>\n",
       "      <td>4341.0</td>\n",
       "    </tr>\n",
       "    <tr>\n",
       "      <th>479</th>\n",
       "      <td>27</td>\n",
       "      <td>4.0</td>\n",
       "      <td>7.0</td>\n",
       "      <td>No</td>\n",
       "      <td>3714.0</td>\n",
       "    </tr>\n",
       "    <tr>\n",
       "      <th>480</th>\n",
       "      <td>22</td>\n",
       "      <td>3.0</td>\n",
       "      <td>6.0</td>\n",
       "      <td>Yes</td>\n",
       "      <td>2845.0</td>\n",
       "    </tr>\n",
       "    <tr>\n",
       "      <th>481</th>\n",
       "      <td>27</td>\n",
       "      <td>7.0</td>\n",
       "      <td>6.0</td>\n",
       "      <td>Yes</td>\n",
       "      <td>2996.0</td>\n",
       "    </tr>\n",
       "    <tr>\n",
       "      <th>482</th>\n",
       "      <td>18</td>\n",
       "      <td>8.0</td>\n",
       "      <td>9.0</td>\n",
       "      <td>Yes</td>\n",
       "      <td>4254.0</td>\n",
       "    </tr>\n",
       "    <tr>\n",
       "      <th>483</th>\n",
       "      <td>27</td>\n",
       "      <td>5.0</td>\n",
       "      <td>4.0</td>\n",
       "      <td>No</td>\n",
       "      <td>2218.0</td>\n",
       "    </tr>\n",
       "    <tr>\n",
       "      <th>484</th>\n",
       "      <td>29</td>\n",
       "      <td>7.0</td>\n",
       "      <td>9.0</td>\n",
       "      <td>No</td>\n",
       "      <td>4433.0</td>\n",
       "    </tr>\n",
       "    <tr>\n",
       "      <th>485</th>\n",
       "      <td>20</td>\n",
       "      <td>4.0</td>\n",
       "      <td>9.0</td>\n",
       "      <td>No</td>\n",
       "      <td>4277.0</td>\n",
       "    </tr>\n",
       "    <tr>\n",
       "      <th>486</th>\n",
       "      <td>23</td>\n",
       "      <td>9.0</td>\n",
       "      <td>10.0</td>\n",
       "      <td>No</td>\n",
       "      <td>5134.0</td>\n",
       "    </tr>\n",
       "    <tr>\n",
       "      <th>487</th>\n",
       "      <td>25</td>\n",
       "      <td>7.0</td>\n",
       "      <td>10.0</td>\n",
       "      <td>No</td>\n",
       "      <td>4919.0</td>\n",
       "    </tr>\n",
       "    <tr>\n",
       "      <th>488</th>\n",
       "      <td>33</td>\n",
       "      <td>9.0</td>\n",
       "      <td>12.0</td>\n",
       "      <td>No</td>\n",
       "      <td>5873.0</td>\n",
       "    </tr>\n",
       "    <tr>\n",
       "      <th>489</th>\n",
       "      <td>30</td>\n",
       "      <td>8.0</td>\n",
       "      <td>9.0</td>\n",
       "      <td>No</td>\n",
       "      <td>4461.0</td>\n",
       "    </tr>\n",
       "    <tr>\n",
       "      <th>490</th>\n",
       "      <td>29</td>\n",
       "      <td>4.0</td>\n",
       "      <td>8.0</td>\n",
       "      <td>No</td>\n",
       "      <td>3902.0</td>\n",
       "    </tr>\n",
       "    <tr>\n",
       "      <th>491</th>\n",
       "      <td>24</td>\n",
       "      <td>8.0</td>\n",
       "      <td>10.0</td>\n",
       "      <td>Yes</td>\n",
       "      <td>4828.0</td>\n",
       "    </tr>\n",
       "    <tr>\n",
       "      <th>492</th>\n",
       "      <td>32</td>\n",
       "      <td>4.0</td>\n",
       "      <td>10.0</td>\n",
       "      <td>Yes</td>\n",
       "      <td>5104.0</td>\n",
       "    </tr>\n",
       "    <tr>\n",
       "      <th>493</th>\n",
       "      <td>33</td>\n",
       "      <td>3.0</td>\n",
       "      <td>9.0</td>\n",
       "      <td>Yes</td>\n",
       "      <td>4748.0</td>\n",
       "    </tr>\n",
       "    <tr>\n",
       "      <th>494</th>\n",
       "      <td>30</td>\n",
       "      <td>8.0</td>\n",
       "      <td>8.0</td>\n",
       "      <td>Yes</td>\n",
       "      <td>4224.0</td>\n",
       "    </tr>\n",
       "    <tr>\n",
       "      <th>495</th>\n",
       "      <td>29</td>\n",
       "      <td>5.0</td>\n",
       "      <td>6.0</td>\n",
       "      <td>Yes</td>\n",
       "      <td>2892.0</td>\n",
       "    </tr>\n",
       "    <tr>\n",
       "      <th>496</th>\n",
       "      <td>25</td>\n",
       "      <td>7.0</td>\n",
       "      <td>8.0</td>\n",
       "      <td>Yes</td>\n",
       "      <td>3765.0</td>\n",
       "    </tr>\n",
       "    <tr>\n",
       "      <th>497</th>\n",
       "      <td>41</td>\n",
       "      <td>6.0</td>\n",
       "      <td>11.0</td>\n",
       "      <td>Yes</td>\n",
       "      <td>5505.0</td>\n",
       "    </tr>\n",
       "    <tr>\n",
       "      <th>498</th>\n",
       "      <td>22</td>\n",
       "      <td>10.0</td>\n",
       "      <td>6.0</td>\n",
       "      <td>Yes</td>\n",
       "      <td>2922.0</td>\n",
       "    </tr>\n",
       "    <tr>\n",
       "      <th>499</th>\n",
       "      <td>30</td>\n",
       "      <td>6.0</td>\n",
       "      <td>6.0</td>\n",
       "      <td>No</td>\n",
       "      <td>3043.0</td>\n",
       "    </tr>\n",
       "  </tbody>\n",
       "</table>\n",
       "<p>500 rows × 5 columns</p>\n",
       "</div>"
      ],
      "text/plain": [
       "     Age  Train  Recovery Alcohol  Calories\n",
       "0     26    6.0      10.0      No    5100.0\n",
       "1     29    7.0       4.0      No    2017.0\n",
       "2     27    7.0       6.0     Yes    2850.0\n",
       "3     25    6.0      12.0      No    6193.0\n",
       "4     28    6.0       4.0      No    2099.0\n",
       "5     32    5.0       7.0     Yes    3566.0\n",
       "6     29    5.0       6.0      No    2864.0\n",
       "7     23    5.0       6.0     Yes    2967.0\n",
       "8     30    7.0       3.0     Yes    1628.0\n",
       "9     23    6.0       9.0      No    4703.0\n",
       "10    35    8.0       9.0     Yes    4385.0\n",
       "11    30    7.0      12.0      No    5750.0\n",
       "12    23    7.0       6.0      No    2805.0\n",
       "13    36    4.0       9.0      No    4295.0\n",
       "14    26    3.0       8.0     Yes    4048.0\n",
       "15    26    4.0       8.0      No    3829.0\n",
       "16    27    3.0       7.0      No    3495.0\n",
       "17    29    7.0       5.0      No    2631.0\n",
       "18    30    5.0       8.0     Yes    3897.0\n",
       "19    21    6.0       7.0      No    3613.0\n",
       "20    31    7.0       7.0      No    3544.0\n",
       "21    29    3.0       5.0      No    2641.0\n",
       "22    33    3.0       7.0      No    3603.0\n",
       "23    31    6.0       9.0      No    4595.0\n",
       "24    43    5.0       5.0     Yes    2622.0\n",
       "25    24    6.0       9.0     Yes    4512.0\n",
       "26    30    9.0       7.0     Yes    3459.0\n",
       "27    27    5.0       7.0     Yes    3509.0\n",
       "28    27    7.0       9.0      No    4326.0\n",
       "29    25    5.0       9.0      No    4739.0\n",
       "..   ...    ...       ...     ...       ...\n",
       "470   35    7.0       7.0     Yes    3710.0\n",
       "471   37    5.0       6.0      No    2923.0\n",
       "472   26    6.0       8.0      No    4086.0\n",
       "473   30    8.0       6.0      No    3007.0\n",
       "474   23    5.0       8.0     Yes    4017.0\n",
       "475   24    6.0       8.0      No    3900.0\n",
       "476   31    8.0       9.0     Yes    4303.0\n",
       "477   29    6.0       5.0      No    2310.0\n",
       "478   19    8.0       9.0     Yes    4341.0\n",
       "479   27    4.0       7.0      No    3714.0\n",
       "480   22    3.0       6.0     Yes    2845.0\n",
       "481   27    7.0       6.0     Yes    2996.0\n",
       "482   18    8.0       9.0     Yes    4254.0\n",
       "483   27    5.0       4.0      No    2218.0\n",
       "484   29    7.0       9.0      No    4433.0\n",
       "485   20    4.0       9.0      No    4277.0\n",
       "486   23    9.0      10.0      No    5134.0\n",
       "487   25    7.0      10.0      No    4919.0\n",
       "488   33    9.0      12.0      No    5873.0\n",
       "489   30    8.0       9.0      No    4461.0\n",
       "490   29    4.0       8.0      No    3902.0\n",
       "491   24    8.0      10.0     Yes    4828.0\n",
       "492   32    4.0      10.0     Yes    5104.0\n",
       "493   33    3.0       9.0     Yes    4748.0\n",
       "494   30    8.0       8.0     Yes    4224.0\n",
       "495   29    5.0       6.0     Yes    2892.0\n",
       "496   25    7.0       8.0     Yes    3765.0\n",
       "497   41    6.0      11.0     Yes    5505.0\n",
       "498   22   10.0       6.0     Yes    2922.0\n",
       "499   30    6.0       6.0      No    3043.0\n",
       "\n",
       "[500 rows x 5 columns]"
      ]
     },
     "execution_count": 59,
     "metadata": {},
     "output_type": "execute_result"
    }
   ],
   "source": [
    "# Create a Dataframe of all factors randomly created\n",
    "df = pd.DataFrame(data={'Age': age, 'Train': train, 'Alcohol': alco, 'Calories': cal, 'Recovery': rec})\n",
    "df = df[['Age', 'Train', 'Recovery', 'Alcohol', 'Calories']]                           # Rearrange Columns\n",
    "df"
   ]
  },
  {
   "cell_type": "markdown",
   "metadata": {},
   "source": [
    "## The Best Performing Athlete "
   ]
  },
  {
   "cell_type": "markdown",
   "metadata": {},
   "source": [
    "From the data that was randomly generated from our data set, we are going to find the best performing athlete based on the above factors starting with the age of the athlete and when they are hitting their peak at the age of 26. We will begin by filtered on this age."
   ]
  },
  {
   "cell_type": "code",
   "execution_count": 75,
   "metadata": {},
   "outputs": [
    {
     "data": {
      "text/html": [
       "<div>\n",
       "<style>\n",
       "    .dataframe thead tr:only-child th {\n",
       "        text-align: right;\n",
       "    }\n",
       "\n",
       "    .dataframe thead th {\n",
       "        text-align: left;\n",
       "    }\n",
       "\n",
       "    .dataframe tbody tr th {\n",
       "        vertical-align: top;\n",
       "    }\n",
       "</style>\n",
       "<table border=\"1\" class=\"dataframe\">\n",
       "  <thead>\n",
       "    <tr style=\"text-align: right;\">\n",
       "      <th></th>\n",
       "      <th>Age</th>\n",
       "      <th>Train</th>\n",
       "      <th>Recovery</th>\n",
       "      <th>Alcohol</th>\n",
       "      <th>Calories</th>\n",
       "    </tr>\n",
       "  </thead>\n",
       "  <tbody>\n",
       "    <tr>\n",
       "      <th>0</th>\n",
       "      <td>26</td>\n",
       "      <td>6.0</td>\n",
       "      <td>10.0</td>\n",
       "      <td>No</td>\n",
       "      <td>5100.0</td>\n",
       "    </tr>\n",
       "    <tr>\n",
       "      <th>14</th>\n",
       "      <td>26</td>\n",
       "      <td>3.0</td>\n",
       "      <td>8.0</td>\n",
       "      <td>Yes</td>\n",
       "      <td>4048.0</td>\n",
       "    </tr>\n",
       "    <tr>\n",
       "      <th>15</th>\n",
       "      <td>26</td>\n",
       "      <td>4.0</td>\n",
       "      <td>8.0</td>\n",
       "      <td>No</td>\n",
       "      <td>3829.0</td>\n",
       "    </tr>\n",
       "    <tr>\n",
       "      <th>51</th>\n",
       "      <td>26</td>\n",
       "      <td>9.0</td>\n",
       "      <td>8.0</td>\n",
       "      <td>Yes</td>\n",
       "      <td>3776.0</td>\n",
       "    </tr>\n",
       "    <tr>\n",
       "      <th>63</th>\n",
       "      <td>26</td>\n",
       "      <td>7.0</td>\n",
       "      <td>10.0</td>\n",
       "      <td>No</td>\n",
       "      <td>4977.0</td>\n",
       "    </tr>\n",
       "    <tr>\n",
       "      <th>84</th>\n",
       "      <td>26</td>\n",
       "      <td>5.0</td>\n",
       "      <td>6.0</td>\n",
       "      <td>No</td>\n",
       "      <td>2761.0</td>\n",
       "    </tr>\n",
       "    <tr>\n",
       "      <th>112</th>\n",
       "      <td>26</td>\n",
       "      <td>9.0</td>\n",
       "      <td>7.0</td>\n",
       "      <td>Yes</td>\n",
       "      <td>3301.0</td>\n",
       "    </tr>\n",
       "    <tr>\n",
       "      <th>113</th>\n",
       "      <td>26</td>\n",
       "      <td>10.0</td>\n",
       "      <td>8.0</td>\n",
       "      <td>Yes</td>\n",
       "      <td>4174.0</td>\n",
       "    </tr>\n",
       "    <tr>\n",
       "      <th>141</th>\n",
       "      <td>26</td>\n",
       "      <td>9.0</td>\n",
       "      <td>8.0</td>\n",
       "      <td>Yes</td>\n",
       "      <td>4194.0</td>\n",
       "    </tr>\n",
       "    <tr>\n",
       "      <th>143</th>\n",
       "      <td>26</td>\n",
       "      <td>6.0</td>\n",
       "      <td>6.0</td>\n",
       "      <td>No</td>\n",
       "      <td>3025.0</td>\n",
       "    </tr>\n",
       "    <tr>\n",
       "      <th>170</th>\n",
       "      <td>26</td>\n",
       "      <td>4.0</td>\n",
       "      <td>7.0</td>\n",
       "      <td>No</td>\n",
       "      <td>3338.0</td>\n",
       "    </tr>\n",
       "    <tr>\n",
       "      <th>206</th>\n",
       "      <td>26</td>\n",
       "      <td>6.0</td>\n",
       "      <td>6.0</td>\n",
       "      <td>No</td>\n",
       "      <td>2814.0</td>\n",
       "    </tr>\n",
       "    <tr>\n",
       "      <th>215</th>\n",
       "      <td>26</td>\n",
       "      <td>8.0</td>\n",
       "      <td>8.0</td>\n",
       "      <td>No</td>\n",
       "      <td>3787.0</td>\n",
       "    </tr>\n",
       "    <tr>\n",
       "      <th>218</th>\n",
       "      <td>26</td>\n",
       "      <td>6.0</td>\n",
       "      <td>10.0</td>\n",
       "      <td>No</td>\n",
       "      <td>5124.0</td>\n",
       "    </tr>\n",
       "    <tr>\n",
       "      <th>223</th>\n",
       "      <td>26</td>\n",
       "      <td>5.0</td>\n",
       "      <td>8.0</td>\n",
       "      <td>Yes</td>\n",
       "      <td>3798.0</td>\n",
       "    </tr>\n",
       "    <tr>\n",
       "      <th>233</th>\n",
       "      <td>26</td>\n",
       "      <td>6.0</td>\n",
       "      <td>6.0</td>\n",
       "      <td>No</td>\n",
       "      <td>2835.0</td>\n",
       "    </tr>\n",
       "    <tr>\n",
       "      <th>234</th>\n",
       "      <td>26</td>\n",
       "      <td>4.0</td>\n",
       "      <td>6.0</td>\n",
       "      <td>Yes</td>\n",
       "      <td>2825.0</td>\n",
       "    </tr>\n",
       "    <tr>\n",
       "      <th>239</th>\n",
       "      <td>26</td>\n",
       "      <td>6.0</td>\n",
       "      <td>10.0</td>\n",
       "      <td>No</td>\n",
       "      <td>5077.0</td>\n",
       "    </tr>\n",
       "    <tr>\n",
       "      <th>240</th>\n",
       "      <td>26</td>\n",
       "      <td>7.0</td>\n",
       "      <td>9.0</td>\n",
       "      <td>Yes</td>\n",
       "      <td>4430.0</td>\n",
       "    </tr>\n",
       "    <tr>\n",
       "      <th>274</th>\n",
       "      <td>26</td>\n",
       "      <td>9.0</td>\n",
       "      <td>10.0</td>\n",
       "      <td>No</td>\n",
       "      <td>4914.0</td>\n",
       "    </tr>\n",
       "    <tr>\n",
       "      <th>303</th>\n",
       "      <td>26</td>\n",
       "      <td>7.0</td>\n",
       "      <td>8.0</td>\n",
       "      <td>No</td>\n",
       "      <td>3876.0</td>\n",
       "    </tr>\n",
       "    <tr>\n",
       "      <th>318</th>\n",
       "      <td>26</td>\n",
       "      <td>9.0</td>\n",
       "      <td>5.0</td>\n",
       "      <td>No</td>\n",
       "      <td>2692.0</td>\n",
       "    </tr>\n",
       "    <tr>\n",
       "      <th>328</th>\n",
       "      <td>26</td>\n",
       "      <td>7.0</td>\n",
       "      <td>9.0</td>\n",
       "      <td>Yes</td>\n",
       "      <td>4644.0</td>\n",
       "    </tr>\n",
       "    <tr>\n",
       "      <th>340</th>\n",
       "      <td>26</td>\n",
       "      <td>4.0</td>\n",
       "      <td>10.0</td>\n",
       "      <td>No</td>\n",
       "      <td>4831.0</td>\n",
       "    </tr>\n",
       "    <tr>\n",
       "      <th>345</th>\n",
       "      <td>26</td>\n",
       "      <td>5.0</td>\n",
       "      <td>10.0</td>\n",
       "      <td>Yes</td>\n",
       "      <td>5244.0</td>\n",
       "    </tr>\n",
       "    <tr>\n",
       "      <th>362</th>\n",
       "      <td>26</td>\n",
       "      <td>5.0</td>\n",
       "      <td>7.0</td>\n",
       "      <td>Yes</td>\n",
       "      <td>3375.0</td>\n",
       "    </tr>\n",
       "    <tr>\n",
       "      <th>388</th>\n",
       "      <td>26</td>\n",
       "      <td>9.0</td>\n",
       "      <td>8.0</td>\n",
       "      <td>Yes</td>\n",
       "      <td>4230.0</td>\n",
       "    </tr>\n",
       "    <tr>\n",
       "      <th>394</th>\n",
       "      <td>26</td>\n",
       "      <td>6.0</td>\n",
       "      <td>4.0</td>\n",
       "      <td>Yes</td>\n",
       "      <td>1924.0</td>\n",
       "    </tr>\n",
       "    <tr>\n",
       "      <th>405</th>\n",
       "      <td>26</td>\n",
       "      <td>9.0</td>\n",
       "      <td>6.0</td>\n",
       "      <td>No</td>\n",
       "      <td>3089.0</td>\n",
       "    </tr>\n",
       "    <tr>\n",
       "      <th>412</th>\n",
       "      <td>26</td>\n",
       "      <td>6.0</td>\n",
       "      <td>6.0</td>\n",
       "      <td>Yes</td>\n",
       "      <td>3099.0</td>\n",
       "    </tr>\n",
       "    <tr>\n",
       "      <th>421</th>\n",
       "      <td>26</td>\n",
       "      <td>7.0</td>\n",
       "      <td>11.0</td>\n",
       "      <td>Yes</td>\n",
       "      <td>5669.0</td>\n",
       "    </tr>\n",
       "    <tr>\n",
       "      <th>472</th>\n",
       "      <td>26</td>\n",
       "      <td>6.0</td>\n",
       "      <td>8.0</td>\n",
       "      <td>No</td>\n",
       "      <td>4086.0</td>\n",
       "    </tr>\n",
       "  </tbody>\n",
       "</table>\n",
       "</div>"
      ],
      "text/plain": [
       "     Age  Train  Recovery Alcohol  Calories\n",
       "0     26    6.0      10.0      No    5100.0\n",
       "14    26    3.0       8.0     Yes    4048.0\n",
       "15    26    4.0       8.0      No    3829.0\n",
       "51    26    9.0       8.0     Yes    3776.0\n",
       "63    26    7.0      10.0      No    4977.0\n",
       "84    26    5.0       6.0      No    2761.0\n",
       "112   26    9.0       7.0     Yes    3301.0\n",
       "113   26   10.0       8.0     Yes    4174.0\n",
       "141   26    9.0       8.0     Yes    4194.0\n",
       "143   26    6.0       6.0      No    3025.0\n",
       "170   26    4.0       7.0      No    3338.0\n",
       "206   26    6.0       6.0      No    2814.0\n",
       "215   26    8.0       8.0      No    3787.0\n",
       "218   26    6.0      10.0      No    5124.0\n",
       "223   26    5.0       8.0     Yes    3798.0\n",
       "233   26    6.0       6.0      No    2835.0\n",
       "234   26    4.0       6.0     Yes    2825.0\n",
       "239   26    6.0      10.0      No    5077.0\n",
       "240   26    7.0       9.0     Yes    4430.0\n",
       "274   26    9.0      10.0      No    4914.0\n",
       "303   26    7.0       8.0      No    3876.0\n",
       "318   26    9.0       5.0      No    2692.0\n",
       "328   26    7.0       9.0     Yes    4644.0\n",
       "340   26    4.0      10.0      No    4831.0\n",
       "345   26    5.0      10.0     Yes    5244.0\n",
       "362   26    5.0       7.0     Yes    3375.0\n",
       "388   26    9.0       8.0     Yes    4230.0\n",
       "394   26    6.0       4.0     Yes    1924.0\n",
       "405   26    9.0       6.0      No    3089.0\n",
       "412   26    6.0       6.0     Yes    3099.0\n",
       "421   26    7.0      11.0     Yes    5669.0\n",
       "472   26    6.0       8.0      No    4086.0"
      ]
     },
     "execution_count": 75,
     "metadata": {},
     "output_type": "execute_result"
    }
   ],
   "source": [
    "# Filter data set by age of 26\n",
    "filtered_data = df[(df.Age == 26)]\n",
    "filtered_data"
   ]
  },
  {
   "cell_type": "markdown",
   "metadata": {},
   "source": [
    "Next up, athletes should only train on average 6 hours per day based on our research and should rest for 9 hours of recovery time if training for 6 hours. But since we have no athletes that fall into this category we will take the nearest hours of 8 hours and 10 hours. Since these last 4 athletes don't drink either then we are left to analysis the calories of each athlete to find the best performing one."
   ]
  },
  {
   "cell_type": "code",
   "execution_count": 73,
   "metadata": {},
   "outputs": [
    {
     "data": {
      "text/html": [
       "<div>\n",
       "<style>\n",
       "    .dataframe thead tr:only-child th {\n",
       "        text-align: right;\n",
       "    }\n",
       "\n",
       "    .dataframe thead th {\n",
       "        text-align: left;\n",
       "    }\n",
       "\n",
       "    .dataframe tbody tr th {\n",
       "        vertical-align: top;\n",
       "    }\n",
       "</style>\n",
       "<table border=\"1\" class=\"dataframe\">\n",
       "  <thead>\n",
       "    <tr style=\"text-align: right;\">\n",
       "      <th></th>\n",
       "      <th>Age</th>\n",
       "      <th>Train</th>\n",
       "      <th>Recovery</th>\n",
       "      <th>Alcohol</th>\n",
       "      <th>Calories</th>\n",
       "    </tr>\n",
       "  </thead>\n",
       "  <tbody>\n",
       "    <tr>\n",
       "      <th>0</th>\n",
       "      <td>26</td>\n",
       "      <td>6.0</td>\n",
       "      <td>10.0</td>\n",
       "      <td>No</td>\n",
       "      <td>5100.0</td>\n",
       "    </tr>\n",
       "    <tr>\n",
       "      <th>218</th>\n",
       "      <td>26</td>\n",
       "      <td>6.0</td>\n",
       "      <td>10.0</td>\n",
       "      <td>No</td>\n",
       "      <td>5124.0</td>\n",
       "    </tr>\n",
       "    <tr>\n",
       "      <th>239</th>\n",
       "      <td>26</td>\n",
       "      <td>6.0</td>\n",
       "      <td>10.0</td>\n",
       "      <td>No</td>\n",
       "      <td>5077.0</td>\n",
       "    </tr>\n",
       "    <tr>\n",
       "      <th>472</th>\n",
       "      <td>26</td>\n",
       "      <td>6.0</td>\n",
       "      <td>8.0</td>\n",
       "      <td>No</td>\n",
       "      <td>4086.0</td>\n",
       "    </tr>\n",
       "  </tbody>\n",
       "</table>\n",
       "</div>"
      ],
      "text/plain": [
       "     Age  Train  Recovery Alcohol  Calories\n",
       "0     26    6.0      10.0      No    5100.0\n",
       "218   26    6.0      10.0      No    5124.0\n",
       "239   26    6.0      10.0      No    5077.0\n",
       "472   26    6.0       8.0      No    4086.0"
      ]
     },
     "execution_count": 73,
     "metadata": {},
     "output_type": "execute_result"
    }
   ],
   "source": [
    "# Filter data set by age of 26, training hours of 6 & recovery hours by greater than 8 hours\n",
    "filtered_data = df[(df.Age == 26) & (df.Train == 6) & (df.Recovery >= 8)]\n",
    "filtered_data"
   ]
  },
  {
   "cell_type": "code",
   "execution_count": 74,
   "metadata": {},
   "outputs": [
    {
     "data": {
      "text/plain": [
       "Age           26\n",
       "Train          6\n",
       "Recovery       8\n",
       "Alcohol       No\n",
       "Calories    4086\n",
       "Name: 472, dtype: object"
      ]
     },
     "execution_count": 74,
     "metadata": {},
     "output_type": "execute_result"
    }
   ],
   "source": [
    "# Find athlete 472 by using iloc\n",
    "df.iloc[472]"
   ]
  },
  {
   "cell_type": "markdown",
   "metadata": {
    "collapsed": true
   },
   "source": [
    "So, from all the data created, the athlete that should be performing the best is athlete 472. The athlete is at their peak at age 26. They train the recommended hours of 6 hours. They do not rest for the 9 hours recommended but they do rest for 8 hours per day and of the 4 athletes left athlete 472 is eating the recommended calories of 4000 calories per day based on training 6 hours per day.\n"
   ]
  },
  {
   "cell_type": "markdown",
   "metadata": {},
   "source": [
    "## References"
   ]
  },
  {
   "cell_type": "markdown",
   "metadata": {
    "collapsed": true
   },
   "source": [
    "[1] http://theconversation.com/how-does-aging-affect-athletic-performance-36051"
   ]
  },
  {
   "cell_type": "markdown",
   "metadata": {},
   "source": [
    "[2] https://www.joefrielsblog.com/2017/01/how-important-is-training-volume.html"
   ]
  },
  {
   "cell_type": "markdown",
   "metadata": {},
   "source": [
    "[3] http://blog.isportsanalysis.com/what-sport-performance-analysis/"
   ]
  },
  {
   "cell_type": "markdown",
   "metadata": {
    "collapsed": true
   },
   "source": [
    "[4] http://www.askaboutalcohol.ie/health/sports-performance/"
   ]
  },
  {
   "cell_type": "markdown",
   "metadata": {},
   "source": [
    "[5] https://believeperform.com/performance/overtraining-how-to-prevent-it/"
   ]
  },
  {
   "cell_type": "markdown",
   "metadata": {},
   "source": [
    "[6] https://drmichellecleere.com/blog/undertraining-and-overtraining/"
   ]
  },
  {
   "cell_type": "markdown",
   "metadata": {
    "collapsed": true
   },
   "source": [
    "[7] https://www.voanews.com/a/professional-athletes-prepare-for-life-after-sports-118377659/163130.html"
   ]
  },
  {
   "cell_type": "markdown",
   "metadata": {
    "collapsed": true
   },
   "source": [
    "[8] https://healthyeating.sfgate.com/caloric-needs-athletes-7179.html"
   ]
  },
  {
   "cell_type": "markdown",
   "metadata": {},
   "source": [
    "[9] https://www.npr.org/sections/thesalt/2012/07/24/157317262/how-many-calories-do-olympic-athletes-need-it-depends?t=1543683876145"
   ]
  },
  {
   "cell_type": "markdown",
   "metadata": {},
   "source": [
    "[10] https://www.verywellfit.com/the-benefits-of-rest-and-recovery-after-exercise-3120575"
   ]
  },
  {
   "cell_type": "markdown",
   "metadata": {
    "collapsed": true
   },
   "source": [
    "[11] http://www.mastersathlete.com.au/2017/03/weve-proved-it-older-athletes-do-take-longer-to-recover/"
   ]
  },
  {
   "cell_type": "markdown",
   "metadata": {
    "collapsed": true
   },
   "source": [
    "[12] https://www.dataquest.io/blog/numpy-tutorial-python/"
   ]
  },
  {
   "cell_type": "markdown",
   "metadata": {
    "collapsed": true
   },
   "source": [
    "[13] https://greatist.com/fitness/over-hill-have-you-passed-peak-performance"
   ]
  },
  {
   "cell_type": "markdown",
   "metadata": {
    "collapsed": true
   },
   "source": [
    "[14] http://time.com/5154982/age-requirement-olympics-2018/"
   ]
  },
  {
   "cell_type": "markdown",
   "metadata": {},
   "source": [
    "[15] \"Fatigue and underperformance in athletes: the overtraining syndrome\" by Richard Budgett (1998)"
   ]
  },
  {
   "cell_type": "markdown",
   "metadata": {},
   "source": [
    "[16] https://theconversation.com/how-does-aging-affect-athletic-performance-36051"
   ]
  },
  {
   "cell_type": "markdown",
   "metadata": {},
   "source": [
    "[17] https://www.ncbi.nlm.nih.gov/pubmed/29345524"
   ]
  },
  {
   "cell_type": "markdown",
   "metadata": {},
   "source": [
    "[18] https://www.gssiweb.org/sports-science-exchange/article/sse-120-recovery-techniques-for-athletes"
   ]
  },
  {
   "cell_type": "markdown",
   "metadata": {},
   "source": [
    "[19] https://www.ncbi.nlm.nih.gov/pmc/articles/PMC3257708/#B54-nutrients-02-00781"
   ]
  }
 ],
 "metadata": {
  "kernelspec": {
   "display_name": "Python 3",
   "language": "python",
   "name": "python3"
  },
  "language_info": {
   "codemirror_mode": {
    "name": "ipython",
    "version": 3
   },
   "file_extension": ".py",
   "mimetype": "text/x-python",
   "name": "python",
   "nbconvert_exporter": "python",
   "pygments_lexer": "ipython3",
   "version": "3.6.3"
  }
 },
 "nbformat": 4,
 "nbformat_minor": 2
}
